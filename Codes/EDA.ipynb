{
 "cells": [
  {
   "cell_type": "code",
   "execution_count": 1,
   "metadata": {},
   "outputs": [],
   "source": [
    "import pandas as pd\n",
    "import numpy as np\n",
    "import matplotlib.pyplot as plt\n",
    "import seaborn as sns\n",
    "from sklearn.metrics import mean_squared_error\n",
    "import gc\n",
    "import time\n",
    "from pandas.core.common import SettingWithCopyWarning\n",
    "import warnings\n",
    "from collections import Counter\n",
    "from sklearn.model_selection import GroupKFold\n",
    "warnings.simplefilter('error', SettingWithCopyWarning)\n",
    "gc.enable()\n",
    "%matplotlib inline\n",
    "\n"
   ]
  },
  {
   "cell_type": "code",
   "execution_count": 2,
   "metadata": {},
   "outputs": [
    {
     "name": "stderr",
     "output_type": "stream",
     "text": [
      "C:\\Users\\bapa6\\Anaconda3\\lib\\site-packages\\IPython\\core\\interactiveshell.py:2785: DtypeWarning: Columns (2,49) have mixed types. Specify dtype option on import or set low_memory=False.\n",
      "  interactivity=interactivity, compiler=compiler, result=result)\n"
     ]
    }
   ],
   "source": [
    "train=pd.read_csv(\"train-flattened.csv\")\n",
    "\n"
   ]
  },
  {
   "cell_type": "code",
   "execution_count": 3,
   "metadata": {
    "scrolled": true
   },
   "outputs": [
    {
     "data": {
      "text/plain": [
       "Index(['channelGrouping', 'fullVisitorId', 'sessionId', 'socialEngagementType',\n",
       "       'device.browser', 'device.browserSize', 'device.browserVersion',\n",
       "       'device.deviceCategory', 'device.flashVersion', 'device.language',\n",
       "       'device.mobileDeviceBranding', 'device.mobileDeviceInfo',\n",
       "       'device.mobileDeviceMarketingName', 'device.mobileDeviceModel',\n",
       "       'device.mobileInputSelector', 'device.operatingSystem',\n",
       "       'device.operatingSystemVersion', 'device.screenColors',\n",
       "       'device.screenResolution', 'geoNetwork.city', 'geoNetwork.cityId',\n",
       "       'geoNetwork.continent', 'geoNetwork.country', 'geoNetwork.latitude',\n",
       "       'geoNetwork.longitude', 'geoNetwork.metro', 'geoNetwork.networkDomain',\n",
       "       'geoNetwork.networkLocation', 'geoNetwork.region',\n",
       "       'geoNetwork.subContinent', 'trafficSource.adContent',\n",
       "       'trafficSource.adwordsClickInfo.adNetworkType',\n",
       "       'trafficSource.adwordsClickInfo.criteriaParameters',\n",
       "       'trafficSource.adwordsClickInfo.gclId',\n",
       "       'trafficSource.adwordsClickInfo.isVideoAd',\n",
       "       'trafficSource.adwordsClickInfo.slot', 'trafficSource.campaign',\n",
       "       'trafficSource.campaignCode', 'trafficSource.isTrueDirect',\n",
       "       'trafficSource.keyword', 'trafficSource.medium',\n",
       "       'trafficSource.referralPath', 'trafficSource.source'],\n",
       "      dtype='object')"
      ]
     },
     "execution_count": 3,
     "metadata": {},
     "output_type": "execute_result"
    }
   ],
   "source": [
    "train.columns\n",
    "train_numeric = train.select_dtypes(include=np.number)\n",
    "traincat = train.select_dtypes(include=[object])\n",
    "traincat.columns\n"
   ]
  },
  {
   "cell_type": "code",
   "execution_count": 20,
   "metadata": {},
   "outputs": [
    {
     "data": {
      "text/plain": [
       "pandas.core.series.Series"
      ]
     },
     "execution_count": 20,
     "metadata": {},
     "output_type": "execute_result"
    }
   ],
   "source": [
    "devtype=traincat.groupby(\"device.deviceCategory\").count()[\"fullVisitorId\"]\n",
    "browser=traincat.groupby(\"device.browser\").count()[\"fullVisitorId\"]\n",
    "type(browser)\n",
    "#matplotlib.pyplot.bar(x, height, width=0.8, bottom=None, *, align='center', data=None, **kwargs)"
   ]
  },
  {
   "cell_type": "code",
   "execution_count": 30,
   "metadata": {},
   "outputs": [
    {
     "data": {
      "text/plain": [
       "device.browser\n",
       "(not set)                                           8\n",
       "0                                                   7\n",
       "ADM                                                 1\n",
       "Amazon Silk                                       561\n",
       "Android Browser                                   553\n",
       "Android Runtime                                     2\n",
       "Android Webview                                  7865\n",
       "Apple-iPhone7C2                                     9\n",
       "BlackBerry                                        184\n",
       "CSM Click                                           1\n",
       "Changa 99695759                                     1\n",
       "Chrome                                         620364\n",
       "Coc Coc                                           727\n",
       "DASH_JR_3G                                          4\n",
       "DoCoMo                                              1\n",
       "Edge                                            10205\n",
       "Firefox                                         37069\n",
       "HTC802t_TD                                          1\n",
       "Hisense M20-M_LTE                                   1\n",
       "IE with Chrome Frame                                1\n",
       "Internet Explorer                               19375\n",
       "Iron                                               33\n",
       "Konqueror                                           1\n",
       "LYF_LS_4002_11                                      3\n",
       "LYF_LS_4002_12                                     21\n",
       "Lunascape                                           5\n",
       "M5                                                  1\n",
       "MQQBrowser                                          2\n",
       "MRCHROME                                          263\n",
       "Maxthon                                           246\n",
       "Mozilla                                            11\n",
       "Mozilla Compatible Agent                          374\n",
       "Nichrome                                            7\n",
       "Nintendo Browser                                  140\n",
       "Nokia Browser                                      67\n",
       "NokiaE52-1                                          2\n",
       "Opera                                            5643\n",
       "Opera Mini                                       6139\n",
       "Puffin                                             93\n",
       "Reddit                                              1\n",
       "Safari                                         182245\n",
       "Safari (in-app)                                  6850\n",
       "SeaMonkey                                          15\n",
       "Seznam                                             11\n",
       "TCL P500M                                           1\n",
       "ThumbSniper                                         3\n",
       "UC Browser                                       2427\n",
       "User Agent                                          1\n",
       "YE                                                  2\n",
       "YaBrowser                                        2096\n",
       "[Use default User-agent string] LIVRENPOCHE         1\n",
       "no-ua                                               3\n",
       "osee2unifiedRelease                                 5\n",
       "subjectAgent: NoticiasBoom                          1\n",
       "Name: fullVisitorId, dtype: int64"
      ]
     },
     "execution_count": 30,
     "metadata": {},
     "output_type": "execute_result"
    }
   ],
   "source": [
    "browser"
   ]
  },
  {
   "cell_type": "code",
   "execution_count": 31,
   "metadata": {
    "scrolled": true
   },
   "outputs": [
    {
     "data": {
      "text/plain": [
       "1"
      ]
     },
     "execution_count": 31,
     "metadata": {},
     "output_type": "execute_result"
    }
   ],
   "source": [
    "browser.index[2]\n",
    "browser[2]"
   ]
  },
  {
   "cell_type": "code",
   "execution_count": 118,
   "metadata": {
    "scrolled": true
   },
   "outputs": [],
   "source": [
    "bar1x=[]\n",
    "bar1y=[]\n",
    "for i in range(len(browser)):\n",
    "    bar1x.append(browser.index[i])\n",
    "    bar1y.append(browser[i])\n",
    "devicex=[]\n",
    "devicey=[]\n",
    "for i in range(len(devtype)):\n",
    "    devicex.append(devtype.index[i])\n",
    "    devicey.append(devtype[i])\n"
   ]
  },
  {
   "cell_type": "code",
   "execution_count": 119,
   "metadata": {
    "scrolled": true
   },
   "outputs": [
    {
     "data": {
      "text/plain": [
       "['others',\n",
       " 'others',\n",
       " 'others',\n",
       " 'mobile browser',\n",
       " 'mobile browser',\n",
       " 'mobile browser',\n",
       " 'mobile browser',\n",
       " 'mobile browser',\n",
       " 'mobile browser',\n",
       " 'others',\n",
       " 'others',\n",
       " 'chrome',\n",
       " 'coc coc',\n",
       " 'others',\n",
       " 'others',\n",
       " 'edge',\n",
       " 'firefox',\n",
       " 'others',\n",
       " 'others',\n",
       " 'mobile browser',\n",
       " 'internet explorer',\n",
       " 'iron',\n",
       " 'mobile browser',\n",
       " 'others',\n",
       " 'others',\n",
       " 'mobile browser',\n",
       " 'others',\n",
       " 'mobile browser',\n",
       " 'mobile browser',\n",
       " 'maxthon',\n",
       " 'mobile browser',\n",
       " 'mobile browser',\n",
       " 'mobile browser',\n",
       " 'mobile browser',\n",
       " 'mobile browser',\n",
       " 'mobile browser',\n",
       " 'opera',\n",
       " 'mobile browser',\n",
       " 'mobile browser',\n",
       " 'others',\n",
       " 'safari',\n",
       " 'mobile browser',\n",
       " 'others',\n",
       " 'others',\n",
       " 'others',\n",
       " 'others',\n",
       " 'mobile browser',\n",
       " 'others',\n",
       " 'others',\n",
       " 'mobile browser',\n",
       " 'others',\n",
       " 'others',\n",
       " 'others',\n",
       " 'others']"
      ]
     },
     "execution_count": 119,
     "metadata": {},
     "output_type": "execute_result"
    }
   ],
   "source": [
    "browsers = ['chrome','safari','firefox','internet explorer','edge','opera','coc coc','maxthon','iron']\n",
    "\n",
    "for i in range(len(bar1x)):\n",
    "    x = bar1x[i].lower()\n",
    "    if x in browsers:\n",
    "        bar1x[i]=bar1x[i].lower()\n",
    "    elif  ('android' in x) or ('samsung' in x) or ('mini' in x) or ('iphone' in x) or ('in-app' in x) or ('playstation' in x) or ('mozilla' in x) or ('chrome' in x) or ('blackberry' in x) or ('nokia' in x) or ('browser' in x) or ('amazon' in x) or ('lunascape' in x) or ('netscape' in x) or ('blackberry' in x) or ('konqueror' in x) or ('puffin' in x):\n",
    "        bar1x[i] = 'mobile browser'\n",
    "    #elif  ('mozilla' in x) or ('chrome' in x) or ('blackberry' in x) or ('nokia' in x) or ('browser' in x) or ('amazon' in x):\n",
    "     #   bar1x[i] = 'mobile browser'\n",
    "    #elif  ('lunascape' in x) or ('netscape' in x) or ('blackberry' in x) or ('konqueror' in x) or ('puffin' in x) or ('amazon' in x):\n",
    "     #   bar1x[i] = 'mobile browser'        \n",
    "    else:\n",
    "        bar1x[i] = 'others'\n",
    "bar1x"
   ]
  },
  {
   "cell_type": "code",
   "execution_count": 61,
   "metadata": {
    "scrolled": true
   },
   "outputs": [
    {
     "data": {
      "text/plain": [
       "['others',\n",
       " 'others',\n",
       " 'others',\n",
       " 'mobile browser',\n",
       " 'mobile browser',\n",
       " 'mobile browser',\n",
       " 'mobile browser',\n",
       " 'mobile browser',\n",
       " 'mobile browser',\n",
       " 'others',\n",
       " 'others',\n",
       " 'chrome',\n",
       " 'coc coc',\n",
       " 'others',\n",
       " 'others',\n",
       " 'edge',\n",
       " 'firefox',\n",
       " 'others',\n",
       " 'others',\n",
       " 'mobile browser',\n",
       " 'internet explorer',\n",
       " 'iron',\n",
       " 'mobile browser',\n",
       " 'others',\n",
       " 'others',\n",
       " 'mobile browser',\n",
       " 'others',\n",
       " 'mobile browser',\n",
       " 'mobile browser',\n",
       " 'maxthon',\n",
       " 'mobile browser',\n",
       " 'mobile browser',\n",
       " 'mobile browser',\n",
       " 'mobile browser',\n",
       " 'mobile browser',\n",
       " 'mobile browser',\n",
       " 'opera',\n",
       " 'mobile browser',\n",
       " 'mobile browser',\n",
       " 'others',\n",
       " 'safari',\n",
       " 'mobile browser',\n",
       " 'others',\n",
       " 'others',\n",
       " 'others',\n",
       " 'others',\n",
       " 'mobile browser',\n",
       " 'others',\n",
       " 'others',\n",
       " 'mobile browser',\n",
       " 'others',\n",
       " 'others',\n",
       " 'others',\n",
       " 'others']"
      ]
     },
     "execution_count": 61,
     "metadata": {},
     "output_type": "execute_result"
    }
   ],
   "source": [
    "browsers = ['chrome','safari','firefox','internet explorer','edge','opera','coc coc','maxthon','iron']\n",
    "\n",
    "for i in range(len(bar1x)):\n",
    "    x = bar1x[i].lower()\n",
    "    if x in browsers:\n",
    "        bar1x[i]=bar1x[i].lower()\n",
    "    elif  ('android' in x) or ('samsung' in x) or ('mini' in x) or ('iphone' in x) or ('in-app' in x) or ('playstation' in x):\n",
    "        bar1x[i] = 'mobile browser'\n",
    "    elif  ('mozilla' in x) or ('chrome' in x) or ('blackberry' in x) or ('nokia' in x) or ('browser' in x) or ('amazon' in x):\n",
    "        bar1x[i] = 'mobile browser'\n",
    "    elif  ('lunascape' in x) or ('netscape' in x) or ('blackberry' in x) or ('konqueror' in x) or ('puffin' in x) or ('amazon' in x):\n",
    "        bar1x[i] = 'mobile browser'        \n",
    "    else:\n",
    "        bar1x[i] = 'others'"
   ]
  },
  {
   "cell_type": "code",
   "execution_count": 76,
   "metadata": {
    "scrolled": false
   },
   "outputs": [
    {
     "data": {
      "text/plain": [
       "<matplotlib.axes._subplots.AxesSubplot at 0x1779eda8e48>"
      ]
     },
     "execution_count": 76,
     "metadata": {},
     "output_type": "execute_result"
    },
    {
     "data": {
      "image/png": "[encoded data removed]",
      "text/plain": [
       "<Figure size 576x720 with 1 Axes>"
      ]
     },
     "metadata": {},
     "output_type": "display_data"
    }
   ],
   "source": [
    "plt.figure(figsize=(8, 10))\n",
    "sns.barplot(x=bar1y, y=bar1x,width)"
   ]
  },
  {
   "cell_type": "code",
   "execution_count": 122,
   "metadata": {},
   "outputs": [
    {
     "data": {
      "text/plain": [
       "<matplotlib.axes._subplots.AxesSubplot at 0x1779eaf8390>"
      ]
     },
     "execution_count": 122,
     "metadata": {},
     "output_type": "execute_result"
    },
    {
     "data": {
      "image/png": "[encoded data removed]",
      "text/plain": [
       "<Figure size 576x720 with 1 Axes>"
      ]
     },
     "metadata": {},
     "output_type": "display_data"
    }
   ],
   "source": [
    "plt.figure(figsize=(8, 10))\n",
    "sns.barplot(x=devicey, y=devicex)"
   ]
  },
  {
   "cell_type": "code",
   "execution_count": 113,
   "metadata": {
    "scrolled": true
   },
   "outputs": [
    {
     "data": {
      "text/html": [
       "<div>\n",
       "<style scoped>\n",
       "    .dataframe tbody tr th:only-of-type {\n",
       "        vertical-align: middle;\n",
       "    }\n",
       "\n",
       "    .dataframe tbody tr th {\n",
       "        vertical-align: top;\n",
       "    }\n",
       "\n",
       "    .dataframe thead th {\n",
       "        text-align: right;\n",
       "    }\n",
       "</style>\n",
       "<table border=\"1\" class=\"dataframe\">\n",
       "  <thead>\n",
       "    <tr style=\"text-align: right;\">\n",
       "      <th></th>\n",
       "      <th>0</th>\n",
       "    </tr>\n",
       "  </thead>\n",
       "  <tbody>\n",
       "    <tr>\n",
       "      <th>0</th>\n",
       "      <td>(not set)</td>\n",
       "    </tr>\n",
       "    <tr>\n",
       "      <th>1</th>\n",
       "      <td>0</td>\n",
       "    </tr>\n",
       "    <tr>\n",
       "      <th>2</th>\n",
       "      <td>adm</td>\n",
       "    </tr>\n",
       "    <tr>\n",
       "      <th>3</th>\n",
       "      <td>amazon silk</td>\n",
       "    </tr>\n",
       "    <tr>\n",
       "      <th>4</th>\n",
       "      <td>android browser</td>\n",
       "    </tr>\n",
       "    <tr>\n",
       "      <th>5</th>\n",
       "      <td>android runtime</td>\n",
       "    </tr>\n",
       "    <tr>\n",
       "      <th>6</th>\n",
       "      <td>android webview</td>\n",
       "    </tr>\n",
       "    <tr>\n",
       "      <th>7</th>\n",
       "      <td>apple-iphone7c2</td>\n",
       "    </tr>\n",
       "    <tr>\n",
       "      <th>8</th>\n",
       "      <td>blackberry</td>\n",
       "    </tr>\n",
       "    <tr>\n",
       "      <th>9</th>\n",
       "      <td>csm click</td>\n",
       "    </tr>\n",
       "    <tr>\n",
       "      <th>10</th>\n",
       "      <td>changa 99695759</td>\n",
       "    </tr>\n",
       "    <tr>\n",
       "      <th>11</th>\n",
       "      <td>chrome</td>\n",
       "    </tr>\n",
       "    <tr>\n",
       "      <th>12</th>\n",
       "      <td>coc coc</td>\n",
       "    </tr>\n",
       "    <tr>\n",
       "      <th>13</th>\n",
       "      <td>dash_jr_3g</td>\n",
       "    </tr>\n",
       "    <tr>\n",
       "      <th>14</th>\n",
       "      <td>docomo</td>\n",
       "    </tr>\n",
       "    <tr>\n",
       "      <th>15</th>\n",
       "      <td>edge</td>\n",
       "    </tr>\n",
       "    <tr>\n",
       "      <th>16</th>\n",
       "      <td>firefox</td>\n",
       "    </tr>\n",
       "    <tr>\n",
       "      <th>17</th>\n",
       "      <td>htc802t_td</td>\n",
       "    </tr>\n",
       "    <tr>\n",
       "      <th>18</th>\n",
       "      <td>hisense m20-m_lte</td>\n",
       "    </tr>\n",
       "    <tr>\n",
       "      <th>19</th>\n",
       "      <td>chrome</td>\n",
       "    </tr>\n",
       "    <tr>\n",
       "      <th>20</th>\n",
       "      <td>internet explorer</td>\n",
       "    </tr>\n",
       "    <tr>\n",
       "      <th>21</th>\n",
       "      <td>iron</td>\n",
       "    </tr>\n",
       "    <tr>\n",
       "      <th>22</th>\n",
       "      <td>konqueror</td>\n",
       "    </tr>\n",
       "    <tr>\n",
       "      <th>23</th>\n",
       "      <td>lyf_ls_4002_11</td>\n",
       "    </tr>\n",
       "    <tr>\n",
       "      <th>24</th>\n",
       "      <td>lyf_ls_4002_12</td>\n",
       "    </tr>\n",
       "    <tr>\n",
       "      <th>25</th>\n",
       "      <td>lunascape</td>\n",
       "    </tr>\n",
       "    <tr>\n",
       "      <th>26</th>\n",
       "      <td>m5</td>\n",
       "    </tr>\n",
       "    <tr>\n",
       "      <th>27</th>\n",
       "      <td>mqqbrowser</td>\n",
       "    </tr>\n",
       "    <tr>\n",
       "      <th>28</th>\n",
       "      <td>chrome</td>\n",
       "    </tr>\n",
       "    <tr>\n",
       "      <th>29</th>\n",
       "      <td>maxthon</td>\n",
       "    </tr>\n",
       "    <tr>\n",
       "      <th>30</th>\n",
       "      <td>mozilla</td>\n",
       "    </tr>\n",
       "    <tr>\n",
       "      <th>31</th>\n",
       "      <td>mozilla compatible agent</td>\n",
       "    </tr>\n",
       "    <tr>\n",
       "      <th>32</th>\n",
       "      <td>chrome</td>\n",
       "    </tr>\n",
       "    <tr>\n",
       "      <th>33</th>\n",
       "      <td>nintendo browser</td>\n",
       "    </tr>\n",
       "    <tr>\n",
       "      <th>34</th>\n",
       "      <td>nokia browser</td>\n",
       "    </tr>\n",
       "    <tr>\n",
       "      <th>35</th>\n",
       "      <td>nokiae52-1</td>\n",
       "    </tr>\n",
       "    <tr>\n",
       "      <th>36</th>\n",
       "      <td>opera</td>\n",
       "    </tr>\n",
       "    <tr>\n",
       "      <th>37</th>\n",
       "      <td>opera</td>\n",
       "    </tr>\n",
       "    <tr>\n",
       "      <th>38</th>\n",
       "      <td>puffin</td>\n",
       "    </tr>\n",
       "    <tr>\n",
       "      <th>39</th>\n",
       "      <td>reddit</td>\n",
       "    </tr>\n",
       "    <tr>\n",
       "      <th>40</th>\n",
       "      <td>safari</td>\n",
       "    </tr>\n",
       "    <tr>\n",
       "      <th>41</th>\n",
       "      <td>safari</td>\n",
       "    </tr>\n",
       "    <tr>\n",
       "      <th>42</th>\n",
       "      <td>seamonkey</td>\n",
       "    </tr>\n",
       "    <tr>\n",
       "      <th>43</th>\n",
       "      <td>seznam</td>\n",
       "    </tr>\n",
       "    <tr>\n",
       "      <th>44</th>\n",
       "      <td>tcl p500m</td>\n",
       "    </tr>\n",
       "    <tr>\n",
       "      <th>45</th>\n",
       "      <td>thumbsniper</td>\n",
       "    </tr>\n",
       "    <tr>\n",
       "      <th>46</th>\n",
       "      <td>uc browser</td>\n",
       "    </tr>\n",
       "    <tr>\n",
       "      <th>47</th>\n",
       "      <td>user agent</td>\n",
       "    </tr>\n",
       "    <tr>\n",
       "      <th>48</th>\n",
       "      <td>ye</td>\n",
       "    </tr>\n",
       "    <tr>\n",
       "      <th>49</th>\n",
       "      <td>yabrowser</td>\n",
       "    </tr>\n",
       "    <tr>\n",
       "      <th>50</th>\n",
       "      <td>[use default user-agent string] livrenpoche</td>\n",
       "    </tr>\n",
       "    <tr>\n",
       "      <th>51</th>\n",
       "      <td>no-ua</td>\n",
       "    </tr>\n",
       "    <tr>\n",
       "      <th>52</th>\n",
       "      <td>osee2unifiedrelease</td>\n",
       "    </tr>\n",
       "    <tr>\n",
       "      <th>53</th>\n",
       "      <td>subjectagent: noticiasboom</td>\n",
       "    </tr>\n",
       "  </tbody>\n",
       "</table>\n",
       "</div>"
      ],
      "text/plain": [
       "                                              0\n",
       "0                                     (not set)\n",
       "1                                             0\n",
       "2                                           adm\n",
       "3                                   amazon silk\n",
       "4                               android browser\n",
       "5                               android runtime\n",
       "6                               android webview\n",
       "7                               apple-iphone7c2\n",
       "8                                    blackberry\n",
       "9                                     csm click\n",
       "10                              changa 99695759\n",
       "11                                       chrome\n",
       "12                                      coc coc\n",
       "13                                   dash_jr_3g\n",
       "14                                       docomo\n",
       "15                                         edge\n",
       "16                                      firefox\n",
       "17                                   htc802t_td\n",
       "18                            hisense m20-m_lte\n",
       "19                                       chrome\n",
       "20                            internet explorer\n",
       "21                                         iron\n",
       "22                                    konqueror\n",
       "23                               lyf_ls_4002_11\n",
       "24                               lyf_ls_4002_12\n",
       "25                                    lunascape\n",
       "26                                           m5\n",
       "27                                   mqqbrowser\n",
       "28                                       chrome\n",
       "29                                      maxthon\n",
       "30                                      mozilla\n",
       "31                     mozilla compatible agent\n",
       "32                                       chrome\n",
       "33                             nintendo browser\n",
       "34                                nokia browser\n",
       "35                                   nokiae52-1\n",
       "36                                        opera\n",
       "37                                        opera\n",
       "38                                       puffin\n",
       "39                                       reddit\n",
       "40                                       safari\n",
       "41                                       safari\n",
       "42                                    seamonkey\n",
       "43                                       seznam\n",
       "44                                    tcl p500m\n",
       "45                                  thumbsniper\n",
       "46                                   uc browser\n",
       "47                                   user agent\n",
       "48                                           ye\n",
       "49                                    yabrowser\n",
       "50  [use default user-agent string] livrenpoche\n",
       "51                                        no-ua\n",
       "52                          osee2unifiedrelease\n",
       "53                   subjectagent: noticiasboom"
      ]
     },
     "execution_count": 113,
     "metadata": {},
     "output_type": "execute_result"
    }
   ],
   "source": [
    "#for i in range(len(bar1x)):\n",
    " #   bar1x[i]=bar1x[i].lower()\n",
    "#bar1x = bar1x.lower()\n",
    "bar1x = [x.lower() for x in bar1x]\n",
    "bar1x=pd.DataFrame(bar1x)\n",
    "browsers = ['chrome','safari','firefox','internet explorer','edge','opera','coc coc','maxthon','iron']\n",
    "def replace_source(data, list_sources):\n",
    "    for source in list_sources:\n",
    "        data = data.apply(lambda x: source if source in str(x) else x)\n",
    "    return data\n",
    "list_sources = browsers  # Add your sources\n",
    "bar1x[0] = replace_source(bar1x[0], list_sources)\n",
    "bar1x"
   ]
  },
  {
   "cell_type": "code",
   "execution_count": 109,
   "metadata": {
    "scrolled": true
   },
   "outputs": [
    {
     "data": {
      "text/plain": [
       "0                                       (not set)\n",
       "1                                               0\n",
       "2                                             adm\n",
       "3                                     amazon silk\n",
       "4                                 android browser\n",
       "5                                 android runtime\n",
       "6                                 android webview\n",
       "7                                 apple-iphone7c2\n",
       "8                                      blackberry\n",
       "9                                       csm click\n",
       "10                                changa 99695759\n",
       "11                                         chrome\n",
       "12                                        coc coc\n",
       "13                                     dash_jr_3g\n",
       "14                                         docomo\n",
       "15                                           edge\n",
       "16                                        firefox\n",
       "17                                     htc802t_td\n",
       "18                              hisense m20-m_lte\n",
       "19                           ie with chrome frame\n",
       "20                              internet explorer\n",
       "21                                           iron\n",
       "22                                      konqueror\n",
       "23                                 lyf_ls_4002_11\n",
       "24                                 lyf_ls_4002_12\n",
       "25                                      lunascape\n",
       "26                                             m5\n",
       "27                                     mqqbrowser\n",
       "28                                       mrchrome\n",
       "29                                        maxthon\n",
       "30                                        mozilla\n",
       "31                       mozilla compatible agent\n",
       "32                                       nichrome\n",
       "33                               nintendo browser\n",
       "34                                  nokia browser\n",
       "35                                     nokiae52-1\n",
       "36                                          opera\n",
       "37                                     opera mini\n",
       "38                                         puffin\n",
       "39                                         reddit\n",
       "40                                         safari\n",
       "41                                safari (in-app)\n",
       "42                                      seamonkey\n",
       "43                                         seznam\n",
       "44                                      tcl p500m\n",
       "45                                    thumbsniper\n",
       "46                                     uc browser\n",
       "47                                     user agent\n",
       "48                                             ye\n",
       "49                                      yabrowser\n",
       "50    [use default user-agent string] livrenpoche\n",
       "51                                          no-ua\n",
       "52                            osee2unifiedrelease\n",
       "53                     subjectagent: noticiasboom\n",
       "Name: 0, dtype: object"
      ]
     },
     "execution_count": 109,
     "metadata": {},
     "output_type": "execute_result"
    }
   ],
   "source": [
    "bar1x[0]"
   ]
  },
  {
   "cell_type": "code",
   "execution_count": null,
   "metadata": {},
   "outputs": [],
   "source": []
  }
 ],
 "metadata": {
  "kernelspec": {
   "display_name": "Python 3",
   "language": "python",
   "name": "python3"
  },
  "language_info": {
   "codemirror_mode": {
    "name": "ipython",
    "version": 3
   },
   "file_extension": ".py",
   "mimetype": "text/x-python",
   "name": "python",
   "nbconvert_exporter": "python",
   "pygments_lexer": "ipython3",
   "version": "3.6.5"
  }
 },
 "nbformat": 4,
 "nbformat_minor": 2
}
