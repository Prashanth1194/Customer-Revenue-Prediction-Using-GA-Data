{
 "cells": [
  {
   "cell_type": "markdown",
   "metadata": {},
   "source": [
    "### Loading the libraries"
   ]
  },
  {
   "cell_type": "code",
   "execution_count": 438,
   "metadata": {},
   "outputs": [],
   "source": [
    "%matplotlib inline\n",
    "\n",
    "import pandas as pd\n",
    "import numpy as np\n",
    "import matplotlib.pyplot as plt\n",
    "import seaborn as sns"
   ]
  },
  {
   "cell_type": "markdown",
   "metadata": {},
   "source": [
    "### Reading the data"
   ]
  },
  {
   "cell_type": "code",
   "execution_count": 624,
   "metadata": {},
   "outputs": [
    {
     "name": "stderr",
     "output_type": "stream",
     "text": [
      "C:\\Users\\prash\\Anaconda3\\lib\\site-packages\\IPython\\core\\interactiveshell.py:2728: DtypeWarning: Columns (2,49) have mixed types. Specify dtype option on import or set low_memory=False.\n",
      "  interactivity=interactivity, compiler=compiler, result=result)\n"
     ]
    },
    {
     "name": "stdout",
     "output_type": "stream",
     "text": [
      "(903653, 55)\n"
     ]
    }
   ],
   "source": [
    "train_df = pd.read_csv(\"train-flattened_v2.csv\")\n",
    "print(train_df.shape)"
   ]
  },
  {
   "cell_type": "code",
   "execution_count": 625,
   "metadata": {
    "scrolled": true
   },
   "outputs": [
    {
     "data": {
      "text/plain": [
       "Google Merchandise Collection                  5122\n",
       "Google Online Store                            1245\n",
       "Display Ad created 3/11/14                      967\n",
       "Full auto ad IMAGE ONLY                         822\n",
       "Ad from 12/13/16                                610\n",
       "Ad from 11/3/16                                 489\n",
       "Display Ad created 3/11/15                      392\n",
       "{KeyWord:Google Brand Items}                    251\n",
       "{KeyWord:Google Merchandise}                    155\n",
       "Ad from 11/7/16                                 123\n",
       "Google Merchandise                               87\n",
       "First Full Auto Template Test Ad                 87\n",
       "20% discount                                     75\n",
       "{KeyWord:Google Branded Gear}                    67\n",
       "{KeyWord:Looking for Google Bags?}               65\n",
       "Swag with Google Logos                           64\n",
       "Display Ad created 11/17/14                      50\n",
       "{KeyWord:Want Google Stickers?}                  42\n",
       "JD_5a_v1                                         41\n",
       "{KeyWord:Google Drinkware}                       32\n",
       "{KeyWord:Google Men's T-Shirts}                  30\n",
       "LeEco_1a                                         25\n",
       "Full auto ad TEXT ONLY                           16\n",
       "{KeyWord:Google Branded Kit}                     16\n",
       "{KeyWord:Google Branded Apparel}                 10\n",
       "Want Google Sunglasses                            8\n",
       "Google Paraphernalia                              7\n",
       "Full auto ad TEXT/NATIVE                          7\n",
       "{KeyWord:Google Branded Outerwear}                5\n",
       "{KeyWord:Want Google Pet Toys?}                   4\n",
       "Google Store                                      4\n",
       "Official Google Merchandise - Fast Shipping       4\n",
       "Ad from 2/17/17                                   3\n",
       "Full auto ad with Primary Color                   3\n",
       "Full auto ad NATIVE ONLY                          3\n",
       "url_builder                                       3\n",
       "free shipping                                     3\n",
       "Free Shipping!                                    2\n",
       "Google store                                      2\n",
       "GA Help Center                                    1\n",
       "Men's-Outerwear Google Apparel                    1\n",
       "visit us again                                    1\n",
       "google store                                      1\n",
       "Swag w/ Google Logos                              1\n",
       "Name: trafficSource.adContent, dtype: int64"
      ]
     },
     "execution_count": 625,
     "metadata": {},
     "output_type": "execute_result"
    }
   ],
   "source": [
    "train_df['trafficSource.adContent'].value_counts()"
   ]
  },
  {
   "cell_type": "markdown",
   "metadata": {},
   "source": [
    "### Sneak Peek at the data"
   ]
  },
  {
   "cell_type": "code",
   "execution_count": 626,
   "metadata": {
    "scrolled": true
   },
   "outputs": [
    {
     "data": {
      "text/html": [
       "<div>\n",
       "<style scoped>\n",
       "    .dataframe tbody tr th:only-of-type {\n",
       "        vertical-align: middle;\n",
       "    }\n",
       "\n",
       "    .dataframe tbody tr th {\n",
       "        vertical-align: top;\n",
       "    }\n",
       "\n",
       "    .dataframe thead th {\n",
       "        text-align: right;\n",
       "    }\n",
       "</style>\n",
       "<table border=\"1\" class=\"dataframe\">\n",
       "  <thead>\n",
       "    <tr style=\"text-align: right;\">\n",
       "      <th></th>\n",
       "      <th>channelGrouping</th>\n",
       "      <th>date</th>\n",
       "      <th>fullVisitorId</th>\n",
       "      <th>sessionId</th>\n",
       "      <th>socialEngagementType</th>\n",
       "      <th>visitId</th>\n",
       "      <th>visitNumber</th>\n",
       "      <th>visitStartTime</th>\n",
       "      <th>device.browser</th>\n",
       "      <th>device.browserSize</th>\n",
       "      <th>...</th>\n",
       "      <th>trafficSource.adwordsClickInfo.isVideoAd</th>\n",
       "      <th>trafficSource.adwordsClickInfo.page</th>\n",
       "      <th>trafficSource.adwordsClickInfo.slot</th>\n",
       "      <th>trafficSource.campaign</th>\n",
       "      <th>trafficSource.campaignCode</th>\n",
       "      <th>trafficSource.isTrueDirect</th>\n",
       "      <th>trafficSource.keyword</th>\n",
       "      <th>trafficSource.medium</th>\n",
       "      <th>trafficSource.referralPath</th>\n",
       "      <th>trafficSource.source</th>\n",
       "    </tr>\n",
       "  </thead>\n",
       "  <tbody>\n",
       "    <tr>\n",
       "      <th>0</th>\n",
       "      <td>Organic Search</td>\n",
       "      <td>20160902</td>\n",
       "      <td>1131660440785968503</td>\n",
       "      <td>1131660440785968503_1472830385</td>\n",
       "      <td>Not Socially Engaged</td>\n",
       "      <td>1472830385</td>\n",
       "      <td>1</td>\n",
       "      <td>1472830385</td>\n",
       "      <td>Chrome</td>\n",
       "      <td>not available in demo dataset</td>\n",
       "      <td>...</td>\n",
       "      <td>NaN</td>\n",
       "      <td>NaN</td>\n",
       "      <td>NaN</td>\n",
       "      <td>(not set)</td>\n",
       "      <td>NaN</td>\n",
       "      <td>NaN</td>\n",
       "      <td>(not provided)</td>\n",
       "      <td>organic</td>\n",
       "      <td>NaN</td>\n",
       "      <td>google</td>\n",
       "    </tr>\n",
       "    <tr>\n",
       "      <th>1</th>\n",
       "      <td>Organic Search</td>\n",
       "      <td>20160902</td>\n",
       "      <td>377306020877927890</td>\n",
       "      <td>377306020877927890_1472880147</td>\n",
       "      <td>Not Socially Engaged</td>\n",
       "      <td>1472880147</td>\n",
       "      <td>1</td>\n",
       "      <td>1472880147</td>\n",
       "      <td>Firefox</td>\n",
       "      <td>not available in demo dataset</td>\n",
       "      <td>...</td>\n",
       "      <td>NaN</td>\n",
       "      <td>NaN</td>\n",
       "      <td>NaN</td>\n",
       "      <td>(not set)</td>\n",
       "      <td>NaN</td>\n",
       "      <td>NaN</td>\n",
       "      <td>(not provided)</td>\n",
       "      <td>organic</td>\n",
       "      <td>NaN</td>\n",
       "      <td>google</td>\n",
       "    </tr>\n",
       "    <tr>\n",
       "      <th>2</th>\n",
       "      <td>Organic Search</td>\n",
       "      <td>20160902</td>\n",
       "      <td>3895546263509774583</td>\n",
       "      <td>3895546263509774583_1472865386</td>\n",
       "      <td>Not Socially Engaged</td>\n",
       "      <td>1472865386</td>\n",
       "      <td>1</td>\n",
       "      <td>1472865386</td>\n",
       "      <td>Chrome</td>\n",
       "      <td>not available in demo dataset</td>\n",
       "      <td>...</td>\n",
       "      <td>NaN</td>\n",
       "      <td>NaN</td>\n",
       "      <td>NaN</td>\n",
       "      <td>(not set)</td>\n",
       "      <td>NaN</td>\n",
       "      <td>NaN</td>\n",
       "      <td>(not provided)</td>\n",
       "      <td>organic</td>\n",
       "      <td>NaN</td>\n",
       "      <td>google</td>\n",
       "    </tr>\n",
       "    <tr>\n",
       "      <th>3</th>\n",
       "      <td>Organic Search</td>\n",
       "      <td>20160902</td>\n",
       "      <td>4763447161404445595</td>\n",
       "      <td>4763447161404445595_1472881213</td>\n",
       "      <td>Not Socially Engaged</td>\n",
       "      <td>1472881213</td>\n",
       "      <td>1</td>\n",
       "      <td>1472881213</td>\n",
       "      <td>UC Browser</td>\n",
       "      <td>not available in demo dataset</td>\n",
       "      <td>...</td>\n",
       "      <td>NaN</td>\n",
       "      <td>NaN</td>\n",
       "      <td>NaN</td>\n",
       "      <td>(not set)</td>\n",
       "      <td>NaN</td>\n",
       "      <td>NaN</td>\n",
       "      <td>google + online</td>\n",
       "      <td>organic</td>\n",
       "      <td>NaN</td>\n",
       "      <td>google</td>\n",
       "    </tr>\n",
       "    <tr>\n",
       "      <th>4</th>\n",
       "      <td>Organic Search</td>\n",
       "      <td>20160902</td>\n",
       "      <td>27294437909732085</td>\n",
       "      <td>27294437909732085_1472822600</td>\n",
       "      <td>Not Socially Engaged</td>\n",
       "      <td>1472822600</td>\n",
       "      <td>2</td>\n",
       "      <td>1472822600</td>\n",
       "      <td>Chrome</td>\n",
       "      <td>not available in demo dataset</td>\n",
       "      <td>...</td>\n",
       "      <td>NaN</td>\n",
       "      <td>NaN</td>\n",
       "      <td>NaN</td>\n",
       "      <td>(not set)</td>\n",
       "      <td>NaN</td>\n",
       "      <td>True</td>\n",
       "      <td>(not provided)</td>\n",
       "      <td>organic</td>\n",
       "      <td>NaN</td>\n",
       "      <td>google</td>\n",
       "    </tr>\n",
       "  </tbody>\n",
       "</table>\n",
       "<p>5 rows × 55 columns</p>\n",
       "</div>"
      ],
      "text/plain": [
       "  channelGrouping      date        fullVisitorId  \\\n",
       "0  Organic Search  20160902  1131660440785968503   \n",
       "1  Organic Search  20160902   377306020877927890   \n",
       "2  Organic Search  20160902  3895546263509774583   \n",
       "3  Organic Search  20160902  4763447161404445595   \n",
       "4  Organic Search  20160902    27294437909732085   \n",
       "\n",
       "                        sessionId  socialEngagementType     visitId  \\\n",
       "0  1131660440785968503_1472830385  Not Socially Engaged  1472830385   \n",
       "1   377306020877927890_1472880147  Not Socially Engaged  1472880147   \n",
       "2  3895546263509774583_1472865386  Not Socially Engaged  1472865386   \n",
       "3  4763447161404445595_1472881213  Not Socially Engaged  1472881213   \n",
       "4    27294437909732085_1472822600  Not Socially Engaged  1472822600   \n",
       "\n",
       "   visitNumber  visitStartTime device.browser             device.browserSize  \\\n",
       "0            1      1472830385         Chrome  not available in demo dataset   \n",
       "1            1      1472880147        Firefox  not available in demo dataset   \n",
       "2            1      1472865386         Chrome  not available in demo dataset   \n",
       "3            1      1472881213     UC Browser  not available in demo dataset   \n",
       "4            2      1472822600         Chrome  not available in demo dataset   \n",
       "\n",
       "          ...          trafficSource.adwordsClickInfo.isVideoAd  \\\n",
       "0         ...                                               NaN   \n",
       "1         ...                                               NaN   \n",
       "2         ...                                               NaN   \n",
       "3         ...                                               NaN   \n",
       "4         ...                                               NaN   \n",
       "\n",
       "  trafficSource.adwordsClickInfo.page trafficSource.adwordsClickInfo.slot  \\\n",
       "0                                 NaN                                 NaN   \n",
       "1                                 NaN                                 NaN   \n",
       "2                                 NaN                                 NaN   \n",
       "3                                 NaN                                 NaN   \n",
       "4                                 NaN                                 NaN   \n",
       "\n",
       "   trafficSource.campaign trafficSource.campaignCode  \\\n",
       "0               (not set)                        NaN   \n",
       "1               (not set)                        NaN   \n",
       "2               (not set)                        NaN   \n",
       "3               (not set)                        NaN   \n",
       "4               (not set)                        NaN   \n",
       "\n",
       "  trafficSource.isTrueDirect trafficSource.keyword trafficSource.medium  \\\n",
       "0                        NaN        (not provided)              organic   \n",
       "1                        NaN        (not provided)              organic   \n",
       "2                        NaN        (not provided)              organic   \n",
       "3                        NaN       google + online              organic   \n",
       "4                       True        (not provided)              organic   \n",
       "\n",
       "  trafficSource.referralPath trafficSource.source  \n",
       "0                        NaN               google  \n",
       "1                        NaN               google  \n",
       "2                        NaN               google  \n",
       "3                        NaN               google  \n",
       "4                        NaN               google  \n",
       "\n",
       "[5 rows x 55 columns]"
      ]
     },
     "execution_count": 626,
     "metadata": {},
     "output_type": "execute_result"
    }
   ],
   "source": [
    "train_df.head()"
   ]
  },
  {
   "cell_type": "markdown",
   "metadata": {},
   "source": [
    "### Getting the categorical and numerical columns"
   ]
  },
  {
   "cell_type": "code",
   "execution_count": 627,
   "metadata": {
    "scrolled": true
   },
   "outputs": [],
   "source": [
    "cols = train_df.columns\n",
    "num_cols = train_df._get_numeric_data().columns\n",
    "factor_cols = list(set(cols) - set(num_cols))"
   ]
  },
  {
   "cell_type": "markdown",
   "metadata": {},
   "source": [
    "### Getting the count of missing values in the categorical values and plotting the same"
   ]
  },
  {
   "cell_type": "code",
   "execution_count": 628,
   "metadata": {
    "scrolled": true
   },
   "outputs": [
    {
     "data": {
      "text/plain": [
       "Text(0.5,1,'Missing Values in Categorical Features')"
      ]
     },
     "execution_count": 628,
     "metadata": {},
     "output_type": "execute_result"
    },
    {
     "data": {
      "image/png": "[encoded data removed]",
      "text/plain": [
       "<matplotlib.figure.Figure at 0x1ed009aac18>"
      ]
     },
     "metadata": {
      "needs_background": "light"
     },
     "output_type": "display_data"
    }
   ],
   "source": [
    "total_test = train_df[factor_cols].isnull().sum().sort_values(ascending=False)\n",
    "percent = (train_df[factor_cols].isnull().sum()/train_df[factor_cols].isnull().count()).sort_values(ascending=False)*100\n",
    "data_to_be_removed = pd.concat([total_test, percent], axis=1,join='outer', keys=['Missing Value Count', 'Percentage of Missing Values'])\n",
    "data_to_be_removed.index.name ='Features'\n",
    "#data_to_be_removed.head(20)\n",
    "sns.barplot(y = data_to_be_removed.index[:15],x = data_to_be_removed['Percentage of Missing Values'][:15],color='blue').set_title(\"Missing Values in Categorical Features\")"
   ]
  },
  {
   "cell_type": "code",
   "execution_count": 629,
   "metadata": {},
   "outputs": [],
   "source": [
    "missing_cols = list(data_to_be_removed[data_to_be_removed['Percentage of Missing Values']>50.0].iloc[:,1].index)"
   ]
  },
  {
   "cell_type": "markdown",
   "metadata": {},
   "source": [
    "### Getting the count of missing values in the continuous variables and plotting it"
   ]
  },
  {
   "cell_type": "code",
   "execution_count": 630,
   "metadata": {},
   "outputs": [
    {
     "data": {
      "text/plain": [
       "Text(0.5,1,'Missing Values in Continuous Features')"
      ]
     },
     "execution_count": 630,
     "metadata": {},
     "output_type": "execute_result"
    },
    {
     "data": {
      "image/png": "[encoded data removed]",
      "text/plain": [
       "<matplotlib.figure.Figure at 0x1ebf9d64048>"
      ]
     },
     "metadata": {
      "needs_background": "light"
     },
     "output_type": "display_data"
    }
   ],
   "source": [
    "total_test1 = train_df[num_cols].isnull().sum().sort_values(ascending=False)\n",
    "percent1 = (train_df[num_cols].isnull().sum()/train_df[num_cols].isnull().count()).sort_values(ascending=False)*100\n",
    "data_to_be_removed1 = pd.concat([total_test1, percent1], axis=1,join='outer', keys=['Missing Value Count', 'Percentage of Missing Values'])\n",
    "data_to_be_removed1.index.name ='Features'\n",
    "#data_to_be_removed.head(20)\n",
    "sns.barplot(y = data_to_be_removed1.index[:5],x = data_to_be_removed1['Percentage of Missing Values'][:5],color='blue').set_title(\"Missing Values in Continuous Features\")"
   ]
  },
  {
   "cell_type": "markdown",
   "metadata": {},
   "source": [
    "     Note : The feature 'totals.transactionRevenue' is the revenue generated in every session/log in of each user and if it's   missing, it means that no revenue was generated. So, rather than dropping the missing values, we should recode it to 0 in this case\n"
   ]
  },
  {
   "cell_type": "markdown",
   "metadata": {},
   "source": [
    "### Now, let's check the number of levels in each categorical feature and we can drop features if they don't have missing values and have just 1 level"
   ]
  },
  {
   "cell_type": "code",
   "execution_count": 631,
   "metadata": {
    "scrolled": true
   },
   "outputs": [],
   "source": [
    "## Getting categorical columns with just 1 level\n",
    "single_level_cols = [cols for cols in train_df[factor_cols].columns if train_df[cols].nunique(dropna=False)==1 ]\n",
    "\n",
    "unique_vals_df = pd.DataFrame(columns=['Features'])\n",
    "unique_vals_df['Features'] = single_level_cols\n",
    "\n",
    "#tt = data_to_be_removed\n",
    "#tt['Features'] = data_to_be_removed.index\n",
    "#unique_vals_df = pd.merge(unique_vals_df,tt,on='Features',how='inner')\n",
    "#unique_vals_df"
   ]
  },
  {
   "cell_type": "markdown",
   "metadata": {},
   "source": [
    "     Note: It's surprising to see that all the categorical features with just 1 level do not have any missing value and we \n",
    "     can remove these features before proceeding with our analysis"
   ]
  },
  {
   "cell_type": "markdown",
   "metadata": {},
   "source": [
    "### Removing Categorical features with just 1 level"
   ]
  },
  {
   "cell_type": "code",
   "execution_count": 632,
   "metadata": {},
   "outputs": [
    {
     "name": "stdout",
     "output_type": "stream",
     "text": [
      "(903653, 37)\n"
     ]
    }
   ],
   "source": [
    "train_df.drop(single_level_cols,axis=1,inplace=True)\n",
    "print(train_df.shape)"
   ]
  },
  {
   "cell_type": "markdown",
   "metadata": {},
   "source": [
    "### Before proceeding further with the exploratory analysis, we will generate our target variable of interest : Flag indicating if a customer is a revenue generating customer or not"
   ]
  },
  {
   "cell_type": "code",
   "execution_count": 633,
   "metadata": {},
   "outputs": [],
   "source": [
    "group_cols = ['fullVisitorId']\n",
    "counted = 'totals.transactionRevenue'\n",
    "agg_name = 'totals.transactionRevenue_sum'\n",
    "gp = train_df[group_cols+[counted]].groupby(group_cols)[counted].sum().reset_index().rename(columns={counted:agg_name})\n",
    "#print(gp)\n",
    "#train = train.merge(gp, on=group_cols, how='left')\n",
    "gp['Revenue_Generating_Flag'] = np.where(gp['totals.transactionRevenue_sum']>0,1,0)\n",
    "cols = ['fullVisitorId','Revenue_Generating_Flag']\n",
    "\n",
    "train_df1 = pd.merge(train_df,gp[cols],on='fullVisitorId',how='inner')"
   ]
  },
  {
   "cell_type": "code",
   "execution_count": 634,
   "metadata": {},
   "outputs": [
    {
     "data": {
      "text/plain": [
       "0    869638\n",
       "1     34015\n",
       "Name: Revenue_Generating_Flag, dtype: int64"
      ]
     },
     "execution_count": 634,
     "metadata": {},
     "output_type": "execute_result"
    }
   ],
   "source": [
    "train_df1['Revenue_Generating_Flag'].value_counts()"
   ]
  },
  {
   "cell_type": "code",
   "execution_count": 635,
   "metadata": {},
   "outputs": [],
   "source": [
    "train_df1['date_of_visit'] = pd.to_datetime(train_df1['visitStartTime'], unit='s')\n",
    "train_df1['day_of_the_week'] = train_df1['date_of_visit'].dt.dayofweek\n",
    "train_df1['hour_of_the_day'] = train_df1['date_of_visit'].dt.hour\n",
    "train_df1['day_of_the_month'] = train_df1['date_of_visit'].dt.day\n",
    "#train_df.sort_values(['fullVisitorId', 'date_of_visit'], ascending=True, inplace=True)\n",
    "#train_df['next_session_1'] = (train_df['date_of_visit'] - train_df[['fullVisitorId', 'date_of_visit']].groupby('fullVisitorId')['date_of_visit'].shift(1)).astype(np.int64) // 1e9 // 60 // 60\n",
    "#train_df['next_session_2'] = (train_df['date_of_visit'] - train_df[['fullVisitorId', 'date_of_visit']].groupby('fullVisitorId')['date_of_visit'].shift(-1)).astype(np.int64) // 1e9 // 60 // 60"
   ]
  },
  {
   "cell_type": "markdown",
   "metadata": {},
   "source": [
    "### Data Wrangling / Cleaning"
   ]
  },
  {
   "cell_type": "code",
   "execution_count": 636,
   "metadata": {},
   "outputs": [],
   "source": [
    "class Wrangler:\n",
    "    \n",
    "    def browser_wrangling(self,x):\n",
    "        top_10_browsers = ['chrome','safari','firefox','internet explorer','edge','android webview','safari (in-app)','opera mini','opera','uc browser']\n",
    "        #browsers = ['chrome','safari','firefox','internet explorer','edge','opera','coc coc','maxthon','iron']\n",
    "        #mobile_browsers = ['android','samsung','mini','iphone','in-app','playstation','mozilla','chrome','blackberry','nokia','browser','amazon','lunascape','netscape','konqueror','puffin']\n",
    "    \n",
    "        if x in top_10_browsers:\n",
    "            return x.lower()\n",
    "    \n",
    "        #elif x in mobile_browsers:\n",
    "             # return 'mobile browser'\n",
    "    \n",
    "        elif '(not set)' in x:\n",
    "            return x\n",
    "    \n",
    "        else:\n",
    "            return 'others'\n",
    "\n",
    "        \n",
    "    def source_wrangling(self,x):\n",
    "        if  ('google' in x):\n",
    "            return 'google'\n",
    "        elif  ('youtube' in x):\n",
    "            return 'youtube'\n",
    "        elif 'yahoo' in x:\n",
    "            return 'yahoo'\n",
    "        elif 'facebook' in x:\n",
    "            return 'facebook'\n",
    "        elif 'reddit' in x:\n",
    "            return 'reddit'\n",
    "        elif 'bing' in x:\n",
    "            return 'bing'\n",
    "        elif 'quora' in x:\n",
    "            return 'quora'\n",
    "        elif 'outlook' in x:\n",
    "            return 'outlook'\n",
    "        elif 'linkedin' in x:\n",
    "            return 'linkedin'\n",
    "        elif 'twitter' in x:\n",
    "            return 'twitter'\n",
    "        elif '(not set)' in x or 'nan' in x:\n",
    "            return x\n",
    "        else:\n",
    "            return 'others'\n",
    "        \n",
    "    def device_os_wrangling(self,x):\n",
    "        top_10_device_os = ['windows','macintosh','andorid','ios', 'linux','chrome os','windows phone']\n",
    "        #browsers = ['chrome','safari','firefox','internet explorer','edge','opera','coc coc','maxthon','iron']\n",
    "        #mobile_browsers = ['android','samsung','mini','iphone','in-app','playstation','mozilla','chrome','blackberry','nokia','browser','amazon','lunascape','netscape','konqueror','puffin']\n",
    "\n",
    "        if x in top_10_device_os:\n",
    "            return x.lower()\n",
    "\n",
    "        #elif x in mobile_browsers:\n",
    "         #   return 'mobile browser'\n",
    "\n",
    "        elif '(not set)' in x:\n",
    "            return x\n",
    "\n",
    "        else:\n",
    "            return 'others'\n",
    "        \n",
    "    def nw_domain_wrangling(self,x):\n",
    "        tt = x['geoNetwork.networkDomain'].value_counts()\n",
    "        tt = pd.DataFrame(tt)\n",
    "        #tt['geoNetwork.networkDomain'] = tt.index\n",
    "        tt['column_names'] = tt.index\n",
    "        cols = ['values','geoNetwork.networkDomain']\n",
    "        tt.columns  = cols\n",
    "        #tt\n",
    "        x = pd.merge(x,tt,on='geoNetwork.networkDomain',how='left')\n",
    "        x['geoNetwork.networkDomain'] = np.where(x['values']<=20,'Others',x['geoNetwork.networkDomain'])\n",
    "        del x['values']\n",
    "        x['geoNetwork.networkDomain'].value_counts()\n",
    "        return x\n",
    "    \n",
    "    def plots(self,x):\n",
    "        bar1x=[]\n",
    "        bar1y=[]\n",
    "        for i in range(len(x)):\n",
    "    \n",
    "            bar1x.append(x.index[i])\n",
    "            bar1y.append(x[i])\n",
    "\n",
    "        plt.figure(figsize=(8, 10))\n",
    "        g=sns.barplot(x=bar1y, y=bar1x)\n",
    "        for i in range(len(bar1y)):\n",
    "            g.text(x = bar1y[i] , y = i, s = bar1y[i], size = 10)\n"
   ]
  },
  {
   "cell_type": "code",
   "execution_count": 637,
   "metadata": {},
   "outputs": [],
   "source": [
    "wrang = Wrangler()"
   ]
  },
  {
   "cell_type": "code",
   "execution_count": 638,
   "metadata": {
    "scrolled": true
   },
   "outputs": [
    {
     "name": "stdout",
     "output_type": "stream",
     "text": [
      "Plot of top 10 device browsers before transformation\n",
      "Plot of device browsers after transformation\n"
     ]
    },
    {
     "data": {
      "image/png": "[encoded data removed]",
      "text/plain": [
       "<matplotlib.figure.Figure at 0x1ebf9d80048>"
      ]
     },
     "metadata": {
      "needs_background": "light"
     },
     "output_type": "display_data"
    },
    {
     "data": {
      "image/png": "[encoded data removed]",
      "text/plain": [
       "<matplotlib.figure.Figure at 0x1ebf9d9f1d0>"
      ]
     },
     "metadata": {
      "needs_background": "light"
     },
     "output_type": "display_data"
    }
   ],
   "source": [
    "x=train_df1['device.browser'].value_counts()\n",
    "print(\"Plot of top 10 device browsers before transformation\")\n",
    "wrang.plots(x[:10])\n",
    "train_df1['device.browser'] = train_df1['device.browser'].map(lambda x:wrang.browser_wrangling(str(x).lower())).astype('str')\n",
    "x=train_df1['device.browser'].value_counts()\n",
    "print(\"Plot of device browsers after transformation\")\n",
    "wrang.plots(x)\n"
   ]
  },
  {
   "cell_type": "code",
   "execution_count": 639,
   "metadata": {
    "scrolled": true
   },
   "outputs": [
    {
     "name": "stdout",
     "output_type": "stream",
     "text": [
      "Plot of top 10 Sources before transformation\n",
      "Plot of Sources after transformation\n"
     ]
    },
    {
     "data": {
      "image/png": "[encoded data removed]",
      "text/plain": [
       "<matplotlib.figure.Figure at 0x1eaa014e080>"
      ]
     },
     "metadata": {
      "needs_background": "light"
     },
     "output_type": "display_data"
    },
    {
     "data": {
      "image/png": "[encoded data removed]",
      "text/plain": [
       "<matplotlib.figure.Figure at 0x1ecfc6f53c8>"
      ]
     },
     "metadata": {
      "needs_background": "light"
     },
     "output_type": "display_data"
    }
   ],
   "source": [
    "x=train_df1['trafficSource.source'].value_counts()\n",
    "print(\"Plot of top 10 Sources before transformation\")\n",
    "wrang.plots(x[:10])\n",
    "train_df1['trafficSource.source'] = train_df1['trafficSource.source'].map(lambda x:wrang.source_wrangling(str(x).lower())).astype('str')\n",
    "x=train_df1['trafficSource.source'].value_counts()\n",
    "print(\"Plot of Sources after transformation\")\n",
    "wrang.plots(x)\n"
   ]
  },
  {
   "cell_type": "code",
   "execution_count": 640,
   "metadata": {
    "scrolled": true
   },
   "outputs": [
    {
     "name": "stdout",
     "output_type": "stream",
     "text": [
      "Plot of top 10 Operating Systems before transformation\n",
      "Plot of Operating Systems after transformation\n"
     ]
    },
    {
     "data": {
      "image/png": "[encoded data removed]",
      "text/plain": [
       "<matplotlib.figure.Figure at 0x1ecfcaa2e80>"
      ]
     },
     "metadata": {
      "needs_background": "light"
     },
     "output_type": "display_data"
    },
    {
     "data": {
      "image/png": "[encoded data removed]",
      "text/plain": [
       "<matplotlib.figure.Figure at 0x1ecfc8d6320>"
      ]
     },
     "metadata": {
      "needs_background": "light"
     },
     "output_type": "display_data"
    }
   ],
   "source": [
    "print(\"Plot of top 10 Operating Systems before transformation\")\n",
    "x=train_df1['device.operatingSystem'].value_counts()\n",
    "wrang.plots(x[:10])\n",
    "train_df1['device.operatingSystem'] = train_df1['device.operatingSystem'].map(lambda x:wrang.device_os_wrangling(str(x).lower())).astype('str')\n",
    "x=train_df1['device.operatingSystem'].value_counts()\n",
    "print(\"Plot of Operating Systems after transformation\")\n",
    "wrang.plots(x)"
   ]
  },
  {
   "cell_type": "code",
   "execution_count": 641,
   "metadata": {
    "scrolled": true
   },
   "outputs": [
    {
     "name": "stdout",
     "output_type": "stream",
     "text": [
      "Plot of top 10 Network Domains before transformation\n",
      "Plot of Network Domains after transformation\n"
     ]
    },
    {
     "data": {
      "image/png": "[encoded data removed]",
      "text/plain": [
       "<matplotlib.figure.Figure at 0x1ecfc6f59e8>"
      ]
     },
     "metadata": {
      "needs_background": "light"
     },
     "output_type": "display_data"
    },
    {
     "data": {
      "image/png": "[encoded data removed]",
      "text/plain": [
       "<matplotlib.figure.Figure at 0x1ed42c83588>"
      ]
     },
     "metadata": {
      "needs_background": "light"
     },
     "output_type": "display_data"
    }
   ],
   "source": [
    "x=train_df1['geoNetwork.networkDomain'].value_counts()\n",
    "print(\"Plot of top 10 Network Domains before transformation\")\n",
    "wrang.plots(x[:10])\n",
    "train_df1 = wrang.nw_domain_wrangling(train_df1)\n",
    "x=train_df1['geoNetwork.networkDomain'].value_counts()\n",
    "print(\"Plot of Network Domains after transformation\")\n",
    "wrang.plots(x[:10])\n",
    "\n"
   ]
  },
  {
   "cell_type": "code",
   "execution_count": 642,
   "metadata": {},
   "outputs": [
    {
     "data": {
      "text/plain": [
       "'\\ndef process_device(data_df):\\n    print(\"process device ...\")\\n    data_df[\\'source.country\\'] = data_df[\\'trafficSource.source\\'] + \\'_\\' + data_df[\\'geoNetwork.country\\']\\n    data_df[\\'campaign.medium\\'] = data_df[\\'trafficSource.campaign\\'] + \\'_\\' + data_df[\\'trafficSource.medium\\']\\n    data_df[\\'browser.category\\'] = data_df[\\'device.browser\\'] + \\'_\\' + data_df[\\'device.deviceCategory\\']\\n    data_df[\\'browser.os\\'] = data_df[\\'device.browser\\'] + \\'_\\' + data_df[\\'device.operatingSystem\\']\\n    return data_df\\ntrain_df1 = process_device(train_df1)\\n'"
      ]
     },
     "execution_count": 642,
     "metadata": {},
     "output_type": "execute_result"
    }
   ],
   "source": [
    "'''\n",
    "def process_device(data_df):\n",
    "    print(\"process device ...\")\n",
    "    data_df['source.country'] = data_df['trafficSource.source'] + '_' + data_df['geoNetwork.country']\n",
    "    data_df['campaign.medium'] = data_df['trafficSource.campaign'] + '_' + data_df['trafficSource.medium']\n",
    "    data_df['browser.category'] = data_df['device.browser'] + '_' + data_df['device.deviceCategory']\n",
    "    data_df['browser.os'] = data_df['device.browser'] + '_' + data_df['device.operatingSystem']\n",
    "    return data_df\n",
    "train_df1 = process_device(train_df1)\n",
    "'''"
   ]
  },
  {
   "cell_type": "code",
   "execution_count": 643,
   "metadata": {},
   "outputs": [
    {
     "data": {
      "text/plain": [
       "'\\ndef custom(data):\\n    print(\\'custom..\\')\\n    data[\\'device_deviceCategory_channelGrouping\\'] = data[\\'device.deviceCategory\\'] + \"_\" + data[\\'channelGrouping\\']\\n    data[\\'channelGrouping_browser\\'] = data[\\'device.browser\\'] + \"_\" + data[\\'channelGrouping\\']\\n    data[\\'channelGrouping_OS\\'] = data[\\'device.operatingSystem\\'] + \"_\" + data[\\'channelGrouping\\']\\n    \\n    for i in [\\'geoNetwork.city\\', \\'geoNetwork.continent\\', \\'geoNetwork.country\\',\\'geoNetwork.metro\\', \\'geoNetwork.networkDomain\\', \\'geoNetwork.region\\',\\'geoNetwork.subContinent\\']:\\n        for j in [\\'device.browser\\',\\'device.deviceCategory\\', \\'device.operatingSystem\\', \\'trafficSource.source\\']:\\n            data[i + \"_\" + j] = data[i] + \"_\" + data[j]\\n    \\n    data[\\'content.source\\'] = data[\\'trafficSource.adContent\\'] + \"_\" + data[\\'source.country\\']\\n    data[\\'medium.source\\'] = data[\\'trafficSource.medium\\'] + \"_\" + data[\\'source.country\\']\\n    return data\\n\\ntrain_df1 = custom(train_df1)\\n'"
      ]
     },
     "execution_count": 643,
     "metadata": {},
     "output_type": "execute_result"
    }
   ],
   "source": [
    "'''\n",
    "def custom(data):\n",
    "    print('custom..')\n",
    "    data['device_deviceCategory_channelGrouping'] = data['device.deviceCategory'] + \"_\" + data['channelGrouping']\n",
    "    data['channelGrouping_browser'] = data['device.browser'] + \"_\" + data['channelGrouping']\n",
    "    data['channelGrouping_OS'] = data['device.operatingSystem'] + \"_\" + data['channelGrouping']\n",
    "    \n",
    "    for i in ['geoNetwork.city', 'geoNetwork.continent', 'geoNetwork.country','geoNetwork.metro', 'geoNetwork.networkDomain', 'geoNetwork.region','geoNetwork.subContinent']:\n",
    "        for j in ['device.browser','device.deviceCategory', 'device.operatingSystem', 'trafficSource.source']:\n",
    "            data[i + \"_\" + j] = data[i] + \"_\" + data[j]\n",
    "    \n",
    "    data['content.source'] = data['trafficSource.adContent'] + \"_\" + data['source.country']\n",
    "    data['medium.source'] = data['trafficSource.medium'] + \"_\" + data['source.country']\n",
    "    return data\n",
    "\n",
    "train_df1 = custom(train_df1)\n",
    "'''"
   ]
  },
  {
   "cell_type": "code",
   "execution_count": 644,
   "metadata": {},
   "outputs": [],
   "source": [
    "excluded_features = [\n",
    "    'date', 'fullVisitorId', 'sessionId', 'totals.transactionRevenue', \n",
    "    'visitId', 'visitStartTime', 'vis_date', 'nb_sessions', 'max_visits'\n",
    "]\n",
    "\n",
    "excluded_features = excluded_features + missing_cols\n",
    "\n",
    "categorical_features = [\n",
    "    _f for _f in train_df1.columns\n",
    "    if (_f not in excluded_features) & (train_df1[_f].dtype == 'object')\n",
    "]"
   ]
  },
  {
   "cell_type": "code",
   "execution_count": 645,
   "metadata": {},
   "outputs": [],
   "source": [
    "for f in categorical_features:\n",
    "    train_df1[f], indexer = pd.factorize(train_df1[f])"
   ]
  },
  {
   "cell_type": "code",
   "execution_count": 646,
   "metadata": {},
   "outputs": [],
   "source": [
    "req_features = [_f for _f in train_df1.columns if _f not in excluded_features]"
   ]
  },
  {
   "cell_type": "code",
   "execution_count": 647,
   "metadata": {},
   "outputs": [],
   "source": [
    "train_df2 = train_df1[req_features + ['fullVisitorId']].groupby('fullVisitorId').mean()"
   ]
  },
  {
   "cell_type": "code",
   "execution_count": 648,
   "metadata": {},
   "outputs": [
    {
     "data": {
      "text/plain": [
       "0    713689\n",
       "1     10114\n",
       "Name: Revenue_Generating_Flag, dtype: int64"
      ]
     },
     "execution_count": 648,
     "metadata": {},
     "output_type": "execute_result"
    }
   ],
   "source": [
    "train_df2['Revenue_Generating_Flag'].value_counts()"
   ]
  },
  {
   "cell_type": "code",
   "execution_count": 649,
   "metadata": {},
   "outputs": [
    {
     "data": {
      "text/html": [
       "<div>\n",
       "<style scoped>\n",
       "    .dataframe tbody tr th:only-of-type {\n",
       "        vertical-align: middle;\n",
       "    }\n",
       "\n",
       "    .dataframe tbody tr th {\n",
       "        vertical-align: top;\n",
       "    }\n",
       "\n",
       "    .dataframe thead th {\n",
       "        text-align: right;\n",
       "    }\n",
       "</style>\n",
       "<table border=\"1\" class=\"dataframe\">\n",
       "  <thead>\n",
       "    <tr style=\"text-align: right;\">\n",
       "      <th></th>\n",
       "      <th>channelGrouping</th>\n",
       "      <th>visitNumber</th>\n",
       "      <th>device.browser</th>\n",
       "      <th>device.deviceCategory</th>\n",
       "      <th>device.isMobile</th>\n",
       "      <th>device.operatingSystem</th>\n",
       "      <th>geoNetwork.city</th>\n",
       "      <th>geoNetwork.continent</th>\n",
       "      <th>geoNetwork.country</th>\n",
       "      <th>geoNetwork.metro</th>\n",
       "      <th>...</th>\n",
       "      <th>totals.pageviews</th>\n",
       "      <th>totals.visits</th>\n",
       "      <th>trafficSource.adwordsClickInfo.page</th>\n",
       "      <th>trafficSource.campaign</th>\n",
       "      <th>trafficSource.medium</th>\n",
       "      <th>trafficSource.source</th>\n",
       "      <th>Revenue_Generating_Flag</th>\n",
       "      <th>day_of_the_week</th>\n",
       "      <th>hour_of_the_day</th>\n",
       "      <th>day_of_the_month</th>\n",
       "    </tr>\n",
       "    <tr>\n",
       "      <th>fullVisitorId</th>\n",
       "      <th></th>\n",
       "      <th></th>\n",
       "      <th></th>\n",
       "      <th></th>\n",
       "      <th></th>\n",
       "      <th></th>\n",
       "      <th></th>\n",
       "      <th></th>\n",
       "      <th></th>\n",
       "      <th></th>\n",
       "      <th></th>\n",
       "      <th></th>\n",
       "      <th></th>\n",
       "      <th></th>\n",
       "      <th></th>\n",
       "      <th></th>\n",
       "      <th></th>\n",
       "      <th></th>\n",
       "      <th></th>\n",
       "      <th></th>\n",
       "      <th></th>\n",
       "    </tr>\n",
       "  </thead>\n",
       "  <tbody>\n",
       "    <tr>\n",
       "      <th>4823595352351</th>\n",
       "      <td>0.0</td>\n",
       "      <td>1.0</td>\n",
       "      <td>0.0</td>\n",
       "      <td>0.0</td>\n",
       "      <td>0.0</td>\n",
       "      <td>0.0</td>\n",
       "      <td>1.0</td>\n",
       "      <td>0.0</td>\n",
       "      <td>12.0</td>\n",
       "      <td>1.0</td>\n",
       "      <td>...</td>\n",
       "      <td>1.0</td>\n",
       "      <td>1.0</td>\n",
       "      <td>NaN</td>\n",
       "      <td>0.0</td>\n",
       "      <td>0.0</td>\n",
       "      <td>1.0</td>\n",
       "      <td>0</td>\n",
       "      <td>1.0</td>\n",
       "      <td>14.0</td>\n",
       "      <td>1.0</td>\n",
       "    </tr>\n",
       "    <tr>\n",
       "      <th>5103959234087</th>\n",
       "      <td>0.0</td>\n",
       "      <td>1.0</td>\n",
       "      <td>0.0</td>\n",
       "      <td>1.0</td>\n",
       "      <td>1.0</td>\n",
       "      <td>3.0</td>\n",
       "      <td>1.0</td>\n",
       "      <td>3.0</td>\n",
       "      <td>33.0</td>\n",
       "      <td>1.0</td>\n",
       "      <td>...</td>\n",
       "      <td>8.0</td>\n",
       "      <td>1.0</td>\n",
       "      <td>NaN</td>\n",
       "      <td>0.0</td>\n",
       "      <td>0.0</td>\n",
       "      <td>0.0</td>\n",
       "      <td>0</td>\n",
       "      <td>6.0</td>\n",
       "      <td>22.0</td>\n",
       "      <td>21.0</td>\n",
       "    </tr>\n",
       "    <tr>\n",
       "      <th>10278554503158</th>\n",
       "      <td>0.0</td>\n",
       "      <td>1.0</td>\n",
       "      <td>0.0</td>\n",
       "      <td>0.0</td>\n",
       "      <td>0.0</td>\n",
       "      <td>1.0</td>\n",
       "      <td>1.0</td>\n",
       "      <td>1.0</td>\n",
       "      <td>70.0</td>\n",
       "      <td>1.0</td>\n",
       "      <td>...</td>\n",
       "      <td>8.0</td>\n",
       "      <td>1.0</td>\n",
       "      <td>NaN</td>\n",
       "      <td>0.0</td>\n",
       "      <td>0.0</td>\n",
       "      <td>0.0</td>\n",
       "      <td>0</td>\n",
       "      <td>4.0</td>\n",
       "      <td>5.0</td>\n",
       "      <td>21.0</td>\n",
       "    </tr>\n",
       "    <tr>\n",
       "      <th>20424342248747</th>\n",
       "      <td>0.0</td>\n",
       "      <td>1.0</td>\n",
       "      <td>0.0</td>\n",
       "      <td>0.0</td>\n",
       "      <td>0.0</td>\n",
       "      <td>0.0</td>\n",
       "      <td>49.0</td>\n",
       "      <td>3.0</td>\n",
       "      <td>42.0</td>\n",
       "      <td>0.0</td>\n",
       "      <td>...</td>\n",
       "      <td>13.0</td>\n",
       "      <td>1.0</td>\n",
       "      <td>NaN</td>\n",
       "      <td>0.0</td>\n",
       "      <td>0.0</td>\n",
       "      <td>0.0</td>\n",
       "      <td>0</td>\n",
       "      <td>3.0</td>\n",
       "      <td>7.0</td>\n",
       "      <td>1.0</td>\n",
       "    </tr>\n",
       "    <tr>\n",
       "      <th>26722803385797</th>\n",
       "      <td>0.0</td>\n",
       "      <td>1.0</td>\n",
       "      <td>4.0</td>\n",
       "      <td>0.0</td>\n",
       "      <td>0.0</td>\n",
       "      <td>1.0</td>\n",
       "      <td>1.0</td>\n",
       "      <td>2.0</td>\n",
       "      <td>4.0</td>\n",
       "      <td>1.0</td>\n",
       "      <td>...</td>\n",
       "      <td>2.0</td>\n",
       "      <td>1.0</td>\n",
       "      <td>NaN</td>\n",
       "      <td>0.0</td>\n",
       "      <td>0.0</td>\n",
       "      <td>0.0</td>\n",
       "      <td>0</td>\n",
       "      <td>0.0</td>\n",
       "      <td>10.0</td>\n",
       "      <td>5.0</td>\n",
       "    </tr>\n",
       "  </tbody>\n",
       "</table>\n",
       "<p>5 rows × 26 columns</p>\n",
       "</div>"
      ],
      "text/plain": [
       "                channelGrouping  visitNumber  device.browser  \\\n",
       "fullVisitorId                                                  \n",
       "4823595352351               0.0          1.0             0.0   \n",
       "5103959234087               0.0          1.0             0.0   \n",
       "10278554503158              0.0          1.0             0.0   \n",
       "20424342248747              0.0          1.0             0.0   \n",
       "26722803385797              0.0          1.0             4.0   \n",
       "\n",
       "                device.deviceCategory  device.isMobile  \\\n",
       "fullVisitorId                                            \n",
       "4823595352351                     0.0              0.0   \n",
       "5103959234087                     1.0              1.0   \n",
       "10278554503158                    0.0              0.0   \n",
       "20424342248747                    0.0              0.0   \n",
       "26722803385797                    0.0              0.0   \n",
       "\n",
       "                device.operatingSystem  geoNetwork.city  geoNetwork.continent  \\\n",
       "fullVisitorId                                                                   \n",
       "4823595352351                      0.0              1.0                   0.0   \n",
       "5103959234087                      3.0              1.0                   3.0   \n",
       "10278554503158                     1.0              1.0                   1.0   \n",
       "20424342248747                     0.0             49.0                   3.0   \n",
       "26722803385797                     1.0              1.0                   2.0   \n",
       "\n",
       "                geoNetwork.country  geoNetwork.metro        ...         \\\n",
       "fullVisitorId                                               ...          \n",
       "4823595352351                 12.0               1.0        ...          \n",
       "5103959234087                 33.0               1.0        ...          \n",
       "10278554503158                70.0               1.0        ...          \n",
       "20424342248747                42.0               0.0        ...          \n",
       "26722803385797                 4.0               1.0        ...          \n",
       "\n",
       "                totals.pageviews  totals.visits  \\\n",
       "fullVisitorId                                     \n",
       "4823595352351                1.0            1.0   \n",
       "5103959234087                8.0            1.0   \n",
       "10278554503158               8.0            1.0   \n",
       "20424342248747              13.0            1.0   \n",
       "26722803385797               2.0            1.0   \n",
       "\n",
       "                trafficSource.adwordsClickInfo.page  trafficSource.campaign  \\\n",
       "fullVisitorId                                                                 \n",
       "4823595352351                                   NaN                     0.0   \n",
       "5103959234087                                   NaN                     0.0   \n",
       "10278554503158                                  NaN                     0.0   \n",
       "20424342248747                                  NaN                     0.0   \n",
       "26722803385797                                  NaN                     0.0   \n",
       "\n",
       "                trafficSource.medium  trafficSource.source  \\\n",
       "fullVisitorId                                                \n",
       "4823595352351                    0.0                   1.0   \n",
       "5103959234087                    0.0                   0.0   \n",
       "10278554503158                   0.0                   0.0   \n",
       "20424342248747                   0.0                   0.0   \n",
       "26722803385797                   0.0                   0.0   \n",
       "\n",
       "                Revenue_Generating_Flag  day_of_the_week  hour_of_the_day  \\\n",
       "fullVisitorId                                                               \n",
       "4823595352351                         0              1.0             14.0   \n",
       "5103959234087                         0              6.0             22.0   \n",
       "10278554503158                        0              4.0              5.0   \n",
       "20424342248747                        0              3.0              7.0   \n",
       "26722803385797                        0              0.0             10.0   \n",
       "\n",
       "                day_of_the_month  \n",
       "fullVisitorId                     \n",
       "4823595352351                1.0  \n",
       "5103959234087               21.0  \n",
       "10278554503158              21.0  \n",
       "20424342248747               1.0  \n",
       "26722803385797               5.0  \n",
       "\n",
       "[5 rows x 26 columns]"
      ]
     },
     "execution_count": 649,
     "metadata": {},
     "output_type": "execute_result"
    }
   ],
   "source": [
    "train_df2.head()"
   ]
  },
  {
   "cell_type": "code",
   "execution_count": 650,
   "metadata": {
    "scrolled": false
   },
   "outputs": [
    {
     "data": {
      "text/plain": [
       "Index(['channelGrouping', 'visitNumber', 'device.browser',\n",
       "       'device.deviceCategory', 'device.isMobile', 'device.operatingSystem',\n",
       "       'geoNetwork.city', 'geoNetwork.continent', 'geoNetwork.country',\n",
       "       'geoNetwork.metro', 'geoNetwork.networkDomain', 'geoNetwork.region',\n",
       "       'geoNetwork.subContinent', 'totals.bounces', 'totals.hits',\n",
       "       'totals.newVisits', 'totals.pageviews', 'totals.visits',\n",
       "       'trafficSource.adwordsClickInfo.page', 'trafficSource.campaign',\n",
       "       'trafficSource.medium', 'trafficSource.source',\n",
       "       'Revenue_Generating_Flag', 'day_of_the_week', 'hour_of_the_day',\n",
       "       'day_of_the_month'],\n",
       "      dtype='object')"
      ]
     },
     "execution_count": 650,
     "metadata": {},
     "output_type": "execute_result"
    }
   ],
   "source": [
    "train_df2.columns"
   ]
  },
  {
   "cell_type": "code",
   "execution_count": 651,
   "metadata": {},
   "outputs": [],
   "source": [
    "y = train_df2['Revenue_Generating_Flag']\n",
    "X = train_df2.loc[:, train_df2.columns != 'Revenue_Generating_Flag']"
   ]
  },
  {
   "cell_type": "code",
   "execution_count": 652,
   "metadata": {},
   "outputs": [],
   "source": [
    "del train_df2['Revenue_Generating_Flag']\n",
    "train_df2 = train_df2.reset_index()"
   ]
  },
  {
   "cell_type": "code",
   "execution_count": 653,
   "metadata": {},
   "outputs": [],
   "source": [
    "from sklearn.model_selection import train_test_split\n",
    "train, test, y_train, y_test = train_test_split(X, y,\n",
    "                                                stratify=y, \n",
    "                                                test_size=0.3,random_state=20)\n",
    "\n",
    "#train_features = [_f for _f in train.columns if _f not in excluded_features]\n",
    "#train = train[train_features]"
   ]
  },
  {
   "cell_type": "code",
   "execution_count": 654,
   "metadata": {},
   "outputs": [
    {
     "name": "stdout",
     "output_type": "stream",
     "text": [
      "0    214107\n",
      "1      3034\n",
      "Name: Revenue_Generating_Flag, dtype: int64\n"
     ]
    },
    {
     "data": {
      "text/plain": [
       "0    499582\n",
       "1      7080\n",
       "Name: Revenue_Generating_Flag, dtype: int64"
      ]
     },
     "execution_count": 654,
     "metadata": {},
     "output_type": "execute_result"
    }
   ],
   "source": [
    "print(y_test.value_counts())\n",
    "y_train.value_counts()"
   ]
  },
  {
   "cell_type": "code",
   "execution_count": 655,
   "metadata": {},
   "outputs": [
    {
     "data": {
      "text/plain": [
       "0.013972487922594075"
      ]
     },
     "execution_count": 655,
     "metadata": {},
     "output_type": "execute_result"
    }
   ],
   "source": [
    "3034/(3034+214107)"
   ]
  },
  {
   "cell_type": "code",
   "execution_count": 656,
   "metadata": {},
   "outputs": [
    {
     "data": {
      "text/plain": [
       "0.013973812916697918"
      ]
     },
     "execution_count": 656,
     "metadata": {},
     "output_type": "execute_result"
    }
   ],
   "source": [
    "7080/(7080+499582)"
   ]
  },
  {
   "cell_type": "code",
   "execution_count": 657,
   "metadata": {},
   "outputs": [
    {
     "name": "stderr",
     "output_type": "stream",
     "text": [
      "C:\\Users\\prash\\Anaconda3\\lib\\site-packages\\pandas\\core\\generic.py:4355: SettingWithCopyWarning: \n",
      "A value is trying to be set on a copy of a slice from a DataFrame\n",
      "\n",
      "See the caveats in the documentation: http://pandas.pydata.org/pandas-docs/stable/indexing.html#indexing-view-versus-copy\n",
      "  self._update_inplace(new_data)\n"
     ]
    }
   ],
   "source": [
    "from imblearn.over_sampling import SMOTE\n",
    "train.fillna(train.median(),inplace=True)\n",
    "sm = SMOTE(random_state=12, ratio = 0.2)\n",
    "x_train_res, y_train_res = sm.fit_sample(train, y_train)\n",
    "x_train_res = pd.DataFrame(x_train_res)\n",
    "x_train_res.columns = train.columns\n",
    "y_train_res = pd.DataFrame(y_train_res)\n",
    "#y_train_res.columns = y_train.columns"
   ]
  },
  {
   "cell_type": "code",
   "execution_count": 658,
   "metadata": {},
   "outputs": [
    {
     "name": "stdout",
     "output_type": "stream",
     "text": [
      "(506662, 25)\n",
      "(506662,)\n",
      "(599498, 25)\n",
      "(599498, 1)\n"
     ]
    }
   ],
   "source": [
    "print(train.shape)\n",
    "print(y_train.shape)\n",
    "print(x_train_res.shape)\n",
    "print(y_train_res.shape)"
   ]
  },
  {
   "cell_type": "code",
   "execution_count": 659,
   "metadata": {
    "scrolled": true
   },
   "outputs": [
    {
     "name": "stdout",
     "output_type": "stream",
     "text": [
      "0    499582\n",
      "1     99916\n",
      "Name: 0, dtype: int64\n"
     ]
    }
   ],
   "source": [
    "#y_train_res = pd.DataFrame(y_train_res)\n",
    "print(y_train_res[0].value_counts())\n",
    "#np.bincount(y_train_res)"
   ]
  },
  {
   "cell_type": "code",
   "execution_count": 660,
   "metadata": {},
   "outputs": [
    {
     "data": {
      "text/plain": [
       "0.16666611064590708"
      ]
     },
     "execution_count": 660,
     "metadata": {},
     "output_type": "execute_result"
    }
   ],
   "source": [
    "99916/(99916+499582)"
   ]
  },
  {
   "cell_type": "code",
   "execution_count": 661,
   "metadata": {},
   "outputs": [],
   "source": [
    "from sklearn import cross_validation\n",
    "skf = cross_validation.StratifiedKFold(y_train_res[0], n_folds=5)\n",
    "#kf=KFold(x_train_res.shape[0],n_folds=5,random_state=20)\n",
    "listfold=list(kf)"
   ]
  },
  {
   "cell_type": "code",
   "execution_count": 662,
   "metadata": {
    "scrolled": true
   },
   "outputs": [
    {
     "name": "stdout",
     "output_type": "stream",
     "text": [
      "0    399665\n",
      "1     79932\n",
      "Name: 0, dtype: int64\n",
      "0    99917\n",
      "1    19984\n",
      "Name: 0, dtype: int64\n",
      "0    399665\n",
      "1     79933\n",
      "Name: 0, dtype: int64\n",
      "0    99917\n",
      "1    19983\n",
      "Name: 0, dtype: int64\n",
      "0    399666\n",
      "1     79933\n",
      "Name: 0, dtype: int64\n",
      "0    99916\n",
      "1    19983\n",
      "Name: 0, dtype: int64\n",
      "0    399666\n",
      "1     79933\n",
      "Name: 0, dtype: int64\n",
      "0    99916\n",
      "1    19983\n",
      "Name: 0, dtype: int64\n",
      "0    399666\n",
      "1     79933\n",
      "Name: 0, dtype: int64\n",
      "0    99916\n",
      "1    19983\n",
      "Name: 0, dtype: int64\n"
     ]
    }
   ],
   "source": [
    "for a,b in skf:\n",
    "    print(y_train_res[0].iloc[a].value_counts())\n",
    "    print(y_train_res[0].iloc[b].value_counts())"
   ]
  },
  {
   "cell_type": "code",
   "execution_count": 663,
   "metadata": {},
   "outputs": [
    {
     "data": {
      "text/plain": [
       "0.1666649290967208"
      ]
     },
     "execution_count": 663,
     "metadata": {},
     "output_type": "execute_result"
    }
   ],
   "source": [
    "79932/(79932+399665)"
   ]
  },
  {
   "cell_type": "code",
   "execution_count": 664,
   "metadata": {},
   "outputs": [
    {
     "data": {
      "text/plain": [
       "0.16667083677367162"
      ]
     },
     "execution_count": 664,
     "metadata": {},
     "output_type": "execute_result"
    }
   ],
   "source": [
    "19984/(19984+99917)"
   ]
  },
  {
   "cell_type": "code",
   "execution_count": 665,
   "metadata": {},
   "outputs": [
    {
     "name": "stderr",
     "output_type": "stream",
     "text": [
      "C:\\Users\\prash\\Anaconda3\\lib\\site-packages\\pandas\\core\\generic.py:4355: SettingWithCopyWarning: \n",
      "A value is trying to be set on a copy of a slice from a DataFrame\n",
      "\n",
      "See the caveats in the documentation: http://pandas.pydata.org/pandas-docs/stable/indexing.html#indexing-view-versus-copy\n",
      "  self._update_inplace(new_data)\n"
     ]
    },
    {
     "name": "stdout",
     "output_type": "stream",
     "text": [
      "Validation AUC-ROC value for Fold 1 is 0.9772878545337547\n",
      "Validation AUC-ROC value for Fold 2 is 0.9784855706871843\n",
      "Validation AUC-ROC value for Fold 3 is 0.9791222758028018\n",
      "Validation AUC-ROC value for Fold 4 is 0.9790736095916528\n",
      "Validation AUC-ROC value for Fold 5 is 0.9787388363138413\n",
      "Test AUC-ROC value is 0.974378051642246\n"
     ]
    }
   ],
   "source": [
    "from sklearn.metrics import roc_auc_score\n",
    "from sklearn.linear_model import LogisticRegression\n",
    "from sklearn.cross_validation import KFold\n",
    "from sklearn import cross_validation\n",
    "\n",
    "#acc_table_val = pd.DataFrame(columns = ['Test Values','Fold1_glm','Fold2_glm','Fold3_glm','Fold4_glm','Fold5_glm'])\n",
    "#acc_table_val['Test Values'] = y_test\n",
    "\n",
    "acc_table_test = pd.DataFrame(columns = ['Test Values','Fold1_glm','Fold2_glm','Fold3_glm','Fold4_glm','Fold5_glm','Fold1_rf','Fold2_rf','Fold3_rf','Fold4_rf','Fold5_rf','Fold1_xgb','Fold2_xgb','Fold3_xgb','Fold4_xgb','Fold5_xgb'])\n",
    "acc_table_test['Test Values'] = y_test\n",
    "cut_off_table = pd.DataFrame(columns=['Folds','Cut_off'])\n",
    "cut_off_table['Folds'] = ['Folds1','Folds2','Folds3','Folds4','Folds5']\n",
    "\n",
    "train_features = [_f for _f in x_train_res.columns if _f not in excluded_features]\n",
    "importances = pd.DataFrame()\n",
    "oof_reg_preds = np.zeros(x_train_res.shape[0])\n",
    "\n",
    "alg=LogisticRegression()\n",
    "#kf=KFold(x_train_res.shape[0],n_folds=5,random_state=20)\n",
    "#listfold=list(kf)\n",
    "skf = cross_validation.StratifiedKFold(y_train_res[0], n_folds=5)\n",
    "test_preds = np.zeros(test.shape[0])\n",
    "test.fillna(test.median(),inplace=True)\n",
    "\n",
    "sub_reg_preds = np.zeros(test.shape[0])\n",
    "i =1\n",
    "for a,b in skf:\n",
    "    trn_x, trn_y = x_train_res[train_features].iloc[a], y_train_res[0].iloc[a]\n",
    "    val_x, val_y = x_train_res[train_features].iloc[b], y_train_res[0].iloc[b]\n",
    "    #print(trn_x.head())\n",
    "    trn_x.fillna(trn_x.median(),inplace=True)\n",
    "    val_x.fillna(val_x.median(),inplace=True)\n",
    "    lr = LogisticRegression(random_state = 0)\n",
    "    lr.fit(trn_x,trn_y)\n",
    "    oof_reg_preds = lr.predict_proba(val_x)[:,1]\n",
    "    print(\"Validation AUC-ROC value for Fold {} is {}\".format(i,roc_auc_score(val_y, oof_reg_preds)))\n",
    "    \n",
    "    from sklearn import metrics\n",
    "    fpr, tpr, thresholds = metrics.roc_curve(val_y,oof_reg_preds)\n",
    "    cut_off_table.iloc[i-1,1] = thresholds[np.argmax(tpr - fpr)]\n",
    "    \n",
    "    _preds = lr.predict_proba(test[train_features])[:,1]\n",
    "    acc_table_test.iloc[:,i] = _preds\n",
    "    i+=1\n",
    "    #sub_reg_preds += _preds# / len(folds)\n",
    "    #sub_reg_preds = np.add(sub_reg_preds,_preds)\n",
    "    \n",
    "        \n",
    "avg = (acc_table_test['Fold1_glm'] + acc_table_test['Fold2_glm'] +acc_table_test['Fold3_glm'] + acc_table_test['Fold4_glm'] + acc_table_test['Fold5_glm'])/5.0   \n",
    "print(\"Test AUC-ROC value is {}\".format(roc_auc_score(acc_table_test['Test Values'], avg)))"
   ]
  },
  {
   "cell_type": "code",
   "execution_count": 666,
   "metadata": {},
   "outputs": [
    {
     "data": {
      "text/html": [
       "<div>\n",
       "<style scoped>\n",
       "    .dataframe tbody tr th:only-of-type {\n",
       "        vertical-align: middle;\n",
       "    }\n",
       "\n",
       "    .dataframe tbody tr th {\n",
       "        vertical-align: top;\n",
       "    }\n",
       "\n",
       "    .dataframe thead th {\n",
       "        text-align: right;\n",
       "    }\n",
       "</style>\n",
       "<table border=\"1\" class=\"dataframe\">\n",
       "  <thead>\n",
       "    <tr style=\"text-align: right;\">\n",
       "      <th></th>\n",
       "      <th>Folds</th>\n",
       "      <th>Cut_off</th>\n",
       "    </tr>\n",
       "  </thead>\n",
       "  <tbody>\n",
       "    <tr>\n",
       "      <th>0</th>\n",
       "      <td>Folds1</td>\n",
       "      <td>0.191279</td>\n",
       "    </tr>\n",
       "    <tr>\n",
       "      <th>1</th>\n",
       "      <td>Folds2</td>\n",
       "      <td>0.199234</td>\n",
       "    </tr>\n",
       "    <tr>\n",
       "      <th>2</th>\n",
       "      <td>Folds3</td>\n",
       "      <td>0.195079</td>\n",
       "    </tr>\n",
       "    <tr>\n",
       "      <th>3</th>\n",
       "      <td>Folds4</td>\n",
       "      <td>0.210721</td>\n",
       "    </tr>\n",
       "    <tr>\n",
       "      <th>4</th>\n",
       "      <td>Folds5</td>\n",
       "      <td>0.190688</td>\n",
       "    </tr>\n",
       "  </tbody>\n",
       "</table>\n",
       "</div>"
      ],
      "text/plain": [
       "    Folds   Cut_off\n",
       "0  Folds1  0.191279\n",
       "1  Folds2  0.199234\n",
       "2  Folds3  0.195079\n",
       "3  Folds4  0.210721\n",
       "4  Folds5  0.190688"
      ]
     },
     "execution_count": 666,
     "metadata": {},
     "output_type": "execute_result"
    }
   ],
   "source": [
    "cut_off_table"
   ]
  },
  {
   "cell_type": "code",
   "execution_count": 590,
   "metadata": {
    "scrolled": true
   },
   "outputs": [
    {
     "data": {
      "text/plain": [
       "count    2.171410e+05\n",
       "mean     5.940438e-02\n",
       "std      1.504117e-01\n",
       "min      9.821721e-16\n",
       "25%      3.486016e-04\n",
       "50%      4.101075e-03\n",
       "75%      3.728787e-02\n",
       "max      1.000000e+00\n",
       "dtype: float64"
      ]
     },
     "execution_count": 590,
     "metadata": {},
     "output_type": "execute_result"
    }
   ],
   "source": [
    "avg.describe()"
   ]
  },
  {
   "cell_type": "code",
   "execution_count": 669,
   "metadata": {},
   "outputs": [
    {
     "data": {
      "text/html": [
       "<div>\n",
       "<style scoped>\n",
       "    .dataframe tbody tr th:only-of-type {\n",
       "        vertical-align: middle;\n",
       "    }\n",
       "\n",
       "    .dataframe tbody tr th {\n",
       "        vertical-align: top;\n",
       "    }\n",
       "\n",
       "    .dataframe thead th {\n",
       "        text-align: right;\n",
       "    }\n",
       "</style>\n",
       "<table border=\"1\" class=\"dataframe\">\n",
       "  <thead>\n",
       "    <tr style=\"text-align: right;\">\n",
       "      <th>col_0</th>\n",
       "      <th>0</th>\n",
       "      <th>1</th>\n",
       "    </tr>\n",
       "    <tr>\n",
       "      <th>Test Values</th>\n",
       "      <th></th>\n",
       "      <th></th>\n",
       "    </tr>\n",
       "  </thead>\n",
       "  <tbody>\n",
       "    <tr>\n",
       "      <th>0</th>\n",
       "      <td>198562</td>\n",
       "      <td>15545</td>\n",
       "    </tr>\n",
       "    <tr>\n",
       "      <th>1</th>\n",
       "      <td>181</td>\n",
       "      <td>2853</td>\n",
       "    </tr>\n",
       "  </tbody>\n",
       "</table>\n",
       "</div>"
      ],
      "text/plain": [
       "col_0             0      1\n",
       "Test Values               \n",
       "0            198562  15545\n",
       "1               181   2853"
      ]
     },
     "execution_count": 669,
     "metadata": {},
     "output_type": "execute_result"
    }
   ],
   "source": [
    "avg1 = avg\n",
    "cut_off_table['Cut_off'].max(axis=0)\n",
    "avg1 = np.where(avg1<0.20,0,1)\n",
    "#print(avg)\n",
    "df_confusion = pd.crosstab(acc_table_test['Test Values'], avg1)\n",
    "df_confusion"
   ]
  },
  {
   "cell_type": "code",
   "execution_count": 670,
   "metadata": {},
   "outputs": [
    {
     "data": {
      "text/plain": [
       "0.2662374020156775"
      ]
     },
     "execution_count": 670,
     "metadata": {},
     "output_type": "execute_result"
    }
   ],
   "source": [
    "from sklearn.metrics import f1_score\n",
    "f1_score(acc_table_test['Test Values'], avg1)"
   ]
  },
  {
   "cell_type": "code",
   "execution_count": 611,
   "metadata": {},
   "outputs": [
    {
     "name": "stderr",
     "output_type": "stream",
     "text": [
      "C:\\Users\\prash\\Anaconda3\\lib\\site-packages\\pandas\\core\\generic.py:4355: SettingWithCopyWarning: \n",
      "A value is trying to be set on a copy of a slice from a DataFrame\n",
      "\n",
      "See the caveats in the documentation: http://pandas.pydata.org/pandas-docs/stable/indexing.html#indexing-view-versus-copy\n",
      "  self._update_inplace(new_data)\n"
     ]
    }
   ],
   "source": [
    "from sklearn.model_selection import train_test_split\n",
    "train, test, y_train, y_test = train_test_split(X, y,\n",
    "                                                stratify=y, \n",
    "                                                test_size=0.3,random_state=20)\n",
    "\n",
    "from imblearn.over_sampling import SMOTE\n",
    "train.fillna(train.median(),inplace=True)\n",
    "sm = SMOTE(random_state=12, ratio = 0.2)\n",
    "x_train_res, y_train_res = sm.fit_sample(train, y_train)\n",
    "x_train_res = pd.DataFrame(x_train_res)\n",
    "x_train_res.columns = train.columns\n",
    "y_train_res = pd.DataFrame(y_train_res)\n",
    "#y_train_res.columns = y_train.columns"
   ]
  },
  {
   "cell_type": "code",
   "execution_count": 673,
   "metadata": {},
   "outputs": [
    {
     "name": "stderr",
     "output_type": "stream",
     "text": [
      "C:\\Users\\prash\\Anaconda3\\lib\\site-packages\\pandas\\core\\generic.py:4355: SettingWithCopyWarning: \n",
      "A value is trying to be set on a copy of a slice from a DataFrame\n",
      "\n",
      "See the caveats in the documentation: http://pandas.pydata.org/pandas-docs/stable/indexing.html#indexing-view-versus-copy\n",
      "  self._update_inplace(new_data)\n"
     ]
    },
    {
     "name": "stdout",
     "output_type": "stream",
     "text": [
      "Validation AUC-ROC value for Fold 1 is 0.9953646960323744\n",
      "Validation AUC-ROC value for Fold 2 is 0.9998081908960267\n",
      "Validation AUC-ROC value for Fold 3 is 0.999824144930493\n",
      "Validation AUC-ROC value for Fold 4 is 0.9998069411183341\n",
      "Validation AUC-ROC value for Fold 5 is 0.9997753234570614\n",
      "Test AUC-ROC value is 0.9861578976774342\n"
     ]
    }
   ],
   "source": [
    "from sklearn.ensemble import RandomForestClassifier\n",
    "\n",
    "train_features = [_f for _f in x_train_res.columns if _f not in excluded_features]\n",
    "importances = pd.DataFrame()\n",
    "oof_reg_preds = np.zeros(x_train_res.shape[0])\n",
    "sub_reg_preds = np.zeros(test.shape[0])\n",
    "\n",
    "#acc_table = pd.DataFrame(columns = ['Test Values','Fold1','Fold2','Fold3','Fold4','Fold5'])\n",
    "#acc_table['Test Values'] = y_test\n",
    "\n",
    "cut_off_table = pd.DataFrame(columns=['Folds','Cut_off'])\n",
    "cut_off_table['Folds'] = ['Folds1','Folds2','Folds3','Folds4','Folds5']\n",
    "\n",
    "test.fillna(test.median(),inplace=True)\n",
    "\n",
    "i =6\n",
    "for a,b in skf:\n",
    "    trn_x, trn_y = x_train_res[train_features].iloc[a], y_train_res[0].iloc[a]\n",
    "    val_x, val_y = x_train_res[train_features].iloc[b], y_train_res[0].iloc[b]\n",
    "    \n",
    "    #trn_x.fillna(trn_x.median(),inplace=True)\n",
    "    #val_x.fillna(val_x.median(),inplace=True)\n",
    "    \n",
    "    clf_rf = RandomForestClassifier(n_estimators=200,random_state=10)\n",
    "    clf_rf.fit(trn_x, trn_y)\n",
    "    \n",
    "    oof_reg_preds = clf_rf.predict_proba(val_x)[:,1]\n",
    "    print(\"Validation AUC-ROC value for Fold {} is {}\".format(i-5,roc_auc_score(val_y, oof_reg_preds)))\n",
    "    \n",
    "    from sklearn import metrics\n",
    "    fpr, tpr, thresholds = metrics.roc_curve(val_y,oof_reg_preds)\n",
    "    cut_off_table.iloc[i-6,1] = thresholds[np.argmax(tpr - fpr)]\n",
    "    \n",
    "    _preds = clf_rf.predict_proba(test[train_features])[:,1]\n",
    "    acc_table_test.iloc[:,i] = _preds\n",
    "    i+=1\n",
    "    #_preds[_preds < 0] = 0\n",
    "    #sub_reg_preds = np.add(sub_reg_preds,_preds)\n",
    "\n",
    "avg = (acc_table_test['Fold1_rf'] + acc_table_test['Fold2_rf'] +acc_table_test['Fold3_rf'] + acc_table_test['Fold4_rf'] + acc_table_test['Fold5_rf'])/5.0   \n",
    "print(\"Test AUC-ROC value is {}\".format(roc_auc_score(acc_table_test['Test Values'], avg)))"
   ]
  },
  {
   "cell_type": "code",
   "execution_count": 674,
   "metadata": {},
   "outputs": [
    {
     "data": {
      "text/html": [
       "<div>\n",
       "<style scoped>\n",
       "    .dataframe tbody tr th:only-of-type {\n",
       "        vertical-align: middle;\n",
       "    }\n",
       "\n",
       "    .dataframe tbody tr th {\n",
       "        vertical-align: top;\n",
       "    }\n",
       "\n",
       "    .dataframe thead th {\n",
       "        text-align: right;\n",
       "    }\n",
       "</style>\n",
       "<table border=\"1\" class=\"dataframe\">\n",
       "  <thead>\n",
       "    <tr style=\"text-align: right;\">\n",
       "      <th></th>\n",
       "      <th>Folds</th>\n",
       "      <th>Cut_off</th>\n",
       "    </tr>\n",
       "  </thead>\n",
       "  <tbody>\n",
       "    <tr>\n",
       "      <th>0</th>\n",
       "      <td>Folds1</td>\n",
       "      <td>0.05</td>\n",
       "    </tr>\n",
       "    <tr>\n",
       "      <th>1</th>\n",
       "      <td>Folds2</td>\n",
       "      <td>0.51</td>\n",
       "    </tr>\n",
       "    <tr>\n",
       "      <th>2</th>\n",
       "      <td>Folds3</td>\n",
       "      <td>0.585</td>\n",
       "    </tr>\n",
       "    <tr>\n",
       "      <th>3</th>\n",
       "      <td>Folds4</td>\n",
       "      <td>0.555</td>\n",
       "    </tr>\n",
       "    <tr>\n",
       "      <th>4</th>\n",
       "      <td>Folds5</td>\n",
       "      <td>0.56</td>\n",
       "    </tr>\n",
       "  </tbody>\n",
       "</table>\n",
       "</div>"
      ],
      "text/plain": [
       "    Folds Cut_off\n",
       "0  Folds1    0.05\n",
       "1  Folds2    0.51\n",
       "2  Folds3   0.585\n",
       "3  Folds4   0.555\n",
       "4  Folds5    0.56"
      ]
     },
     "execution_count": 674,
     "metadata": {},
     "output_type": "execute_result"
    }
   ],
   "source": [
    "cut_off_table"
   ]
  },
  {
   "cell_type": "code",
   "execution_count": 679,
   "metadata": {},
   "outputs": [
    {
     "data": {
      "text/html": [
       "<div>\n",
       "<style scoped>\n",
       "    .dataframe tbody tr th:only-of-type {\n",
       "        vertical-align: middle;\n",
       "    }\n",
       "\n",
       "    .dataframe tbody tr th {\n",
       "        vertical-align: top;\n",
       "    }\n",
       "\n",
       "    .dataframe thead th {\n",
       "        text-align: right;\n",
       "    }\n",
       "</style>\n",
       "<table border=\"1\" class=\"dataframe\">\n",
       "  <thead>\n",
       "    <tr style=\"text-align: right;\">\n",
       "      <th>col_0</th>\n",
       "      <th>0</th>\n",
       "      <th>1</th>\n",
       "    </tr>\n",
       "    <tr>\n",
       "      <th>Test Values</th>\n",
       "      <th></th>\n",
       "      <th></th>\n",
       "    </tr>\n",
       "  </thead>\n",
       "  <tbody>\n",
       "    <tr>\n",
       "      <th>0</th>\n",
       "      <td>213172</td>\n",
       "      <td>935</td>\n",
       "    </tr>\n",
       "    <tr>\n",
       "      <th>1</th>\n",
       "      <td>1899</td>\n",
       "      <td>1135</td>\n",
       "    </tr>\n",
       "  </tbody>\n",
       "</table>\n",
       "</div>"
      ],
      "text/plain": [
       "col_0             0     1\n",
       "Test Values              \n",
       "0            213172   935\n",
       "1              1899  1135"
      ]
     },
     "execution_count": 679,
     "metadata": {},
     "output_type": "execute_result"
    }
   ],
   "source": [
    "avg1 = avg\n",
    "cut_off_table['Cut_off'].max(axis=0)\n",
    "avg1 = np.where(avg1<0.585,0,1)\n",
    "#print(avg)\n",
    "df_confusion = pd.crosstab(acc_table_test['Test Values'], avg1)\n",
    "df_confusion"
   ]
  },
  {
   "cell_type": "code",
   "execution_count": 680,
   "metadata": {},
   "outputs": [
    {
     "data": {
      "text/plain": [
       "0.44474921630094044"
      ]
     },
     "execution_count": 680,
     "metadata": {},
     "output_type": "execute_result"
    }
   ],
   "source": [
    "from sklearn.metrics import f1_score\n",
    "f1_score(acc_table_test['Test Values'], avg1)"
   ]
  },
  {
   "cell_type": "code",
   "execution_count": 681,
   "metadata": {
    "scrolled": true
   },
   "outputs": [
    {
     "name": "stdout",
     "output_type": "stream",
     "text": [
      "[0]\tvalidation_0-auc:0.923637\n",
      "Will train until validation_0-auc hasn't improved in 20 rounds.\n",
      "[100]\tvalidation_0-auc:0.990837\n",
      "[200]\tvalidation_0-auc:0.992541\n",
      "[300]\tvalidation_0-auc:0.99364\n",
      "[400]\tvalidation_0-auc:0.99411\n",
      "[499]\tvalidation_0-auc:0.994342\n",
      "Validation AUC-ROC value for Fold 1 is 0.9943419686658581\n",
      "[0]\tvalidation_0-auc:0.982098\n",
      "Will train until validation_0-auc hasn't improved in 20 rounds.\n",
      "[100]\tvalidation_0-auc:0.993933\n",
      "[200]\tvalidation_0-auc:0.99611\n",
      "[300]\tvalidation_0-auc:0.997663\n",
      "[400]\tvalidation_0-auc:0.998554\n",
      "[499]\tvalidation_0-auc:0.998964\n",
      "Validation AUC-ROC value for Fold 2 is 0.9989640638581346\n",
      "[0]\tvalidation_0-auc:0.973368\n",
      "Will train until validation_0-auc hasn't improved in 20 rounds.\n",
      "[100]\tvalidation_0-auc:0.994184\n",
      "[200]\tvalidation_0-auc:0.996312\n",
      "[300]\tvalidation_0-auc:0.997683\n",
      "[400]\tvalidation_0-auc:0.998608\n",
      "[499]\tvalidation_0-auc:0.998997\n",
      "Validation AUC-ROC value for Fold 3 is 0.9989965316048887\n",
      "[0]\tvalidation_0-auc:0.972745\n",
      "Will train until validation_0-auc hasn't improved in 20 rounds.\n",
      "[100]\tvalidation_0-auc:0.994223\n",
      "[200]\tvalidation_0-auc:0.996313\n",
      "[300]\tvalidation_0-auc:0.997745\n",
      "[400]\tvalidation_0-auc:0.998665\n",
      "[499]\tvalidation_0-auc:0.999019\n",
      "Validation AUC-ROC value for Fold 4 is 0.9990194718575364\n",
      "[0]\tvalidation_0-auc:0.972978\n",
      "Will train until validation_0-auc hasn't improved in 20 rounds.\n",
      "[100]\tvalidation_0-auc:0.994161\n",
      "[200]\tvalidation_0-auc:0.996276\n",
      "[300]\tvalidation_0-auc:0.997613\n",
      "[400]\tvalidation_0-auc:0.998474\n",
      "[499]\tvalidation_0-auc:0.998924\n",
      "Validation AUC-ROC value for Fold 5 is 0.9989242389819729\n",
      "Test AUC-ROC value is 0.9863214720241701\n"
     ]
    }
   ],
   "source": [
    "import xgboost as xgb\n",
    "from sklearn.cross_validation import KFold\n",
    "\n",
    "train_features = [_f for _f in x_train_res.columns if _f not in excluded_features]\n",
    "importances = pd.DataFrame()\n",
    "oof_reg_preds = np.zeros(x_train_res.shape[0])\n",
    "sub_reg_preds = np.zeros(test.shape[0])\n",
    "\n",
    "acc_table = pd.DataFrame(columns = ['Test Values','Fold1','Fold2','Fold3','Fold4','Fold5'])\n",
    "acc_table['Test Values'] = y_test\n",
    "\n",
    "cut_off_table = pd.DataFrame(columns=['Folds','Cut_off'])\n",
    "cut_off_table['Folds'] = ['Folds1','Folds2','Folds3','Folds4','Folds5']\n",
    "\n",
    "i =11\n",
    "for a,b in skf:\n",
    "    trn_x, trn_y = x_train_res[train_features].iloc[a], y_train_res[0].iloc[a]\n",
    "    val_x, val_y = x_train_res[train_features].iloc[b], y_train_res[0].iloc[b]\n",
    "    #print(trn_x.head())\n",
    "    #trn_x.fillna(trn_x.median(),inplace=True)\n",
    "    #val_x.fillna(val_x.median(),inplace=True)\n",
    "    clf = xgb.XGBClassifier(\n",
    "            num_leaves=31,\n",
    "            learning_rate=0.03,\n",
    "            n_estimators=500,\n",
    "            subsample=.9,\n",
    "            colsample_bytree=.9,\n",
    "            random_state=1\n",
    "        )\n",
    "    clf.fit(\n",
    "        trn_x, trn_y,\n",
    "        eval_set=[(val_x,val_y)],\n",
    "        early_stopping_rounds=20,\n",
    "        verbose=100,\n",
    "        eval_metric='auc'\n",
    "        #objective='multi:softprob'\n",
    "        )\n",
    "    imp_df = pd.DataFrame()\n",
    "    imp_df['feature'] = train_features\n",
    "    imp_df['gain'] = clf.feature_importances_\n",
    "\n",
    "    imp_df['fold'] = i\n",
    "    importances = pd.concat([importances, imp_df], axis=0)\n",
    "    \n",
    "    best_iteration = clf.get_booster().best_ntree_limit\n",
    "\n",
    "    oof_reg_preds = clf.predict_proba(val_x,best_iteration)[:,1]\n",
    "    #oof_reg_preds = lr.predict_proba(val_x)[:,1]\n",
    "    #print(oof_reg_preds)\n",
    "    print(\"Validation AUC-ROC value for Fold {} is {}\".format(i-10,roc_auc_score(val_y, oof_reg_preds)))\n",
    "    \n",
    "    from sklearn import metrics\n",
    "    fpr, tpr, thresholds = metrics.roc_curve(val_y,oof_reg_preds)\n",
    "    cut_off_table.iloc[i-11,1] = thresholds[np.argmax(tpr - fpr)]\n",
    "    \n",
    "    best_iteration = clf.get_booster().best_ntree_limit\n",
    "    #print(best_iteration)\n",
    "    #oof_reg_preds[oof_reg_preds < 0] = 0\n",
    "    _preds = clf.predict_proba(test[train_features],best_iteration)[:,1]\n",
    "    acc_table_test.iloc[:,i] = _preds\n",
    "    i+=1\n",
    "    #_preds[_preds < 0] = 0\n",
    "    #sub_reg_preds = np.add(sub_reg_preds,_preds)\n",
    "avg = (acc_table_test['Fold1_xgb'] + acc_table_test['Fold2_xgb'] +acc_table_test['Fold3_xgb'] + acc_table_test['Fold4_xgb'] + acc_table_test['Fold5_xgb'])/5.0   \n",
    "print(\"Test AUC-ROC value is {}\".format(roc_auc_score(acc_table_test['Test Values'], avg)))\n",
    "#print(\"Test AUC-ROC value is {}\".format(roc_auc_score(y_test, sub_reg_preds)))"
   ]
  },
  {
   "cell_type": "code",
   "execution_count": 682,
   "metadata": {},
   "outputs": [
    {
     "data": {
      "text/html": [
       "<div>\n",
       "<style scoped>\n",
       "    .dataframe tbody tr th:only-of-type {\n",
       "        vertical-align: middle;\n",
       "    }\n",
       "\n",
       "    .dataframe tbody tr th {\n",
       "        vertical-align: top;\n",
       "    }\n",
       "\n",
       "    .dataframe thead th {\n",
       "        text-align: right;\n",
       "    }\n",
       "</style>\n",
       "<table border=\"1\" class=\"dataframe\">\n",
       "  <thead>\n",
       "    <tr style=\"text-align: right;\">\n",
       "      <th></th>\n",
       "      <th>Folds</th>\n",
       "      <th>Cut_off</th>\n",
       "    </tr>\n",
       "  </thead>\n",
       "  <tbody>\n",
       "    <tr>\n",
       "      <th>0</th>\n",
       "      <td>Folds1</td>\n",
       "      <td>0.0443643</td>\n",
       "    </tr>\n",
       "    <tr>\n",
       "      <th>1</th>\n",
       "      <td>Folds2</td>\n",
       "      <td>0.444984</td>\n",
       "    </tr>\n",
       "    <tr>\n",
       "      <th>2</th>\n",
       "      <td>Folds3</td>\n",
       "      <td>0.460415</td>\n",
       "    </tr>\n",
       "    <tr>\n",
       "      <th>3</th>\n",
       "      <td>Folds4</td>\n",
       "      <td>0.458805</td>\n",
       "    </tr>\n",
       "    <tr>\n",
       "      <th>4</th>\n",
       "      <td>Folds5</td>\n",
       "      <td>0.402346</td>\n",
       "    </tr>\n",
       "  </tbody>\n",
       "</table>\n",
       "</div>"
      ],
      "text/plain": [
       "    Folds    Cut_off\n",
       "0  Folds1  0.0443643\n",
       "1  Folds2   0.444984\n",
       "2  Folds3   0.460415\n",
       "3  Folds4   0.458805\n",
       "4  Folds5   0.402346"
      ]
     },
     "execution_count": 682,
     "metadata": {},
     "output_type": "execute_result"
    }
   ],
   "source": [
    "cut_off_table"
   ]
  },
  {
   "cell_type": "code",
   "execution_count": 683,
   "metadata": {},
   "outputs": [
    {
     "name": "stdout",
     "output_type": "stream",
     "text": [
      "0.499874843554443\n"
     ]
    },
    {
     "data": {
      "text/html": [
       "<div>\n",
       "<style scoped>\n",
       "    .dataframe tbody tr th:only-of-type {\n",
       "        vertical-align: middle;\n",
       "    }\n",
       "\n",
       "    .dataframe tbody tr th {\n",
       "        vertical-align: top;\n",
       "    }\n",
       "\n",
       "    .dataframe thead th {\n",
       "        text-align: right;\n",
       "    }\n",
       "</style>\n",
       "<table border=\"1\" class=\"dataframe\">\n",
       "  <thead>\n",
       "    <tr style=\"text-align: right;\">\n",
       "      <th>col_0</th>\n",
       "      <th>0</th>\n",
       "      <th>1</th>\n",
       "    </tr>\n",
       "    <tr>\n",
       "      <th>Test Values</th>\n",
       "      <th></th>\n",
       "      <th></th>\n",
       "    </tr>\n",
       "  </thead>\n",
       "  <tbody>\n",
       "    <tr>\n",
       "      <th>0</th>\n",
       "      <td>211148</td>\n",
       "      <td>2959</td>\n",
       "    </tr>\n",
       "    <tr>\n",
       "      <th>1</th>\n",
       "      <td>1037</td>\n",
       "      <td>1997</td>\n",
       "    </tr>\n",
       "  </tbody>\n",
       "</table>\n",
       "</div>"
      ],
      "text/plain": [
       "col_0             0     1\n",
       "Test Values              \n",
       "0            211148  2959\n",
       "1              1037  1997"
      ]
     },
     "execution_count": 683,
     "metadata": {},
     "output_type": "execute_result"
    }
   ],
   "source": [
    "avg1 = avg\n",
    "cut_off_table['Cut_off'].max(axis=0)\n",
    "avg1 = np.where(avg1<0.458805,0,1)\n",
    "df_confusion = pd.crosstab(acc_table_test['Test Values'], avg1)\n",
    "from sklearn.metrics import f1_score\n",
    "print(f1_score(acc_table_test['Test Values'], avg1))\n",
    "#df_confusion = pd.crosstab(acc_table_test['Test Values'], avg1)\n",
    "df_confusion"
   ]
  },
  {
   "cell_type": "code",
   "execution_count": 684,
   "metadata": {},
   "outputs": [
    {
     "name": "stdout",
     "output_type": "stream",
     "text": [
      "Ensembled Test AUC-ROC value is 0.9859934081530259\n"
     ]
    }
   ],
   "source": [
    "#acc_table_test.iloc[:,1:16]\n",
    "ensemble_value = acc_table_test.iloc[:,1:15].mean(axis=1)\n",
    "print(\"Ensembled Test AUC-ROC value is {}\".format(roc_auc_score(acc_table_test['Test Values'], ensemble_value)))"
   ]
  },
  {
   "cell_type": "code",
   "execution_count": 685,
   "metadata": {},
   "outputs": [
    {
     "name": "stdout",
     "output_type": "stream",
     "text": [
      "0.5158813263525305\n"
     ]
    },
    {
     "data": {
      "text/html": [
       "<div>\n",
       "<style scoped>\n",
       "    .dataframe tbody tr th:only-of-type {\n",
       "        vertical-align: middle;\n",
       "    }\n",
       "\n",
       "    .dataframe tbody tr th {\n",
       "        vertical-align: top;\n",
       "    }\n",
       "\n",
       "    .dataframe thead th {\n",
       "        text-align: right;\n",
       "    }\n",
       "</style>\n",
       "<table border=\"1\" class=\"dataframe\">\n",
       "  <thead>\n",
       "    <tr style=\"text-align: right;\">\n",
       "      <th>col_0</th>\n",
       "      <th>0</th>\n",
       "      <th>1</th>\n",
       "    </tr>\n",
       "    <tr>\n",
       "      <th>Test Values</th>\n",
       "      <th></th>\n",
       "      <th></th>\n",
       "    </tr>\n",
       "  </thead>\n",
       "  <tbody>\n",
       "    <tr>\n",
       "      <th>0</th>\n",
       "      <td>210763</td>\n",
       "      <td>3344</td>\n",
       "    </tr>\n",
       "    <tr>\n",
       "      <th>1</th>\n",
       "      <td>817</td>\n",
       "      <td>2217</td>\n",
       "    </tr>\n",
       "  </tbody>\n",
       "</table>\n",
       "</div>"
      ],
      "text/plain": [
       "col_0             0     1\n",
       "Test Values              \n",
       "0            210763  3344\n",
       "1               817  2217"
      ]
     },
     "execution_count": 685,
     "metadata": {},
     "output_type": "execute_result"
    }
   ],
   "source": [
    "avg1_v1 = np.where(ensemble_value<0.458805,0,1)\n",
    "df_confusion = pd.crosstab(acc_table_test['Test Values'], avg1_v1)\n",
    "from sklearn.metrics import f1_score\n",
    "print(f1_score(acc_table_test['Test Values'], avg1_v1))\n",
    "#df_confusion = pd.crosstab(acc_table_test['Test Values'], avg1)\n",
    "df_confusion"
   ]
  },
  {
   "cell_type": "code",
   "execution_count": null,
   "metadata": {},
   "outputs": [],
   "source": []
  }
 ],
 "metadata": {
  "kernelspec": {
   "display_name": "Python 3",
   "language": "python",
   "name": "python3"
  },
  "language_info": {
   "codemirror_mode": {
    "name": "ipython",
    "version": 3
   },
   "file_extension": ".py",
   "mimetype": "text/x-python",
   "name": "python",
   "nbconvert_exporter": "python",
   "pygments_lexer": "ipython3",
   "version": "3.6.4"
  }
 },
 "nbformat": 4,
 "nbformat_minor": 2
}
