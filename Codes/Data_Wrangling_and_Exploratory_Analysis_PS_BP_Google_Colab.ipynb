{
  "nbformat": 4,
  "nbformat_minor": 0,
  "metadata": {
    "colab": {
      "name": "Data Wrangling and Exploratory Analysis_PS_BP.ipynb",
      "version": "0.3.2",
      "provenance": [],
      "collapsed_sections": [
        "beN5vyS6KtuY",
        "NcyRfqGyKtue"
      ],
      "include_colab_link": true
    },
    "kernelspec": {
      "display_name": "Python 3",
      "language": "python",
      "name": "python3"
    }
  },
  "cells": [
    {
      "cell_type": "markdown",
      "metadata": {
        "id": "view-in-github",
        "colab_type": "text"
      },
      "source": [
        "<a href=\"https://colab.research.google.com/github/Prashanth1194/Google-Analytics-Analysis/blob/master/Codes/Data_Wrangling_and_Exploratory_Analysis_PS_BP_Google_Colab.ipynb\" target=\"_parent\"><img src=\"https://colab.research.google.com/assets/colab-badge.svg\" alt=\"Open In Colab\"/></a>"
      ]
    },
    {
      "metadata": {
        "id": "Ib4_9WD0KtrR",
        "colab_type": "text"
      },
      "cell_type": "markdown",
      "source": [
        "### Loading the libraries"
      ]
    },
    {
      "metadata": {
        "id": "ncUVZ4BXLC2m",
        "colab_type": "code",
        "colab": {
          "base_uri": "https://localhost:8080/",
          "height": 323
        },
        "outputId": "c7ed8156-8ff1-416c-ba0f-53a135b604dc"
      },
      "cell_type": "code",
      "source": [
        "! pip install pydrive\n",
        "# these classes allow you to request the Google drive API\n",
        "from pydrive.auth import GoogleAuth\n",
        "from pydrive.drive import GoogleDrive \n",
        "from google.colab import auth \n",
        "from oauth2client.client import GoogleCredentials\n",
        "\n",
        "# 1. Authenticate and create the PyDrive client.\n",
        "auth.authenticate_user()\n",
        "gauth = GoogleAuth()\n",
        "gauth.credentials = GoogleCredentials.get_application_default()\n",
        "drive = GoogleDrive(gauth)"
      ],
      "execution_count": 1,
      "outputs": [
        {
          "output_type": "stream",
          "text": [
            "Collecting pydrive\n",
            "\u001b[?25l  Downloading https://files.pythonhosted.org/packages/52/e0/0e64788e5dd58ce2d6934549676243dc69d982f198524be9b99e9c2a4fd5/PyDrive-1.3.1.tar.gz (987kB)\n",
            "\u001b[K    100% |████████████████████████████████| 993kB 4.1MB/s \n",
            "\u001b[?25hRequirement already satisfied: google-api-python-client>=1.2 in /usr/local/lib/python3.6/dist-packages (from pydrive) (1.6.7)\n",
            "Requirement already satisfied: oauth2client>=4.0.0 in /usr/local/lib/python3.6/dist-packages (from pydrive) (4.1.3)\n",
            "Requirement already satisfied: PyYAML>=3.0 in /usr/local/lib/python3.6/dist-packages (from pydrive) (3.13)\n",
            "Requirement already satisfied: six<2dev,>=1.6.1 in /usr/local/lib/python3.6/dist-packages (from google-api-python-client>=1.2->pydrive) (1.11.0)\n",
            "Requirement already satisfied: uritemplate<4dev,>=3.0.0 in /usr/local/lib/python3.6/dist-packages (from google-api-python-client>=1.2->pydrive) (3.0.0)\n",
            "Requirement already satisfied: httplib2<1dev,>=0.9.2 in /usr/local/lib/python3.6/dist-packages (from google-api-python-client>=1.2->pydrive) (0.11.3)\n",
            "Requirement already satisfied: pyasn1>=0.1.7 in /usr/local/lib/python3.6/dist-packages (from oauth2client>=4.0.0->pydrive) (0.4.4)\n",
            "Requirement already satisfied: rsa>=3.1.4 in /usr/local/lib/python3.6/dist-packages (from oauth2client>=4.0.0->pydrive) (4.0)\n",
            "Requirement already satisfied: pyasn1-modules>=0.0.5 in /usr/local/lib/python3.6/dist-packages (from oauth2client>=4.0.0->pydrive) (0.2.2)\n",
            "Building wheels for collected packages: pydrive\n",
            "  Running setup.py bdist_wheel for pydrive ... \u001b[?25l-\b \bdone\n",
            "\u001b[?25h  Stored in directory: /root/.cache/pip/wheels/fa/d2/9a/d3b6b506c2da98289e5d417215ce34b696db856643bad779f4\n",
            "Successfully built pydrive\n",
            "Installing collected packages: pydrive\n",
            "Successfully installed pydrive-1.3.1\n"
          ],
          "name": "stdout"
        }
      ]
    },
    {
      "metadata": {
        "id": "0Hn9wdrBLAp3",
        "colab_type": "code",
        "colab": {
          "base_uri": "https://localhost:8080/",
          "height": 238
        },
        "outputId": "95bcba15-03b1-4400-8baf-2457c5bf8153"
      },
      "cell_type": "code",
      "source": [
        "!pip install -U imbalanced-learn"
      ],
      "execution_count": 2,
      "outputs": [
        {
          "output_type": "stream",
          "text": [
            "Collecting imbalanced-learn\n",
            "\u001b[?25l  Downloading https://files.pythonhosted.org/packages/c5/ea/f027ceb21114abe8189a2804640b2d5dd49a7a271c4814695482c5bc94d8/imbalanced_learn-0.4.2-py3-none-any.whl (166kB)\n",
            "\u001b[K    100% |████████████████████████████████| 174kB 7.0MB/s \n",
            "\u001b[?25hRequirement already satisfied, skipping upgrade: numpy>=1.8.2 in /usr/local/lib/python3.6/dist-packages (from imbalanced-learn) (1.14.6)\n",
            "Requirement already satisfied, skipping upgrade: scipy>=0.13.3 in /usr/local/lib/python3.6/dist-packages (from imbalanced-learn) (0.19.1)\n",
            "Collecting scikit-learn>=0.20 (from imbalanced-learn)\n",
            "\u001b[?25l  Downloading https://files.pythonhosted.org/packages/0c/b2/05be9b6da9ae4a4c54f537be22e95833f722742a02b1e355fdc09363877c/scikit_learn-0.20.0-cp36-cp36m-manylinux1_x86_64.whl (5.3MB)\n",
            "\u001b[K    100% |████████████████████████████████| 5.3MB 6.0MB/s \n",
            "\u001b[?25hInstalling collected packages: scikit-learn, imbalanced-learn\n",
            "  Found existing installation: scikit-learn 0.19.2\n",
            "    Uninstalling scikit-learn-0.19.2:\n",
            "      Successfully uninstalled scikit-learn-0.19.2\n",
            "Successfully installed imbalanced-learn-0.4.2 scikit-learn-0.20.0\n"
          ],
          "name": "stdout"
        }
      ]
    },
    {
      "metadata": {
        "id": "TOI5qbkOLNz8",
        "colab_type": "code",
        "colab": {
          "base_uri": "https://localhost:8080/",
          "height": 204
        },
        "outputId": "b9a0d9e4-e2f3-427c-cf31-08eb4ee140c0"
      },
      "cell_type": "code",
      "source": [
        "!pip install sklearn"
      ],
      "execution_count": 3,
      "outputs": [
        {
          "output_type": "stream",
          "text": [
            "Collecting sklearn\n",
            "  Downloading https://files.pythonhosted.org/packages/1e/7a/dbb3be0ce9bd5c8b7e3d87328e79063f8b263b2b1bfa4774cb1147bfcd3f/sklearn-0.0.tar.gz\n",
            "Requirement already satisfied: scikit-learn in /usr/local/lib/python3.6/dist-packages (from sklearn) (0.20.0)\n",
            "Requirement already satisfied: scipy>=0.13.3 in /usr/local/lib/python3.6/dist-packages (from scikit-learn->sklearn) (0.19.1)\n",
            "Requirement already satisfied: numpy>=1.8.2 in /usr/local/lib/python3.6/dist-packages (from scikit-learn->sklearn) (1.14.6)\n",
            "Building wheels for collected packages: sklearn\n",
            "  Running setup.py bdist_wheel for sklearn ... \u001b[?25l-\b \bdone\n",
            "\u001b[?25h  Stored in directory: /root/.cache/pip/wheels/76/03/bb/589d421d27431bcd2c6da284d5f2286c8e3b2ea3cf1594c074\n",
            "Successfully built sklearn\n",
            "Installing collected packages: sklearn\n",
            "Successfully installed sklearn-0.0\n"
          ],
          "name": "stdout"
        }
      ]
    },
    {
      "metadata": {
        "id": "xOEIzitKLU-8",
        "colab_type": "code",
        "colab": {}
      },
      "cell_type": "code",
      "source": [
        "#https://drive.google.com/open?id=1wNZD95CltyE2vcpUVYiBjNJAeciaf9Jj\n",
        "#https://drive.google.com/open?id=1OkSd5HolKqcQ1wYQpxJg46WrVc7YwxmA\n",
        "file_id = '14-TJPt3XPUdLgdb2xwa1ZzovLRQXIsXe'\n",
        "#https://drive.google.com/open?id=14-TJPt3XPUdLgdb2xwa1ZzovLRQXIsXe\n",
        "downloaded = drive.CreateFile({'id': file_id})\n",
        "# allows you to temporarily load your file in the notebook VM\n",
        "\n",
        "# assume the file is called file.csv and it's located at the root of your drive\n",
        "downloaded.GetContentFile('train-flattened_v2.csv')"
      ],
      "execution_count": 0,
      "outputs": []
    },
    {
      "metadata": {
        "id": "P_YjCpsqKtrT",
        "colab_type": "code",
        "colab": {}
      },
      "cell_type": "code",
      "source": [
        "%matplotlib inline\n",
        "\n",
        "import pandas as pd\n",
        "import numpy as np\n",
        "import matplotlib.pyplot as plt\n",
        "import seaborn as sns\n",
        "from sklearn.metrics import roc_auc_score\n",
        "from sklearn.linear_model import LogisticRegression\n",
        "from sklearn.model_selection import StratifiedKFold\n",
        "from sklearn.model_selection import train_test_split\n",
        "from imblearn.over_sampling import SMOTE\n",
        "from sklearn.ensemble import RandomForestClassifier,GradientBoostingClassifier\n",
        "from sklearn.model_selection import GridSearchCV\n",
        "import warnings\n",
        "warnings.filterwarnings('ignore')"
      ],
      "execution_count": 0,
      "outputs": []
    },
    {
      "metadata": {
        "id": "pcnh4vIBKtrW",
        "colab_type": "text"
      },
      "cell_type": "markdown",
      "source": [
        "### Reading the data"
      ]
    },
    {
      "metadata": {
        "id": "qrkbcd8bKtrX",
        "colab_type": "code",
        "colab": {
          "base_uri": "https://localhost:8080/",
          "height": 799
        },
        "outputId": "d04805d8-867d-48ca-8e9f-c38ef0d0e140"
      },
      "cell_type": "code",
      "source": [
        "train_df = pd.read_csv(\"train-flattened_v2.csv\")\n",
        "print(train_df.shape)\n",
        "train_df['trafficSource.adContent'].value_counts()"
      ],
      "execution_count": 6,
      "outputs": [
        {
          "output_type": "stream",
          "text": [
            "(903653, 55)\n"
          ],
          "name": "stdout"
        },
        {
          "output_type": "execute_result",
          "data": {
            "text/plain": [
              "Google Merchandise Collection                  5122\n",
              "Google Online Store                            1245\n",
              "Display Ad created 3/11/14                      967\n",
              "Full auto ad IMAGE ONLY                         822\n",
              "Ad from 12/13/16                                610\n",
              "Ad from 11/3/16                                 489\n",
              "Display Ad created 3/11/15                      392\n",
              "{KeyWord:Google Brand Items}                    251\n",
              "{KeyWord:Google Merchandise}                    155\n",
              "Ad from 11/7/16                                 123\n",
              "Google Merchandise                               87\n",
              "First Full Auto Template Test Ad                 87\n",
              "20% discount                                     75\n",
              "{KeyWord:Google Branded Gear}                    67\n",
              "{KeyWord:Looking for Google Bags?}               65\n",
              "Swag with Google Logos                           64\n",
              "Display Ad created 11/17/14                      50\n",
              "{KeyWord:Want Google Stickers?}                  42\n",
              "JD_5a_v1                                         41\n",
              "{KeyWord:Google Drinkware}                       32\n",
              "{KeyWord:Google Men's T-Shirts}                  30\n",
              "LeEco_1a                                         25\n",
              "Full auto ad TEXT ONLY                           16\n",
              "{KeyWord:Google Branded Kit}                     16\n",
              "{KeyWord:Google Branded Apparel}                 10\n",
              "Want Google Sunglasses                            8\n",
              "Google Paraphernalia                              7\n",
              "Full auto ad TEXT/NATIVE                          7\n",
              "{KeyWord:Google Branded Outerwear}                5\n",
              "Google Store                                      4\n",
              "{KeyWord:Want Google Pet Toys?}                   4\n",
              "Official Google Merchandise - Fast Shipping       4\n",
              "Full auto ad with Primary Color                   3\n",
              "url_builder                                       3\n",
              "Ad from 2/17/17                                   3\n",
              "free shipping                                     3\n",
              "Full auto ad NATIVE ONLY                          3\n",
              "Google store                                      2\n",
              "Free Shipping!                                    2\n",
              "google store                                      1\n",
              "GA Help Center                                    1\n",
              "Swag w/ Google Logos                              1\n",
              "Men's-Outerwear Google Apparel                    1\n",
              "visit us again                                    1\n",
              "Name: trafficSource.adContent, dtype: int64"
            ]
          },
          "metadata": {
            "tags": []
          },
          "execution_count": 6
        }
      ]
    },
    {
      "metadata": {
        "id": "HBU7hSlAKtrc",
        "colab_type": "text"
      },
      "cell_type": "markdown",
      "source": [
        "### Sneak Peek at the data"
      ]
    },
    {
      "metadata": {
        "scrolled": true,
        "id": "GBoQnJG8Ktrd",
        "colab_type": "code",
        "colab": {
          "base_uri": "https://localhost:8080/",
          "height": 338
        },
        "outputId": "027a85d9-1bd4-4504-babc-6fd841ec5776"
      },
      "cell_type": "code",
      "source": [
        "train_df.head()"
      ],
      "execution_count": 7,
      "outputs": [
        {
          "output_type": "execute_result",
          "data": {
            "text/html": [
              "<div>\n",
              "<style scoped>\n",
              "    .dataframe tbody tr th:only-of-type {\n",
              "        vertical-align: middle;\n",
              "    }\n",
              "\n",
              "    .dataframe tbody tr th {\n",
              "        vertical-align: top;\n",
              "    }\n",
              "\n",
              "    .dataframe thead th {\n",
              "        text-align: right;\n",
              "    }\n",
              "</style>\n",
              "<table border=\"1\" class=\"dataframe\">\n",
              "  <thead>\n",
              "    <tr style=\"text-align: right;\">\n",
              "      <th></th>\n",
              "      <th>channelGrouping</th>\n",
              "      <th>date</th>\n",
              "      <th>fullVisitorId</th>\n",
              "      <th>sessionId</th>\n",
              "      <th>socialEngagementType</th>\n",
              "      <th>visitId</th>\n",
              "      <th>visitNumber</th>\n",
              "      <th>visitStartTime</th>\n",
              "      <th>device.browser</th>\n",
              "      <th>device.browserSize</th>\n",
              "      <th>...</th>\n",
              "      <th>trafficSource.adwordsClickInfo.isVideoAd</th>\n",
              "      <th>trafficSource.adwordsClickInfo.page</th>\n",
              "      <th>trafficSource.adwordsClickInfo.slot</th>\n",
              "      <th>trafficSource.campaign</th>\n",
              "      <th>trafficSource.campaignCode</th>\n",
              "      <th>trafficSource.isTrueDirect</th>\n",
              "      <th>trafficSource.keyword</th>\n",
              "      <th>trafficSource.medium</th>\n",
              "      <th>trafficSource.referralPath</th>\n",
              "      <th>trafficSource.source</th>\n",
              "    </tr>\n",
              "  </thead>\n",
              "  <tbody>\n",
              "    <tr>\n",
              "      <th>0</th>\n",
              "      <td>Organic Search</td>\n",
              "      <td>20160902</td>\n",
              "      <td>1131660440785968503</td>\n",
              "      <td>1131660440785968503_1472830385</td>\n",
              "      <td>Not Socially Engaged</td>\n",
              "      <td>1472830385</td>\n",
              "      <td>1</td>\n",
              "      <td>1472830385</td>\n",
              "      <td>Chrome</td>\n",
              "      <td>not available in demo dataset</td>\n",
              "      <td>...</td>\n",
              "      <td>NaN</td>\n",
              "      <td>NaN</td>\n",
              "      <td>NaN</td>\n",
              "      <td>(not set)</td>\n",
              "      <td>NaN</td>\n",
              "      <td>NaN</td>\n",
              "      <td>(not provided)</td>\n",
              "      <td>organic</td>\n",
              "      <td>NaN</td>\n",
              "      <td>google</td>\n",
              "    </tr>\n",
              "    <tr>\n",
              "      <th>1</th>\n",
              "      <td>Organic Search</td>\n",
              "      <td>20160902</td>\n",
              "      <td>377306020877927890</td>\n",
              "      <td>377306020877927890_1472880147</td>\n",
              "      <td>Not Socially Engaged</td>\n",
              "      <td>1472880147</td>\n",
              "      <td>1</td>\n",
              "      <td>1472880147</td>\n",
              "      <td>Firefox</td>\n",
              "      <td>not available in demo dataset</td>\n",
              "      <td>...</td>\n",
              "      <td>NaN</td>\n",
              "      <td>NaN</td>\n",
              "      <td>NaN</td>\n",
              "      <td>(not set)</td>\n",
              "      <td>NaN</td>\n",
              "      <td>NaN</td>\n",
              "      <td>(not provided)</td>\n",
              "      <td>organic</td>\n",
              "      <td>NaN</td>\n",
              "      <td>google</td>\n",
              "    </tr>\n",
              "    <tr>\n",
              "      <th>2</th>\n",
              "      <td>Organic Search</td>\n",
              "      <td>20160902</td>\n",
              "      <td>3895546263509774583</td>\n",
              "      <td>3895546263509774583_1472865386</td>\n",
              "      <td>Not Socially Engaged</td>\n",
              "      <td>1472865386</td>\n",
              "      <td>1</td>\n",
              "      <td>1472865386</td>\n",
              "      <td>Chrome</td>\n",
              "      <td>not available in demo dataset</td>\n",
              "      <td>...</td>\n",
              "      <td>NaN</td>\n",
              "      <td>NaN</td>\n",
              "      <td>NaN</td>\n",
              "      <td>(not set)</td>\n",
              "      <td>NaN</td>\n",
              "      <td>NaN</td>\n",
              "      <td>(not provided)</td>\n",
              "      <td>organic</td>\n",
              "      <td>NaN</td>\n",
              "      <td>google</td>\n",
              "    </tr>\n",
              "    <tr>\n",
              "      <th>3</th>\n",
              "      <td>Organic Search</td>\n",
              "      <td>20160902</td>\n",
              "      <td>4763447161404445595</td>\n",
              "      <td>4763447161404445595_1472881213</td>\n",
              "      <td>Not Socially Engaged</td>\n",
              "      <td>1472881213</td>\n",
              "      <td>1</td>\n",
              "      <td>1472881213</td>\n",
              "      <td>UC Browser</td>\n",
              "      <td>not available in demo dataset</td>\n",
              "      <td>...</td>\n",
              "      <td>NaN</td>\n",
              "      <td>NaN</td>\n",
              "      <td>NaN</td>\n",
              "      <td>(not set)</td>\n",
              "      <td>NaN</td>\n",
              "      <td>NaN</td>\n",
              "      <td>google + online</td>\n",
              "      <td>organic</td>\n",
              "      <td>NaN</td>\n",
              "      <td>google</td>\n",
              "    </tr>\n",
              "    <tr>\n",
              "      <th>4</th>\n",
              "      <td>Organic Search</td>\n",
              "      <td>20160902</td>\n",
              "      <td>27294437909732085</td>\n",
              "      <td>27294437909732085_1472822600</td>\n",
              "      <td>Not Socially Engaged</td>\n",
              "      <td>1472822600</td>\n",
              "      <td>2</td>\n",
              "      <td>1472822600</td>\n",
              "      <td>Chrome</td>\n",
              "      <td>not available in demo dataset</td>\n",
              "      <td>...</td>\n",
              "      <td>NaN</td>\n",
              "      <td>NaN</td>\n",
              "      <td>NaN</td>\n",
              "      <td>(not set)</td>\n",
              "      <td>NaN</td>\n",
              "      <td>True</td>\n",
              "      <td>(not provided)</td>\n",
              "      <td>organic</td>\n",
              "      <td>NaN</td>\n",
              "      <td>google</td>\n",
              "    </tr>\n",
              "  </tbody>\n",
              "</table>\n",
              "<p>5 rows × 55 columns</p>\n",
              "</div>"
            ],
            "text/plain": [
              "  channelGrouping      date        fullVisitorId  \\\n",
              "0  Organic Search  20160902  1131660440785968503   \n",
              "1  Organic Search  20160902   377306020877927890   \n",
              "2  Organic Search  20160902  3895546263509774583   \n",
              "3  Organic Search  20160902  4763447161404445595   \n",
              "4  Organic Search  20160902    27294437909732085   \n",
              "\n",
              "                        sessionId  socialEngagementType     visitId  \\\n",
              "0  1131660440785968503_1472830385  Not Socially Engaged  1472830385   \n",
              "1   377306020877927890_1472880147  Not Socially Engaged  1472880147   \n",
              "2  3895546263509774583_1472865386  Not Socially Engaged  1472865386   \n",
              "3  4763447161404445595_1472881213  Not Socially Engaged  1472881213   \n",
              "4    27294437909732085_1472822600  Not Socially Engaged  1472822600   \n",
              "\n",
              "   visitNumber  visitStartTime device.browser             device.browserSize  \\\n",
              "0            1      1472830385         Chrome  not available in demo dataset   \n",
              "1            1      1472880147        Firefox  not available in demo dataset   \n",
              "2            1      1472865386         Chrome  not available in demo dataset   \n",
              "3            1      1472881213     UC Browser  not available in demo dataset   \n",
              "4            2      1472822600         Chrome  not available in demo dataset   \n",
              "\n",
              "          ...          trafficSource.adwordsClickInfo.isVideoAd  \\\n",
              "0         ...                                               NaN   \n",
              "1         ...                                               NaN   \n",
              "2         ...                                               NaN   \n",
              "3         ...                                               NaN   \n",
              "4         ...                                               NaN   \n",
              "\n",
              "  trafficSource.adwordsClickInfo.page trafficSource.adwordsClickInfo.slot  \\\n",
              "0                                 NaN                                 NaN   \n",
              "1                                 NaN                                 NaN   \n",
              "2                                 NaN                                 NaN   \n",
              "3                                 NaN                                 NaN   \n",
              "4                                 NaN                                 NaN   \n",
              "\n",
              "   trafficSource.campaign trafficSource.campaignCode  \\\n",
              "0               (not set)                        NaN   \n",
              "1               (not set)                        NaN   \n",
              "2               (not set)                        NaN   \n",
              "3               (not set)                        NaN   \n",
              "4               (not set)                        NaN   \n",
              "\n",
              "  trafficSource.isTrueDirect trafficSource.keyword trafficSource.medium  \\\n",
              "0                        NaN        (not provided)              organic   \n",
              "1                        NaN        (not provided)              organic   \n",
              "2                        NaN        (not provided)              organic   \n",
              "3                        NaN       google + online              organic   \n",
              "4                       True        (not provided)              organic   \n",
              "\n",
              "  trafficSource.referralPath trafficSource.source  \n",
              "0                        NaN               google  \n",
              "1                        NaN               google  \n",
              "2                        NaN               google  \n",
              "3                        NaN               google  \n",
              "4                        NaN               google  \n",
              "\n",
              "[5 rows x 55 columns]"
            ]
          },
          "metadata": {
            "tags": []
          },
          "execution_count": 7
        }
      ]
    },
    {
      "metadata": {
        "id": "3C0zqh6vKtrj",
        "colab_type": "text"
      },
      "cell_type": "markdown",
      "source": [
        "### Getting the categorical and numerical columns"
      ]
    },
    {
      "metadata": {
        "scrolled": true,
        "id": "grmy6rL9Ktrj",
        "colab_type": "code",
        "colab": {}
      },
      "cell_type": "code",
      "source": [
        "cols = train_df.columns\n",
        "num_cols = train_df._get_numeric_data().columns\n",
        "factor_cols = list(set(cols) - set(num_cols))"
      ],
      "execution_count": 0,
      "outputs": []
    },
    {
      "metadata": {
        "id": "sgpcyIW_Ktrn",
        "colab_type": "text"
      },
      "cell_type": "markdown",
      "source": [
        "### Getting the count of missing values in the categorical values and plotting the same"
      ]
    },
    {
      "metadata": {
        "scrolled": true,
        "id": "Zv7g-CP7Ktrp",
        "colab_type": "code",
        "colab": {
          "base_uri": "https://localhost:8080/",
          "height": 294
        },
        "outputId": "02e3c212-d727-4bf0-bebf-096af251791d"
      },
      "cell_type": "code",
      "source": [
        "total_test = train_df[factor_cols].isnull().sum().sort_values(ascending=False)\n",
        "percent = (train_df[factor_cols].isnull().sum()/train_df[factor_cols].isnull().count()).sort_values(ascending=False)*100\n",
        "data_to_be_removed = pd.concat([total_test, percent], axis=1,join='outer', keys=['Missing Value Count', 'Percentage of Missing Values'])\n",
        "data_to_be_removed.index.name ='Features'\n",
        "#data_to_be_removed.head(20)\n",
        "sns.barplot(y = data_to_be_removed.index[:15],x = data_to_be_removed['Percentage of Missing Values'][:15],color='blue').set_title(\"Missing Values in Categorical Features\")\n",
        "missing_cols = list(data_to_be_removed[data_to_be_removed['Percentage of Missing Values']>50.0].iloc[:,1].index)"
      ],
      "execution_count": 9,
      "outputs": [
        {
          "output_type": "display_data",
          "data": {
            "image/png": "[encoded data removed]",
            "text/plain": [
              "<matplotlib.figure.Figure at 0x7f1526d7c780>"
            ]
          },
          "metadata": {
            "tags": []
          }
        }
      ]
    },
    {
      "metadata": {
        "id": "YIjt2g-YKtru",
        "colab_type": "text"
      },
      "cell_type": "markdown",
      "source": [
        "### Getting the count of missing values in the continuous variables and plotting it"
      ]
    },
    {
      "metadata": {
        "id": "VLmxa9_AKtru",
        "colab_type": "code",
        "colab": {
          "base_uri": "https://localhost:8080/",
          "height": 311
        },
        "outputId": "e32a7915-3371-4ec3-bac9-c21397878fb1"
      },
      "cell_type": "code",
      "source": [
        "total_test1 = train_df[num_cols].isnull().sum().sort_values(ascending=False)\n",
        "percent1 = (train_df[num_cols].isnull().sum()/train_df[num_cols].isnull().count()).sort_values(ascending=False)*100\n",
        "data_to_be_removed1 = pd.concat([total_test1, percent1], axis=1,join='outer', keys=['Missing Value Count', 'Percentage of Missing Values'])\n",
        "data_to_be_removed1.index.name ='Features'\n",
        "#data_to_be_removed.head(20)\n",
        "sns.barplot(y = data_to_be_removed1.index[:5],x = data_to_be_removed1['Percentage of Missing Values'][:5],color='blue').set_title(\"Missing Values in Continuous Features\")"
      ],
      "execution_count": 10,
      "outputs": [
        {
          "output_type": "execute_result",
          "data": {
            "text/plain": [
              "Text(0.5,1,'Missing Values in Continuous Features')"
            ]
          },
          "metadata": {
            "tags": []
          },
          "execution_count": 10
        },
        {
          "output_type": "display_data",
          "data": {
            "image/png": "[encoded data removed]",
            "text/plain": [
              "<matplotlib.figure.Figure at 0x7f15238fc5f8>"
            ]
          },
          "metadata": {
            "tags": []
          }
        }
      ]
    },
    {
      "metadata": {
        "id": "4auoJ4LvKtr1",
        "colab_type": "text"
      },
      "cell_type": "markdown",
      "source": [
        "     Note : The feature 'totals.transactionRevenue' is the revenue generated in every session/log in of each user and if it's   missing, it means that no revenue was generated. So, rather than dropping the missing values, we should recode it to 0 in this case\n"
      ]
    },
    {
      "metadata": {
        "id": "NJU4oo6YKtr2",
        "colab_type": "text"
      },
      "cell_type": "markdown",
      "source": [
        "### Removing Categorical features with just 1 level"
      ]
    },
    {
      "metadata": {
        "id": "Ir83ST47Ktr4",
        "colab_type": "code",
        "colab": {
          "base_uri": "https://localhost:8080/",
          "height": 34
        },
        "outputId": "862c76fa-9bcb-4af5-cc50-545346074dc8"
      },
      "cell_type": "code",
      "source": [
        "single_level_cols = [cols for cols in train_df[factor_cols].columns if train_df[cols].nunique(dropna=False)==1 ]\n",
        "train_df.drop(single_level_cols,axis=1,inplace=True)\n",
        "print(train_df.shape)"
      ],
      "execution_count": 11,
      "outputs": [
        {
          "output_type": "stream",
          "text": [
            "(903653, 37)\n"
          ],
          "name": "stdout"
        }
      ]
    },
    {
      "metadata": {
        "id": "T25a2v-YKtr9",
        "colab_type": "text"
      },
      "cell_type": "markdown",
      "source": [
        "### Before proceeding further with the exploratory analysis, we will generate our target variable of interest : Flag indicating if a customer is a revenue generating customer or not"
      ]
    },
    {
      "metadata": {
        "id": "ZIa446DbKtr-",
        "colab_type": "code",
        "colab": {}
      },
      "cell_type": "code",
      "source": [
        "group_cols = ['fullVisitorId']\n",
        "counted = 'totals.transactionRevenue'\n",
        "agg_name = 'totals.transactionRevenue_sum'\n",
        "gp = train_df[group_cols+[counted]].groupby(group_cols)[counted].sum().reset_index().rename(columns={counted:agg_name})\n",
        "#print(gp)\n",
        "#train = train.merge(gp, on=group_cols, how='left')\n",
        "gp['Revenue_Generating_Flag'] = np.where(gp['totals.transactionRevenue_sum']>0,1,0)\n",
        "cols = ['fullVisitorId','Revenue_Generating_Flag']\n",
        "\n",
        "train_df1 = pd.merge(train_df,gp[cols],on='fullVisitorId',how='inner')"
      ],
      "execution_count": 0,
      "outputs": []
    },
    {
      "metadata": {
        "id": "c72Rhi44KtsB",
        "colab_type": "text"
      },
      "cell_type": "markdown",
      "source": [
        "### Data Wrangling / Cleaning"
      ]
    },
    {
      "metadata": {
        "id": "zCwvuBV2KtsC",
        "colab_type": "code",
        "colab": {}
      },
      "cell_type": "code",
      "source": [
        "class Wrangler:\n",
        "    \n",
        "    def browser_wrangling(self,x):\n",
        "        top_10_browsers = ['chrome','safari','firefox','internet explorer','edge','android webview','safari (in-app)','opera mini','opera','uc browser']\n",
        "        #browsers = ['chrome','safari','firefox','internet explorer','edge','opera','coc coc','maxthon','iron']\n",
        "        #mobile_browsers = ['android','samsung','mini','iphone','in-app','playstation','mozilla','chrome','blackberry','nokia','browser','amazon','lunascape','netscape','konqueror','puffin']\n",
        "    \n",
        "        if x in top_10_browsers:\n",
        "            return x.lower()\n",
        "    \n",
        "        \n",
        "        elif '(not set)' in x:\n",
        "            return x\n",
        "    \n",
        "        else:\n",
        "            return 'others'\n",
        "\n",
        "        \n",
        "    def source_wrangling(self,x):\n",
        "        if  ('google' in x):\n",
        "            return 'google'\n",
        "        elif  ('youtube' in x):\n",
        "            return 'youtube'\n",
        "        elif 'yahoo' in x:\n",
        "            return 'yahoo'\n",
        "        elif 'facebook' in x:\n",
        "            return 'facebook'\n",
        "        elif 'reddit' in x:\n",
        "            return 'reddit'\n",
        "        elif 'bing' in x:\n",
        "            return 'bing'\n",
        "        elif 'quora' in x:\n",
        "            return 'quora'\n",
        "        elif 'outlook' in x:\n",
        "            return 'outlook'\n",
        "        elif 'linkedin' in x:\n",
        "            return 'linkedin'\n",
        "        elif 'twitter' in x:\n",
        "            return 'twitter'\n",
        "        elif '(not set)' in x or 'nan' in x:\n",
        "            return x\n",
        "        else:\n",
        "            return 'others'\n",
        "        \n",
        "    def device_os_wrangling(self,x):\n",
        "        top_10_device_os = ['windows','macintosh','andorid','ios', 'linux','chrome os','windows phone']\n",
        "        #browsers = ['chrome','safari','firefox','internet explorer','edge','opera','coc coc','maxthon','iron']\n",
        "        #mobile_browsers = ['android','samsung','mini','iphone','in-app','playstation','mozilla','chrome','blackberry','nokia','browser','amazon','lunascape','netscape','konqueror','puffin']\n",
        "\n",
        "        if x in top_10_device_os:\n",
        "            return x.lower()\n",
        "\n",
        "        #elif x in mobile_browsers:\n",
        "         #   return 'mobile browser'\n",
        "\n",
        "        elif '(not set)' in x:\n",
        "            return x\n",
        "\n",
        "        else:\n",
        "            return 'others'\n",
        "        \n",
        "    def nw_domain_wrangling(self,x):\n",
        "        tt = x['geoNetwork.networkDomain'].value_counts()\n",
        "        tt = pd.DataFrame(tt)\n",
        "        #tt['geoNetwork.networkDomain'] = tt.index\n",
        "        tt['column_names'] = tt.index\n",
        "        cols = ['values','geoNetwork.networkDomain']\n",
        "        tt.columns  = cols\n",
        "        #tt\n",
        "        x = pd.merge(x,tt,on='geoNetwork.networkDomain',how='left')\n",
        "        x['geoNetwork.networkDomain'] = np.where(x['values']<=20,'Others',x['geoNetwork.networkDomain'])\n",
        "        del x['values']\n",
        "        x['geoNetwork.networkDomain'].value_counts()\n",
        "        return x\n",
        "    \n",
        "    def plots(self,x):\n",
        "        bar1x=[]\n",
        "        bar1y=[]\n",
        "        for i in range(len(x)):\n",
        "    \n",
        "            bar1x.append(x.index[i])\n",
        "            bar1y.append(x[i])\n",
        "\n",
        "        plt.figure(figsize=(8, 10))\n",
        "        g=sns.barplot(x=bar1y, y=bar1x)\n",
        "        for i in range(len(bar1y)):\n",
        "            g.text(x = bar1y[i] , y = i, s = bar1y[i], size = 10)\n"
      ],
      "execution_count": 0,
      "outputs": []
    },
    {
      "metadata": {
        "id": "zXUNsn7iKtsI",
        "colab_type": "code",
        "colab": {}
      },
      "cell_type": "code",
      "source": [
        "wrang = Wrangler()"
      ],
      "execution_count": 0,
      "outputs": []
    },
    {
      "metadata": {
        "id": "WE9pLOCZKtsM",
        "colab_type": "text"
      },
      "cell_type": "markdown",
      "source": [
        "### EDA and Transformations of Features"
      ]
    },
    {
      "metadata": {
        "scrolled": true,
        "id": "OVKDqm1sKtsP",
        "colab_type": "code",
        "colab": {
          "base_uri": "https://localhost:8080/",
          "height": 1201
        },
        "outputId": "5fff5564-b102-40f0-df6b-4d89c6641ac9"
      },
      "cell_type": "code",
      "source": [
        "x=train_df1['device.browser'].value_counts()\n",
        "print(\"Plot of top 10 device browsers before transformation\")\n",
        "wrang.plots(x[:10])\n",
        "train_df1['device.browser'] = train_df1['device.browser'].map(lambda x:wrang.browser_wrangling(str(x).lower())).astype('str')\n",
        "x=train_df1['device.browser'].value_counts()\n",
        "print(\"Plot of device browsers after transformation\")\n",
        "wrang.plots(x)\n"
      ],
      "execution_count": 15,
      "outputs": [
        {
          "output_type": "stream",
          "text": [
            "Plot of top 10 device browsers before transformation\n",
            "Plot of device browsers after transformation\n"
          ],
          "name": "stdout"
        },
        {
          "output_type": "display_data",
          "data": {
            "image/png": "[encoded data removed]",
            "text/plain": [
              "<matplotlib.figure.Figure at 0x7f1523825da0>"
            ]
          },
          "metadata": {
            "tags": []
          }
        },
        {
          "output_type": "display_data",
          "data": {
            "image/png": "[encoded data removed]",
            "text/plain": [
              "<matplotlib.figure.Figure at 0x7f151de68dd8>"
            ]
          },
          "metadata": {
            "tags": []
          }
        }
      ]
    },
    {
      "metadata": {
        "scrolled": true,
        "id": "9h9_4CvZKtsX",
        "colab_type": "code",
        "colab": {
          "base_uri": "https://localhost:8080/",
          "height": 1201
        },
        "outputId": "37b9da48-6522-4723-f20e-16205ecf23e0"
      },
      "cell_type": "code",
      "source": [
        "x=train_df1['trafficSource.source'].value_counts()\n",
        "print(\"Plot of top 10 Sources before transformation\")\n",
        "wrang.plots(x[:10])\n",
        "train_df1['trafficSource.source'] = train_df1['trafficSource.source'].map(lambda x:wrang.source_wrangling(str(x).lower())).astype('str')\n",
        "x=train_df1['trafficSource.source'].value_counts()\n",
        "print(\"Plot of Sources after transformation\")\n",
        "wrang.plots(x)\n"
      ],
      "execution_count": 16,
      "outputs": [
        {
          "output_type": "stream",
          "text": [
            "Plot of top 10 Sources before transformation\n",
            "Plot of Sources after transformation\n"
          ],
          "name": "stdout"
        },
        {
          "output_type": "display_data",
          "data": {
            "image/png": "[encoded data removed]",
            "text/plain": [
              "<matplotlib.figure.Figure at 0x7f151de49898>"
            ]
          },
          "metadata": {
            "tags": []
          }
        },
        {
          "output_type": "display_data",
          "data": {
            "image/png": "[encoded data removed]",
            "text/plain": [
              "<matplotlib.figure.Figure at 0x7f151ddb06a0>"
            ]
          },
          "metadata": {
            "tags": []
          }
        }
      ]
    },
    {
      "metadata": {
        "scrolled": true,
        "id": "G-uNLXm2Ktsh",
        "colab_type": "code",
        "colab": {
          "base_uri": "https://localhost:8080/",
          "height": 1201
        },
        "outputId": "7017d8ae-7f20-4d37-8805-a04d06e02185"
      },
      "cell_type": "code",
      "source": [
        "print(\"Plot of top 10 Operating Systems before transformation\")\n",
        "x=train_df1['device.operatingSystem'].value_counts()\n",
        "wrang.plots(x[:10])\n",
        "train_df1['device.operatingSystem'] = train_df1['device.operatingSystem'].map(lambda x:wrang.device_os_wrangling(str(x).lower())).astype('str')\n",
        "x=train_df1['device.operatingSystem'].value_counts()\n",
        "print(\"Plot of Operating Systems after transformation\")\n",
        "wrang.plots(x)"
      ],
      "execution_count": 17,
      "outputs": [
        {
          "output_type": "stream",
          "text": [
            "Plot of top 10 Operating Systems before transformation\n",
            "Plot of Operating Systems after transformation\n"
          ],
          "name": "stdout"
        },
        {
          "output_type": "display_data",
          "data": {
            "image/png": "[encoded data removed]",
            "text/plain": [
              "<matplotlib.figure.Figure at 0x7f151dd588d0>"
            ]
          },
          "metadata": {
            "tags": []
          }
        },
        {
          "output_type": "display_data",
          "data": {
            "image/png": "[encoded data removed]",
            "text/plain": [
              "<matplotlib.figure.Figure at 0x7f151af64208>"
            ]
          },
          "metadata": {
            "tags": []
          }
        }
      ]
    },
    {
      "metadata": {
        "scrolled": true,
        "id": "8NmWJI27Ktsn",
        "colab_type": "code",
        "colab": {
          "base_uri": "https://localhost:8080/",
          "height": 1201
        },
        "outputId": "77a6f04d-f9e2-4e89-a22f-451cf19ea9ba"
      },
      "cell_type": "code",
      "source": [
        "x=train_df1['geoNetwork.networkDomain'].value_counts()\n",
        "print(\"Plot of top 10 Network Domains before transformation\")\n",
        "wrang.plots(x[:10])\n",
        "train_df1 = wrang.nw_domain_wrangling(train_df1)\n",
        "x=train_df1['geoNetwork.networkDomain'].value_counts()\n",
        "print(\"Plot of Network Domains after transformation\")\n",
        "wrang.plots(x[:10])\n",
        "\n"
      ],
      "execution_count": 18,
      "outputs": [
        {
          "output_type": "stream",
          "text": [
            "Plot of top 10 Network Domains before transformation\n",
            "Plot of Network Domains after transformation\n"
          ],
          "name": "stdout"
        },
        {
          "output_type": "display_data",
          "data": {
            "image/png": "[encoded data removed]",
            "text/plain": [
              "<matplotlib.figure.Figure at 0x7f15238c95f8>"
            ]
          },
          "metadata": {
            "tags": []
          }
        },
        {
          "output_type": "display_data",
          "data": {
            "image/png": "[encoded data removed]",
            "text/plain": [
              "<matplotlib.figure.Figure at 0x7f151ae884e0>"
            ]
          },
          "metadata": {
            "tags": []
          }
        }
      ]
    },
    {
      "metadata": {
        "id": "VXJ7U5xzKtsr",
        "colab_type": "text"
      },
      "cell_type": "markdown",
      "source": [
        "### Creating New Features"
      ]
    },
    {
      "metadata": {
        "id": "_HvVqwnfKtss",
        "colab_type": "code",
        "colab": {
          "base_uri": "https://localhost:8080/",
          "height": 54
        },
        "outputId": "3aee53b2-1a81-40ed-824a-b678dca5ba31"
      },
      "cell_type": "code",
      "source": [
        "'''\n",
        "train_df1['date_of_visit'] = pd.to_datetime(train_df1['visitStartTime'], unit='s')\n",
        "train_df1['day_of_the_week'] = train_df1['date_of_visit'].dt.dayofweek\n",
        "train_df1['hour_of_the_day'] = train_df1['date_of_visit'].dt.hour\n",
        "train_df1['day_of_the_month'] = train_df1['date_of_visit'].dt.day\n",
        "'''"
      ],
      "execution_count": 19,
      "outputs": [
        {
          "output_type": "execute_result",
          "data": {
            "text/plain": [
              "\"\\ntrain_df1['date_of_visit'] = pd.to_datetime(train_df1['visitStartTime'], unit='s')\\ntrain_df1['day_of_the_week'] = train_df1['date_of_visit'].dt.dayofweek\\ntrain_df1['hour_of_the_day'] = train_df1['date_of_visit'].dt.hour\\ntrain_df1['day_of_the_month'] = train_df1['date_of_visit'].dt.day\\n\""
            ]
          },
          "metadata": {
            "tags": []
          },
          "execution_count": 19
        }
      ]
    },
    {
      "metadata": {
        "id": "-Ou0nIYQKtsy",
        "colab_type": "code",
        "colab": {}
      },
      "cell_type": "code",
      "source": [
        "train_df1['source.country'] = train_df1['trafficSource.source'] + '_' + train_df1['geoNetwork.country']\n",
        "train_df1['campaign.medium'] = train_df1['trafficSource.campaign'] + '_' + train_df1['trafficSource.medium']\n",
        "train_df1['browser.category'] = train_df1['device.browser'] + '_' + train_df1['device.deviceCategory']\n",
        "train_df1['browser.os'] = train_df1['device.browser'] + '_' + train_df1['device.operatingSystem']"
      ],
      "execution_count": 0,
      "outputs": []
    },
    {
      "metadata": {
        "id": "b4J5J_VnKts2",
        "colab_type": "code",
        "colab": {}
      },
      "cell_type": "code",
      "source": [
        "train_df1['device_deviceCategory_channelGrouping'] = train_df1['device.deviceCategory'] + \"_\" + train_df1['channelGrouping']\n",
        "train_df1['channelGrouping_browser'] = train_df1['device.browser'] + \"_\" + train_df1['channelGrouping']\n",
        "train_df1['channelGrouping_OS'] = train_df1['device.operatingSystem'] + \"_\" + train_df1['channelGrouping']\n",
        "train_df1['content.source'] = train_df1['trafficSource.adContent'] + \"_\" + train_df1['source.country']\n",
        "train_df1['medium.source'] = train_df1['trafficSource.medium'] + \"_\" + train_df1['source.country']"
      ],
      "execution_count": 0,
      "outputs": []
    },
    {
      "metadata": {
        "id": "KDYC4zoMKts4",
        "colab_type": "text"
      },
      "cell_type": "markdown",
      "source": [
        "### Removing unwanted columns/features"
      ]
    },
    {
      "metadata": {
        "id": "T74WOjBAKts4",
        "colab_type": "code",
        "colab": {}
      },
      "cell_type": "code",
      "source": [
        "excluded_features = [\n",
        "    'date', 'fullVisitorId', 'sessionId', 'totals.transactionRevenue', \n",
        "    'visitId', 'visitStartTime', 'vis_date', 'nb_sessions', 'max_visits'\n",
        "]\n",
        "\n",
        "excluded_features = excluded_features + missing_cols\n",
        "\n",
        "categorical_features = [\n",
        "    _f for _f in train_df1.columns\n",
        "    if (_f not in excluded_features) & (train_df1[_f].dtype == 'object')\n",
        "]"
      ],
      "execution_count": 0,
      "outputs": []
    },
    {
      "metadata": {
        "id": "UzDsvl49Kts7",
        "colab_type": "text"
      },
      "cell_type": "markdown",
      "source": [
        "### Factorizing the categorical features"
      ]
    },
    {
      "metadata": {
        "id": "0Uyt-ojhKts9",
        "colab_type": "code",
        "colab": {}
      },
      "cell_type": "code",
      "source": [
        "for f in categorical_features:\n",
        "    train_df1[f], indexer = pd.factorize(train_df1[f])\n",
        "req_features = [_f for _f in train_df1.columns if _f not in excluded_features]\n",
        "train_df2 = train_df1[req_features + ['fullVisitorId']].groupby('fullVisitorId').mean()"
      ],
      "execution_count": 0,
      "outputs": []
    },
    {
      "metadata": {
        "id": "yTukDsh_Kts-",
        "colab_type": "code",
        "colab": {
          "base_uri": "https://localhost:8080/",
          "height": 68
        },
        "outputId": "7c061c05-c396-40a1-f7a8-1d5284877327"
      },
      "cell_type": "code",
      "source": [
        "train_df2['Revenue_Generating_Flag'].value_counts()"
      ],
      "execution_count": 24,
      "outputs": [
        {
          "output_type": "execute_result",
          "data": {
            "text/plain": [
              "0.0    713689\n",
              "1.0     10114\n",
              "Name: Revenue_Generating_Flag, dtype: int64"
            ]
          },
          "metadata": {
            "tags": []
          },
          "execution_count": 24
        }
      ]
    },
    {
      "metadata": {
        "id": "__2z8kVNKttD",
        "colab_type": "text"
      },
      "cell_type": "markdown",
      "source": [
        "*Note : We can see that only 1.4% of the customers are Revenue Generating Customers*"
      ]
    },
    {
      "metadata": {
        "scrolled": true,
        "id": "1Z6ks7blKttD",
        "colab_type": "code",
        "colab": {}
      },
      "cell_type": "code",
      "source": [
        "y = train_df2['Revenue_Generating_Flag']\n",
        "X = train_df2.loc[:, train_df2.columns != 'Revenue_Generating_Flag']\n",
        "\n",
        "del train_df2['Revenue_Generating_Flag']\n",
        "train_df2 = train_df2.reset_index()\n",
        "\n",
        "train, test, y_train, y_test = train_test_split(X, y,stratify=y,test_size=0.3,random_state=20)"
      ],
      "execution_count": 0,
      "outputs": []
    },
    {
      "metadata": {
        "id": "nL--7lyyKttH",
        "colab_type": "text"
      },
      "cell_type": "markdown",
      "source": [
        "### Checking the distribution of the target variable in train and test"
      ]
    },
    {
      "metadata": {
        "id": "s0YW_y_CKttK",
        "colab_type": "code",
        "colab": {
          "base_uri": "https://localhost:8080/",
          "height": 119
        },
        "outputId": "3f726eba-d990-4d47-b29e-0e451a636e82"
      },
      "cell_type": "code",
      "source": [
        "print(y_test.value_counts())\n",
        "y_train.value_counts()"
      ],
      "execution_count": 26,
      "outputs": [
        {
          "output_type": "stream",
          "text": [
            "0.0    214107\n",
            "1.0      3034\n",
            "Name: Revenue_Generating_Flag, dtype: int64\n"
          ],
          "name": "stdout"
        },
        {
          "output_type": "execute_result",
          "data": {
            "text/plain": [
              "0.0    499582\n",
              "1.0      7080\n",
              "Name: Revenue_Generating_Flag, dtype: int64"
            ]
          },
          "metadata": {
            "tags": []
          },
          "execution_count": 26
        }
      ]
    },
    {
      "metadata": {
        "id": "c9Mgn6KPKttO",
        "colab_type": "code",
        "colab": {
          "base_uri": "https://localhost:8080/",
          "height": 34
        },
        "outputId": "0246612a-38db-48f2-ccac-645c6dd9c210"
      },
      "cell_type": "code",
      "source": [
        "3034/(3034+214107)"
      ],
      "execution_count": 27,
      "outputs": [
        {
          "output_type": "execute_result",
          "data": {
            "text/plain": [
              "0.013972487922594075"
            ]
          },
          "metadata": {
            "tags": []
          },
          "execution_count": 27
        }
      ]
    },
    {
      "metadata": {
        "id": "AD05Mg24KttS",
        "colab_type": "code",
        "colab": {
          "base_uri": "https://localhost:8080/",
          "height": 34
        },
        "outputId": "8dea53c9-d389-4929-a9c5-aebfd546cd88"
      },
      "cell_type": "code",
      "source": [
        "7080/(7080+499582)"
      ],
      "execution_count": 28,
      "outputs": [
        {
          "output_type": "execute_result",
          "data": {
            "text/plain": [
              "0.013973812916697918"
            ]
          },
          "metadata": {
            "tags": []
          },
          "execution_count": 28
        }
      ]
    },
    {
      "metadata": {
        "id": "8N_ddc2VKttX",
        "colab_type": "text"
      },
      "cell_type": "markdown",
      "source": [
        "*We will proceed to perform SMOTE to accomodate the target variable imbalance on the training data*"
      ]
    },
    {
      "metadata": {
        "id": "CdOfS696KttY",
        "colab_type": "text"
      },
      "cell_type": "markdown",
      "source": [
        "### Performing SMOTE"
      ]
    },
    {
      "metadata": {
        "id": "uHdEnAhDKttZ",
        "colab_type": "code",
        "colab": {}
      },
      "cell_type": "code",
      "source": [
        "train.fillna(train.median(),inplace=True)\n",
        "sm = SMOTE(random_state=12, ratio = 0.2)\n",
        "x_train_res, y_train_res = sm.fit_sample(train, y_train)\n",
        "x_train_res = pd.DataFrame(x_train_res)\n",
        "x_train_res.columns = train.columns\n",
        "y_train_res = pd.DataFrame(y_train_res)\n",
        "#y_train_res.columns = y_train.columns"
      ],
      "execution_count": 0,
      "outputs": []
    },
    {
      "metadata": {
        "id": "vFl_9SW6Kttc",
        "colab_type": "code",
        "colab": {
          "base_uri": "https://localhost:8080/",
          "height": 85
        },
        "outputId": "7dd39636-e6fe-4a91-b83b-f1a0eebf7b8d"
      },
      "cell_type": "code",
      "source": [
        "print(train.shape)\n",
        "print(y_train.shape)\n",
        "print(x_train_res.shape)\n",
        "print(y_train_res.shape)"
      ],
      "execution_count": 30,
      "outputs": [
        {
          "output_type": "stream",
          "text": [
            "(506662, 31)\n",
            "(506662,)\n",
            "(599498, 31)\n",
            "(599498, 1)\n"
          ],
          "name": "stdout"
        }
      ]
    },
    {
      "metadata": {
        "scrolled": true,
        "id": "YLnHSSM5Kttg",
        "colab_type": "code",
        "colab": {
          "base_uri": "https://localhost:8080/",
          "height": 68
        },
        "outputId": "65c5230d-1d38-4e94-a262-e5f69c0f521b"
      },
      "cell_type": "code",
      "source": [
        "print(y_train_res[0].value_counts())"
      ],
      "execution_count": 31,
      "outputs": [
        {
          "output_type": "stream",
          "text": [
            "0.0    499582\n",
            "1.0     99916\n",
            "Name: 0, dtype: int64\n"
          ],
          "name": "stdout"
        }
      ]
    },
    {
      "metadata": {
        "id": "7afUGBB1Ktti",
        "colab_type": "code",
        "colab": {
          "base_uri": "https://localhost:8080/",
          "height": 34
        },
        "outputId": "6c708b5b-a008-4a91-d07a-7144d365c312"
      },
      "cell_type": "code",
      "source": [
        "99916/(99916+499582)"
      ],
      "execution_count": 32,
      "outputs": [
        {
          "output_type": "execute_result",
          "data": {
            "text/plain": [
              "0.16666611064590708"
            ]
          },
          "metadata": {
            "tags": []
          },
          "execution_count": 32
        }
      ]
    },
    {
      "metadata": {
        "id": "Fhc3ihGvKttm",
        "colab_type": "text"
      },
      "cell_type": "markdown",
      "source": [
        "*Because of SMOTE we can see that the Revenue Generating customers are now incresed to ~17%*"
      ]
    },
    {
      "metadata": {
        "id": "IFIknhzCKttp",
        "colab_type": "text"
      },
      "cell_type": "markdown",
      "source": [
        "### Spliting the Training Data into 5 Folds "
      ]
    },
    {
      "metadata": {
        "id": "zQ0TVi2bKttq",
        "colab_type": "code",
        "colab": {}
      },
      "cell_type": "code",
      "source": [
        "skf = StratifiedKFold(n_splits=5)"
      ],
      "execution_count": 0,
      "outputs": []
    },
    {
      "metadata": {
        "scrolled": true,
        "id": "H8fNasdiKttr",
        "colab_type": "code",
        "colab": {
          "base_uri": "https://localhost:8080/",
          "height": 527
        },
        "outputId": "f6eed42b-5b8e-4e2b-a758-f306fe658604"
      },
      "cell_type": "code",
      "source": [
        "for a,b in skf.split(x_train_res,y_train_res):\n",
        "    print(y_train_res[0].iloc[a].value_counts())\n",
        "    print(y_train_res[0].iloc[b].value_counts())"
      ],
      "execution_count": 34,
      "outputs": [
        {
          "output_type": "stream",
          "text": [
            "0.0    399665\n",
            "1.0     79932\n",
            "Name: 0, dtype: int64\n",
            "0.0    99917\n",
            "1.0    19984\n",
            "Name: 0, dtype: int64\n",
            "0.0    399665\n",
            "1.0     79933\n",
            "Name: 0, dtype: int64\n",
            "0.0    99917\n",
            "1.0    19983\n",
            "Name: 0, dtype: int64\n",
            "0.0    399666\n",
            "1.0     79933\n",
            "Name: 0, dtype: int64\n",
            "0.0    99916\n",
            "1.0    19983\n",
            "Name: 0, dtype: int64\n",
            "0.0    399666\n",
            "1.0     79933\n",
            "Name: 0, dtype: int64\n",
            "0.0    99916\n",
            "1.0    19983\n",
            "Name: 0, dtype: int64\n",
            "0.0    399666\n",
            "1.0     79933\n",
            "Name: 0, dtype: int64\n",
            "0.0    99916\n",
            "1.0    19983\n",
            "Name: 0, dtype: int64\n"
          ],
          "name": "stdout"
        }
      ]
    },
    {
      "metadata": {
        "id": "7aHd2H6YKttv",
        "colab_type": "code",
        "colab": {
          "base_uri": "https://localhost:8080/",
          "height": 34
        },
        "outputId": "af3be296-fbd4-4dee-d9db-1da7a7dd6fcd"
      },
      "cell_type": "code",
      "source": [
        "79932/(79932+399665)"
      ],
      "execution_count": 35,
      "outputs": [
        {
          "output_type": "execute_result",
          "data": {
            "text/plain": [
              "0.1666649290967208"
            ]
          },
          "metadata": {
            "tags": []
          },
          "execution_count": 35
        }
      ]
    },
    {
      "metadata": {
        "id": "SYzbqNTdKttx",
        "colab_type": "code",
        "colab": {
          "base_uri": "https://localhost:8080/",
          "height": 34
        },
        "outputId": "f89128a5-c55a-4609-f141-beb58a61954b"
      },
      "cell_type": "code",
      "source": [
        "19984/(19984+99917)"
      ],
      "execution_count": 36,
      "outputs": [
        {
          "output_type": "execute_result",
          "data": {
            "text/plain": [
              "0.16667083677367162"
            ]
          },
          "metadata": {
            "tags": []
          },
          "execution_count": 36
        }
      ]
    },
    {
      "metadata": {
        "id": "k8lwjZVGKtt0",
        "colab_type": "text"
      },
      "cell_type": "markdown",
      "source": [
        "*Since we gave stratified Kfold we ensure equal distribution of the target variable*"
      ]
    },
    {
      "metadata": {
        "id": "HitrLn4rKtt1",
        "colab_type": "text"
      },
      "cell_type": "markdown",
      "source": [
        "### Tuning Logistic Regression Hyperparameter"
      ]
    },
    {
      "metadata": {
        "id": "G7GNvrz0Ktt1",
        "colab_type": "code",
        "colab": {}
      },
      "cell_type": "code",
      "source": [
        "class tune:\n",
        "    def logreg(self,x_train_res,y_train_res):\n",
        "        lambda_vals = [0.001,0.01,0.1,1,10,100,1000,10000,100000,1000000,10000000,100000000,1000000000,10000000000]\n",
        "        #lambda_vals = [1000,10000,100000,1000000,10000000,100000000,1000000000,10000000000]\n",
        "        lambda_vals1 = np.reciprocal(lambda_vals)\n",
        "        acc_table = pd.DataFrame(columns = ['lambda_vals','CV_AUC'])\n",
        "        acc_table['lambda_vals'] = lambda_vals\n",
        "\n",
        "        j=0\n",
        "        for i in lambda_vals1:\n",
        "            avg = 0\n",
        "            for a,b in skf.split(x_train_res,y_train_res):\n",
        "                trn_x, trn_y = x_train_res.iloc[a], y_train_res[0].iloc[a]\n",
        "                val_x, val_y = x_train_res.iloc[b], y_train_res[0].iloc[b]\n",
        "                lr = LogisticRegression(penalty = 'l2', C = i,random_state=20)\n",
        "                lr.fit(trn_x,trn_y)\n",
        "                test_pred = lr.predict_proba(val_x)[:,1]\n",
        "                avg+=roc_auc_score(val_y, test_pred)\n",
        "\n",
        "            avg1 = avg/5.0\n",
        "            acc_table.iloc[j,1] = avg1\n",
        "            j = j+1\n",
        "\n",
        "        return acc_table\n",
        "    def rftune(self,x_train_res,y_train_res):\n",
        "        param_grid = { \n",
        "            'n_estimators': [300,400,500],\n",
        "            'max_depth' : [6,7,8]\n",
        "        }\n",
        "        rfc = RandomForestClassifier(random_state=20)\n",
        "        CV_rfc = GridSearchCV(estimator=rfc, param_grid=param_grid, cv= 3)\n",
        "        CV_rfc.fit(x_train_res, y_train_res)\n",
        "        return CV_rfc.best_params_\n",
        "      \n",
        "   \n",
        "    def gbmtune(self,x_train_res,y_train_res):\n",
        "      \n",
        "      parameters = {\n",
        "      \"learning_rate\": [0.05, 0.1, 0.2],\n",
        "     # \"learning_rate\": [0.2],\n",
        "      #\"min_samples_split\": np.linspace(0.1, 0.5, 12),\n",
        "    #  \"min_samples_leaf\": [0.1,0.2,0.3,0.4,0.5], #np.linspace(0.1, 0.5, 12),\n",
        "      \"max_depth\":[5,6,7,8],\n",
        "      #\"max_depth\":[8],\n",
        "      #\"max_features\":[\"log2\",\"sqrt\"],\n",
        "      #\"scoring\": [\"roc_auc\"],\n",
        "     #\"subsample\":[0.5, 0.618, 0.8, 0.85, 0.9, 0.95, 1.0],\n",
        "      \"n_estimators\":[200,300,400,500]\n",
        "      #\"n_estimators\":[500]\n",
        "      }\n",
        "\n",
        "      cv_gbm = GridSearchCV(GradientBoostingClassifier(), parameters, cv=3)\n",
        "      cv_gbm.fit(x_train_res,y_train_res)\n",
        "      return cv_gbm.best_params_"
      ],
      "execution_count": 0,
      "outputs": []
    },
    {
      "metadata": {
        "id": "DIY3I_J4Ktt4",
        "colab_type": "code",
        "colab": {}
      },
      "cell_type": "code",
      "source": [
        "tuner=tune()\n",
        "#acc_table=tuner.logreg(x_train_res,y_train_res)\n",
        "#best_params = tuner.rftune(x_train_res,y_train_res)\n",
        "#print(acc_table)\n",
        "#print(best_params)\n",
        "best_params_gbm = tuner.gbmtune(x_train_res,y_train_res)"
      ],
      "execution_count": 0,
      "outputs": []
    },
    {
      "metadata": {
        "id": "pKYXSxGf37_F",
        "colab_type": "code",
        "colab": {
          "base_uri": "https://localhost:8080/",
          "height": 483
        },
        "outputId": "931cf1c9-65d8-44d3-f979-dc3d906bef37"
      },
      "cell_type": "code",
      "source": [
        "acc_table"
      ],
      "execution_count": 39,
      "outputs": [
        {
          "output_type": "execute_result",
          "data": {
            "text/html": [
              "<div>\n",
              "<style scoped>\n",
              "    .dataframe tbody tr th:only-of-type {\n",
              "        vertical-align: middle;\n",
              "    }\n",
              "\n",
              "    .dataframe tbody tr th {\n",
              "        vertical-align: top;\n",
              "    }\n",
              "\n",
              "    .dataframe thead th {\n",
              "        text-align: right;\n",
              "    }\n",
              "</style>\n",
              "<table border=\"1\" class=\"dataframe\">\n",
              "  <thead>\n",
              "    <tr style=\"text-align: right;\">\n",
              "      <th></th>\n",
              "      <th>lambda_vals</th>\n",
              "      <th>CV_AUC</th>\n",
              "    </tr>\n",
              "  </thead>\n",
              "  <tbody>\n",
              "    <tr>\n",
              "      <th>0</th>\n",
              "      <td>1.000000e-03</td>\n",
              "      <td>0.978879</td>\n",
              "    </tr>\n",
              "    <tr>\n",
              "      <th>1</th>\n",
              "      <td>1.000000e-02</td>\n",
              "      <td>0.978871</td>\n",
              "    </tr>\n",
              "    <tr>\n",
              "      <th>2</th>\n",
              "      <td>1.000000e-01</td>\n",
              "      <td>0.97886</td>\n",
              "    </tr>\n",
              "    <tr>\n",
              "      <th>3</th>\n",
              "      <td>1.000000e+00</td>\n",
              "      <td>0.978881</td>\n",
              "    </tr>\n",
              "    <tr>\n",
              "      <th>4</th>\n",
              "      <td>1.000000e+01</td>\n",
              "      <td>0.978896</td>\n",
              "    </tr>\n",
              "    <tr>\n",
              "      <th>5</th>\n",
              "      <td>1.000000e+02</td>\n",
              "      <td>0.978942</td>\n",
              "    </tr>\n",
              "    <tr>\n",
              "      <th>6</th>\n",
              "      <td>1.000000e+03</td>\n",
              "      <td>0.978266</td>\n",
              "    </tr>\n",
              "    <tr>\n",
              "      <th>7</th>\n",
              "      <td>1.000000e+04</td>\n",
              "      <td>0.971264</td>\n",
              "    </tr>\n",
              "    <tr>\n",
              "      <th>8</th>\n",
              "      <td>1.000000e+05</td>\n",
              "      <td>0.952654</td>\n",
              "    </tr>\n",
              "    <tr>\n",
              "      <th>9</th>\n",
              "      <td>1.000000e+06</td>\n",
              "      <td>0.927699</td>\n",
              "    </tr>\n",
              "    <tr>\n",
              "      <th>10</th>\n",
              "      <td>1.000000e+07</td>\n",
              "      <td>0.880474</td>\n",
              "    </tr>\n",
              "    <tr>\n",
              "      <th>11</th>\n",
              "      <td>1.000000e+08</td>\n",
              "      <td>0.769419</td>\n",
              "    </tr>\n",
              "    <tr>\n",
              "      <th>12</th>\n",
              "      <td>1.000000e+09</td>\n",
              "      <td>0.678995</td>\n",
              "    </tr>\n",
              "    <tr>\n",
              "      <th>13</th>\n",
              "      <td>1.000000e+10</td>\n",
              "      <td>0.66227</td>\n",
              "    </tr>\n",
              "  </tbody>\n",
              "</table>\n",
              "</div>"
            ],
            "text/plain": [
              "     lambda_vals    CV_AUC\n",
              "0   1.000000e-03  0.978879\n",
              "1   1.000000e-02  0.978871\n",
              "2   1.000000e-01   0.97886\n",
              "3   1.000000e+00  0.978881\n",
              "4   1.000000e+01  0.978896\n",
              "5   1.000000e+02  0.978942\n",
              "6   1.000000e+03  0.978266\n",
              "7   1.000000e+04  0.971264\n",
              "8   1.000000e+05  0.952654\n",
              "9   1.000000e+06  0.927699\n",
              "10  1.000000e+07  0.880474\n",
              "11  1.000000e+08  0.769419\n",
              "12  1.000000e+09  0.678995\n",
              "13  1.000000e+10   0.66227"
            ]
          },
          "metadata": {
            "tags": []
          },
          "execution_count": 39
        }
      ]
    },
    {
      "metadata": {
        "id": "f7ML49uSeaHl",
        "colab_type": "code",
        "colab": {
          "base_uri": "https://localhost:8080/",
          "height": 34
        },
        "outputId": "c2a7f3c7-bbef-4aae-aec7-9d6713a1acb9"
      },
      "cell_type": "code",
      "source": [
        "1/1.000000e+02"
      ],
      "execution_count": 42,
      "outputs": [
        {
          "output_type": "execute_result",
          "data": {
            "text/plain": [
              "0.01"
            ]
          },
          "metadata": {
            "tags": []
          },
          "execution_count": 42
        }
      ]
    },
    {
      "metadata": {
        "scrolled": true,
        "id": "FN2HdvQkKtt6",
        "colab_type": "code",
        "colab": {}
      },
      "cell_type": "code",
      "source": [
        "lambda_vals = [0.001,0.01,0.1,1,10,100,1000,10000,100000,1000000,10000000,100000000,1000000000,10000000000]\n",
        "#lambda_vals = [1000,10000,100000,1000000,10000000,100000000,1000000000,10000000000]\n",
        "lambda_vals1 = np.reciprocal(lambda_vals)\n",
        "acc_table = pd.DataFrame(columns = ['lambda_vals','CV_AUC'])\n",
        "acc_table['lambda_vals'] = lambda_vals\n",
        "\n",
        "j=0\n",
        "for i in lambda_vals1:\n",
        "    avg = 0\n",
        "    for a,b in skf.split(x_train_res,y_train_res):\n",
        "        trn_x, trn_y = x_train_res.iloc[a], y_train_res[0].iloc[a]\n",
        "        val_x, val_y = x_train_res.iloc[b], y_train_res[0].iloc[b]\n",
        "        lr = LogisticRegression(penalty = 'l2', C = i,random_state=20)\n",
        "        lr.fit(trn_x,trn_y)\n",
        "        test_pred = lr.predict_proba(val_x)[:,1]\n",
        "        avg+=roc_auc_score(val_y, test_pred)\n",
        "\n",
        "    avg1 = avg/5.0\n",
        "    acc_table.iloc[j,1] = avg1\n",
        "    j = j+1\n",
        "\n",
        "acc_table"
      ],
      "execution_count": 0,
      "outputs": []
    },
    {
      "metadata": {
        "id": "rUM8cE5hKtt7",
        "colab_type": "text"
      },
      "cell_type": "markdown",
      "source": [
        "### Building Logistic Regression Model on the obtained Hyperparameter"
      ]
    },
    {
      "metadata": {
        "id": "6K6PklM3Ktt9",
        "colab_type": "text"
      },
      "cell_type": "markdown",
      "source": [
        "#### Keeping aside 20% of the train data as validation which can be used for ensemble and stacking later"
      ]
    },
    {
      "metadata": {
        "id": "pwNKZfcZKtt-",
        "colab_type": "code",
        "colab": {}
      },
      "cell_type": "code",
      "source": [
        "#x_train_res = train\n",
        "#y_train_res = y_train\n",
        "\n",
        "x1_train, x1_test, y1_train, y1_test = train_test_split(x_train_res,y_train_res,\n",
        "                                                stratify=y_train_res, \n",
        "                                                test_size=0.2,random_state=20)\n",
        "\n",
        "val_table = pd.DataFrame(columns = ['Actuals','glm','rf','gbm'])\n",
        "val_table['Actuals'] = y1_test[0]\n",
        "test_table = pd.DataFrame(columns = ['Actuals','glm','rf','gbm'])\n",
        "test_table['Actuals'] = y_test\n",
        "\n",
        "#train_features = [_f for _f in x_train_res.columns if _f not in excluded_features]\n",
        "x1_train.fillna(x1_train.median(),inplace=True)\n",
        "x1_test.fillna(x1_test.median(),inplace=True)\n",
        "test.fillna(test.median(),inplace=True)\n",
        "\n",
        "lr = LogisticRegression(penalty = 'l2', C = 0.01,random_state=20)\n",
        "lr.fit(x1_train,y1_train)\n",
        "\n",
        "val_table['glm'] = lr.predict_proba(x1_test)[:,1]\n",
        "test_table['glm'] = lr.predict_proba(test)[:,1]\n"
      ],
      "execution_count": 0,
      "outputs": []
    },
    {
      "metadata": {
        "id": "FVQjCStOKtuA",
        "colab_type": "text"
      },
      "cell_type": "markdown",
      "source": [
        "##### Checking the distribution of the probabilities across the Validation sets"
      ]
    },
    {
      "metadata": {
        "scrolled": true,
        "id": "-fMh8B_8KtuC",
        "colab_type": "code",
        "colab": {
          "base_uri": "https://localhost:8080/",
          "height": 170
        },
        "outputId": "f7d1342e-ec4c-4cd8-f4d4-86e5cde555b6"
      },
      "cell_type": "code",
      "source": [
        "val_table['glm'].describe()"
      ],
      "execution_count": 65,
      "outputs": [
        {
          "output_type": "execute_result",
          "data": {
            "text/plain": [
              "count    1.199000e+05\n",
              "mean     1.672583e-01\n",
              "std      3.022101e-01\n",
              "min      1.853847e-08\n",
              "25%      8.681301e-04\n",
              "50%      1.166639e-02\n",
              "75%      1.258027e-01\n",
              "max      1.000000e+00\n",
              "Name: glm, dtype: float64"
            ]
          },
          "metadata": {
            "tags": []
          },
          "execution_count": 65
        }
      ]
    },
    {
      "metadata": {
        "id": "Jts7yjdWKtuG",
        "colab_type": "text"
      },
      "cell_type": "markdown",
      "source": [
        "#### Getting the AUC value for the validation for the tuned Logistic Regression Model"
      ]
    },
    {
      "metadata": {
        "id": "ugdLy2mnil2q",
        "colab_type": "code",
        "colab": {
          "base_uri": "https://localhost:8080/",
          "height": 159
        },
        "outputId": "95d13b01-7671-4cd1-eef2-867f7544db1e"
      },
      "cell_type": "code",
      "source": [
        "print(roc_auc_score(val_table['Actuals'], val_table['glm']))\n",
        "avg1 = np.where(val_table['glm']<0.4,0,1)\n",
        "#print(avg)\n",
        "df_confusion = pd.crosstab(val_table['Actuals'], avg1)\n",
        "df_confusion"
      ],
      "execution_count": 67,
      "outputs": [
        {
          "output_type": "stream",
          "text": [
            "0.9788977849162721\n"
          ],
          "name": "stdout"
        },
        {
          "output_type": "execute_result",
          "data": {
            "text/html": [
              "<div>\n",
              "<style scoped>\n",
              "    .dataframe tbody tr th:only-of-type {\n",
              "        vertical-align: middle;\n",
              "    }\n",
              "\n",
              "    .dataframe tbody tr th {\n",
              "        vertical-align: top;\n",
              "    }\n",
              "\n",
              "    .dataframe thead th {\n",
              "        text-align: right;\n",
              "    }\n",
              "</style>\n",
              "<table border=\"1\" class=\"dataframe\">\n",
              "  <thead>\n",
              "    <tr style=\"text-align: right;\">\n",
              "      <th>col_0</th>\n",
              "      <th>0</th>\n",
              "      <th>1</th>\n",
              "    </tr>\n",
              "    <tr>\n",
              "      <th>Actuals</th>\n",
              "      <th></th>\n",
              "      <th></th>\n",
              "    </tr>\n",
              "  </thead>\n",
              "  <tbody>\n",
              "    <tr>\n",
              "      <th>0.0</th>\n",
              "      <td>96226</td>\n",
              "      <td>3691</td>\n",
              "    </tr>\n",
              "    <tr>\n",
              "      <th>1.0</th>\n",
              "      <td>2636</td>\n",
              "      <td>17347</td>\n",
              "    </tr>\n",
              "  </tbody>\n",
              "</table>\n",
              "</div>"
            ],
            "text/plain": [
              "col_0        0      1\n",
              "Actuals              \n",
              "0.0      96226   3691\n",
              "1.0       2636  17347"
            ]
          },
          "metadata": {
            "tags": []
          },
          "execution_count": 67
        }
      ]
    },
    {
      "metadata": {
        "id": "TTIaBBaNimCD",
        "colab_type": "code",
        "colab": {
          "base_uri": "https://localhost:8080/",
          "height": 159
        },
        "outputId": "cf3af4c0-98f7-4827-a7d8-fe0d397b0ddb"
      },
      "cell_type": "code",
      "source": [
        "print(roc_auc_score(val_table['Actuals'], val_table['glm']))\n",
        "avg1 = np.where(val_table['glm']<0.5,0,1)\n",
        "#print(avg)\n",
        "df_confusion = pd.crosstab(val_table['Actuals'], avg1)\n",
        "df_confusion"
      ],
      "execution_count": 68,
      "outputs": [
        {
          "output_type": "stream",
          "text": [
            "0.9788977849162721\n"
          ],
          "name": "stdout"
        },
        {
          "output_type": "execute_result",
          "data": {
            "text/html": [
              "<div>\n",
              "<style scoped>\n",
              "    .dataframe tbody tr th:only-of-type {\n",
              "        vertical-align: middle;\n",
              "    }\n",
              "\n",
              "    .dataframe tbody tr th {\n",
              "        vertical-align: top;\n",
              "    }\n",
              "\n",
              "    .dataframe thead th {\n",
              "        text-align: right;\n",
              "    }\n",
              "</style>\n",
              "<table border=\"1\" class=\"dataframe\">\n",
              "  <thead>\n",
              "    <tr style=\"text-align: right;\">\n",
              "      <th>col_0</th>\n",
              "      <th>0</th>\n",
              "      <th>1</th>\n",
              "    </tr>\n",
              "    <tr>\n",
              "      <th>Actuals</th>\n",
              "      <th></th>\n",
              "      <th></th>\n",
              "    </tr>\n",
              "  </thead>\n",
              "  <tbody>\n",
              "    <tr>\n",
              "      <th>0.0</th>\n",
              "      <td>97049</td>\n",
              "      <td>2868</td>\n",
              "    </tr>\n",
              "    <tr>\n",
              "      <th>1.0</th>\n",
              "      <td>3984</td>\n",
              "      <td>15999</td>\n",
              "    </tr>\n",
              "  </tbody>\n",
              "</table>\n",
              "</div>"
            ],
            "text/plain": [
              "col_0        0      1\n",
              "Actuals              \n",
              "0.0      97049   2868\n",
              "1.0       3984  15999"
            ]
          },
          "metadata": {
            "tags": []
          },
          "execution_count": 68
        }
      ]
    },
    {
      "metadata": {
        "id": "A_Op1MPKimNx",
        "colab_type": "code",
        "colab": {
          "base_uri": "https://localhost:8080/",
          "height": 159
        },
        "outputId": "1041be9f-d506-4ac0-d246-bdc1e84787c2"
      },
      "cell_type": "code",
      "source": [
        "print(roc_auc_score(val_table['Actuals'], val_table['glm']))\n",
        "avg1 = np.where(val_table['glm']<0.6,0,1)\n",
        "#print(avg)\n",
        "df_confusion = pd.crosstab(val_table['Actuals'], avg1)\n",
        "df_confusion"
      ],
      "execution_count": 69,
      "outputs": [
        {
          "output_type": "stream",
          "text": [
            "0.9788977849162721\n"
          ],
          "name": "stdout"
        },
        {
          "output_type": "execute_result",
          "data": {
            "text/html": [
              "<div>\n",
              "<style scoped>\n",
              "    .dataframe tbody tr th:only-of-type {\n",
              "        vertical-align: middle;\n",
              "    }\n",
              "\n",
              "    .dataframe tbody tr th {\n",
              "        vertical-align: top;\n",
              "    }\n",
              "\n",
              "    .dataframe thead th {\n",
              "        text-align: right;\n",
              "    }\n",
              "</style>\n",
              "<table border=\"1\" class=\"dataframe\">\n",
              "  <thead>\n",
              "    <tr style=\"text-align: right;\">\n",
              "      <th>col_0</th>\n",
              "      <th>0</th>\n",
              "      <th>1</th>\n",
              "    </tr>\n",
              "    <tr>\n",
              "      <th>Actuals</th>\n",
              "      <th></th>\n",
              "      <th></th>\n",
              "    </tr>\n",
              "  </thead>\n",
              "  <tbody>\n",
              "    <tr>\n",
              "      <th>0.0</th>\n",
              "      <td>97671</td>\n",
              "      <td>2246</td>\n",
              "    </tr>\n",
              "    <tr>\n",
              "      <th>1.0</th>\n",
              "      <td>5749</td>\n",
              "      <td>14234</td>\n",
              "    </tr>\n",
              "  </tbody>\n",
              "</table>\n",
              "</div>"
            ],
            "text/plain": [
              "col_0        0      1\n",
              "Actuals              \n",
              "0.0      97671   2246\n",
              "1.0       5749  14234"
            ]
          },
          "metadata": {
            "tags": []
          },
          "execution_count": 69
        }
      ]
    },
    {
      "metadata": {
        "id": "ZpTR3tSWKtuO",
        "colab_type": "text"
      },
      "cell_type": "markdown",
      "source": [
        "#### Predicting on the hold-out Test Data using the Tuned Model"
      ]
    },
    {
      "metadata": {
        "id": "zUYTMIYXKtuR",
        "colab_type": "code",
        "colab": {
          "base_uri": "https://localhost:8080/",
          "height": 159
        },
        "outputId": "da4e6f20-6c69-49c6-e627-c3e8b536bead"
      },
      "cell_type": "code",
      "source": [
        "print(roc_auc_score(test_table['Actuals'], test_table['glm']))\n",
        "avg1 = np.where(test_table['glm']<0.4,0,1)\n",
        "#print(avg)\n",
        "df_confusion = pd.crosstab(test_table['Actuals'], avg1)\n",
        "df_confusion"
      ],
      "execution_count": 98,
      "outputs": [
        {
          "output_type": "stream",
          "text": [
            "0.9754227835287317\n"
          ],
          "name": "stdout"
        },
        {
          "output_type": "execute_result",
          "data": {
            "text/html": [
              "<div>\n",
              "<style scoped>\n",
              "    .dataframe tbody tr th:only-of-type {\n",
              "        vertical-align: middle;\n",
              "    }\n",
              "\n",
              "    .dataframe tbody tr th {\n",
              "        vertical-align: top;\n",
              "    }\n",
              "\n",
              "    .dataframe thead th {\n",
              "        text-align: right;\n",
              "    }\n",
              "</style>\n",
              "<table border=\"1\" class=\"dataframe\">\n",
              "  <thead>\n",
              "    <tr style=\"text-align: right;\">\n",
              "      <th>col_0</th>\n",
              "      <th>0</th>\n",
              "      <th>1</th>\n",
              "    </tr>\n",
              "    <tr>\n",
              "      <th>Actuals</th>\n",
              "      <th></th>\n",
              "      <th></th>\n",
              "    </tr>\n",
              "  </thead>\n",
              "  <tbody>\n",
              "    <tr>\n",
              "      <th>0.0</th>\n",
              "      <td>206105</td>\n",
              "      <td>8002</td>\n",
              "    </tr>\n",
              "    <tr>\n",
              "      <th>1.0</th>\n",
              "      <td>487</td>\n",
              "      <td>2547</td>\n",
              "    </tr>\n",
              "  </tbody>\n",
              "</table>\n",
              "</div>"
            ],
            "text/plain": [
              "col_0         0     1\n",
              "Actuals              \n",
              "0.0      206105  8002\n",
              "1.0         487  2547"
            ]
          },
          "metadata": {
            "tags": []
          },
          "execution_count": 98
        }
      ]
    },
    {
      "metadata": {
        "id": "mxrmQZ4kfIee",
        "colab_type": "code",
        "colab": {
          "base_uri": "https://localhost:8080/",
          "height": 34
        },
        "outputId": "3b8a2ff8-003f-4b7c-863c-b8a8fb8be471"
      },
      "cell_type": "code",
      "source": [
        "2547/(2547+487)"
      ],
      "execution_count": 99,
      "outputs": [
        {
          "output_type": "execute_result",
          "data": {
            "text/plain": [
              "0.8394858272907053"
            ]
          },
          "metadata": {
            "tags": []
          },
          "execution_count": 99
        }
      ]
    },
    {
      "metadata": {
        "id": "beN5vyS6KtuY",
        "colab_type": "text"
      },
      "cell_type": "markdown",
      "source": [
        "### We would be more interested in the recall value of the predictions because in this case no. of revenue generating customers will be very low compared to the non revenue generating customers cases and sometime a revenue generating customer will be predicted as non profitable. So, recall will give us a sense of only profitable customers."
      ]
    },
    {
      "metadata": {
        "id": "wJCRr4COKtuZ",
        "colab_type": "code",
        "colab": {}
      },
      "cell_type": "code",
      "source": [
        "2346/(2346+688)"
      ],
      "execution_count": 0,
      "outputs": []
    },
    {
      "metadata": {
        "id": "NcyRfqGyKtue",
        "colab_type": "text"
      },
      "cell_type": "markdown",
      "source": [
        "#### We observe a ~77% recall score on the test set for the tuned Logistic Regression"
      ]
    },
    {
      "metadata": {
        "id": "eqLxdFXRKtuf",
        "colab_type": "text"
      },
      "cell_type": "markdown",
      "source": [
        "### Tuning Random Forest Parameters"
      ]
    },
    {
      "metadata": {
        "id": "o5HtvwR8Ktuj",
        "colab_type": "code",
        "colab": {}
      },
      "cell_type": "code",
      "source": [
        "x1_train, x1_test, y1_train, y1_test = train_test_split(x_train_res,y_train_res,\n",
        "                                                stratify=y_train_res, \n",
        "                                                test_size=0.2,random_state=20)\n",
        "\n",
        "x1_train.fillna(x1_train.median(),inplace=True)\n",
        "x1_test.fillna(x1_test.median(),inplace=True)\n",
        "test.fillna(test.median(),inplace=True)\n",
        "\n",
        "clf_rf = RandomForestClassifier(n_estimators=400,max_depth=8,random_state=20)\n",
        "clf_rf.fit(x1_train, y1_train)\n",
        "\n",
        "val_table['rf'] = clf_rf.predict_proba(x1_test)[:,1]\n",
        "test_table['rf'] = clf_rf.predict_proba(test)[:,1]"
      ],
      "execution_count": 0,
      "outputs": []
    },
    {
      "metadata": {
        "id": "bBaiMcTHjEXS",
        "colab_type": "code",
        "colab": {
          "base_uri": "https://localhost:8080/",
          "height": 159
        },
        "outputId": "5056c14f-f80a-4df0-fe15-f6d5426e5ad4"
      },
      "cell_type": "code",
      "source": [
        "print(roc_auc_score(val_table['Actuals'], val_table['rf']))\n",
        "avg1 = np.where(val_table['rf']<0.4,0,1)\n",
        "#print(avg)\n",
        "df_confusion = pd.crosstab(val_table['Actuals'], avg1)\n",
        "df_confusion"
      ],
      "execution_count": 71,
      "outputs": [
        {
          "output_type": "stream",
          "text": [
            "0.9932529091474404\n"
          ],
          "name": "stdout"
        },
        {
          "output_type": "execute_result",
          "data": {
            "text/html": [
              "<div>\n",
              "<style scoped>\n",
              "    .dataframe tbody tr th:only-of-type {\n",
              "        vertical-align: middle;\n",
              "    }\n",
              "\n",
              "    .dataframe tbody tr th {\n",
              "        vertical-align: top;\n",
              "    }\n",
              "\n",
              "    .dataframe thead th {\n",
              "        text-align: right;\n",
              "    }\n",
              "</style>\n",
              "<table border=\"1\" class=\"dataframe\">\n",
              "  <thead>\n",
              "    <tr style=\"text-align: right;\">\n",
              "      <th>col_0</th>\n",
              "      <th>0</th>\n",
              "      <th>1</th>\n",
              "    </tr>\n",
              "    <tr>\n",
              "      <th>Actuals</th>\n",
              "      <th></th>\n",
              "      <th></th>\n",
              "    </tr>\n",
              "  </thead>\n",
              "  <tbody>\n",
              "    <tr>\n",
              "      <th>0.0</th>\n",
              "      <td>96689</td>\n",
              "      <td>3228</td>\n",
              "    </tr>\n",
              "    <tr>\n",
              "      <th>1.0</th>\n",
              "      <td>553</td>\n",
              "      <td>19430</td>\n",
              "    </tr>\n",
              "  </tbody>\n",
              "</table>\n",
              "</div>"
            ],
            "text/plain": [
              "col_0        0      1\n",
              "Actuals              \n",
              "0.0      96689   3228\n",
              "1.0        553  19430"
            ]
          },
          "metadata": {
            "tags": []
          },
          "execution_count": 71
        }
      ]
    },
    {
      "metadata": {
        "id": "tbvMwUgYjEi8",
        "colab_type": "code",
        "colab": {
          "base_uri": "https://localhost:8080/",
          "height": 159
        },
        "outputId": "6c085faf-4b7d-4c08-8fdb-7cf792dde50f"
      },
      "cell_type": "code",
      "source": [
        "print(roc_auc_score(val_table['Actuals'], val_table['rf']))\n",
        "avg1 = np.where(val_table['rf']<0.5,0,1)\n",
        "#print(avg)\n",
        "df_confusion = pd.crosstab(val_table['Actuals'], avg1)\n",
        "df_confusion"
      ],
      "execution_count": 72,
      "outputs": [
        {
          "output_type": "stream",
          "text": [
            "0.9932529091474404\n"
          ],
          "name": "stdout"
        },
        {
          "output_type": "execute_result",
          "data": {
            "text/html": [
              "<div>\n",
              "<style scoped>\n",
              "    .dataframe tbody tr th:only-of-type {\n",
              "        vertical-align: middle;\n",
              "    }\n",
              "\n",
              "    .dataframe tbody tr th {\n",
              "        vertical-align: top;\n",
              "    }\n",
              "\n",
              "    .dataframe thead th {\n",
              "        text-align: right;\n",
              "    }\n",
              "</style>\n",
              "<table border=\"1\" class=\"dataframe\">\n",
              "  <thead>\n",
              "    <tr style=\"text-align: right;\">\n",
              "      <th>col_0</th>\n",
              "      <th>0</th>\n",
              "      <th>1</th>\n",
              "    </tr>\n",
              "    <tr>\n",
              "      <th>Actuals</th>\n",
              "      <th></th>\n",
              "      <th></th>\n",
              "    </tr>\n",
              "  </thead>\n",
              "  <tbody>\n",
              "    <tr>\n",
              "      <th>0.0</th>\n",
              "      <td>97365</td>\n",
              "      <td>2552</td>\n",
              "    </tr>\n",
              "    <tr>\n",
              "      <th>1.0</th>\n",
              "      <td>984</td>\n",
              "      <td>18999</td>\n",
              "    </tr>\n",
              "  </tbody>\n",
              "</table>\n",
              "</div>"
            ],
            "text/plain": [
              "col_0        0      1\n",
              "Actuals              \n",
              "0.0      97365   2552\n",
              "1.0        984  18999"
            ]
          },
          "metadata": {
            "tags": []
          },
          "execution_count": 72
        }
      ]
    },
    {
      "metadata": {
        "id": "ACU82KBsjEv9",
        "colab_type": "code",
        "colab": {
          "base_uri": "https://localhost:8080/",
          "height": 159
        },
        "outputId": "3b0f65a6-748d-4b5a-e916-c8c47736c554"
      },
      "cell_type": "code",
      "source": [
        "print(roc_auc_score(val_table['Actuals'], val_table['rf']))\n",
        "avg1 = np.where(val_table['rf']<0.6,0,1)\n",
        "#print(avg)\n",
        "df_confusion = pd.crosstab(val_table['Actuals'], avg1)\n",
        "df_confusion"
      ],
      "execution_count": 73,
      "outputs": [
        {
          "output_type": "stream",
          "text": [
            "0.9932529091474404\n"
          ],
          "name": "stdout"
        },
        {
          "output_type": "execute_result",
          "data": {
            "text/html": [
              "<div>\n",
              "<style scoped>\n",
              "    .dataframe tbody tr th:only-of-type {\n",
              "        vertical-align: middle;\n",
              "    }\n",
              "\n",
              "    .dataframe tbody tr th {\n",
              "        vertical-align: top;\n",
              "    }\n",
              "\n",
              "    .dataframe thead th {\n",
              "        text-align: right;\n",
              "    }\n",
              "</style>\n",
              "<table border=\"1\" class=\"dataframe\">\n",
              "  <thead>\n",
              "    <tr style=\"text-align: right;\">\n",
              "      <th>col_0</th>\n",
              "      <th>0</th>\n",
              "      <th>1</th>\n",
              "    </tr>\n",
              "    <tr>\n",
              "      <th>Actuals</th>\n",
              "      <th></th>\n",
              "      <th></th>\n",
              "    </tr>\n",
              "  </thead>\n",
              "  <tbody>\n",
              "    <tr>\n",
              "      <th>0.0</th>\n",
              "      <td>98060</td>\n",
              "      <td>1857</td>\n",
              "    </tr>\n",
              "    <tr>\n",
              "      <th>1.0</th>\n",
              "      <td>1915</td>\n",
              "      <td>18068</td>\n",
              "    </tr>\n",
              "  </tbody>\n",
              "</table>\n",
              "</div>"
            ],
            "text/plain": [
              "col_0        0      1\n",
              "Actuals              \n",
              "0.0      98060   1857\n",
              "1.0       1915  18068"
            ]
          },
          "metadata": {
            "tags": []
          },
          "execution_count": 73
        }
      ]
    },
    {
      "metadata": {
        "id": "_zP6PAjcfY0G",
        "colab_type": "code",
        "colab": {
          "base_uri": "https://localhost:8080/",
          "height": 159
        },
        "outputId": "b47d2525-f874-4b18-84b6-ca28b8cdb70a"
      },
      "cell_type": "code",
      "source": [
        "print(roc_auc_score(test_table['Actuals'],test_table['rf']))\n",
        "avg1 = np.where(test_table['rf']<0.4,0,1)\n",
        "#print(avg)\n",
        "df_confusion = pd.crosstab(test_table['Actuals'], avg1)\n",
        "df_confusion"
      ],
      "execution_count": 96,
      "outputs": [
        {
          "output_type": "stream",
          "text": [
            "0.9856292713493301\n"
          ],
          "name": "stdout"
        },
        {
          "output_type": "execute_result",
          "data": {
            "text/html": [
              "<div>\n",
              "<style scoped>\n",
              "    .dataframe tbody tr th:only-of-type {\n",
              "        vertical-align: middle;\n",
              "    }\n",
              "\n",
              "    .dataframe tbody tr th {\n",
              "        vertical-align: top;\n",
              "    }\n",
              "\n",
              "    .dataframe thead th {\n",
              "        text-align: right;\n",
              "    }\n",
              "</style>\n",
              "<table border=\"1\" class=\"dataframe\">\n",
              "  <thead>\n",
              "    <tr style=\"text-align: right;\">\n",
              "      <th>col_0</th>\n",
              "      <th>0</th>\n",
              "      <th>1</th>\n",
              "    </tr>\n",
              "    <tr>\n",
              "      <th>Actuals</th>\n",
              "      <th></th>\n",
              "      <th></th>\n",
              "    </tr>\n",
              "  </thead>\n",
              "  <tbody>\n",
              "    <tr>\n",
              "      <th>0.0</th>\n",
              "      <td>207153</td>\n",
              "      <td>6954</td>\n",
              "    </tr>\n",
              "    <tr>\n",
              "      <th>1.0</th>\n",
              "      <td>348</td>\n",
              "      <td>2686</td>\n",
              "    </tr>\n",
              "  </tbody>\n",
              "</table>\n",
              "</div>"
            ],
            "text/plain": [
              "col_0         0     1\n",
              "Actuals              \n",
              "0.0      207153  6954\n",
              "1.0         348  2686"
            ]
          },
          "metadata": {
            "tags": []
          },
          "execution_count": 96
        }
      ]
    },
    {
      "metadata": {
        "id": "vTcs6M4JqvBO",
        "colab_type": "code",
        "colab": {
          "base_uri": "https://localhost:8080/",
          "height": 170
        },
        "outputId": "3282fdef-4594-49bc-d8fe-bceb4ce94616"
      },
      "cell_type": "code",
      "source": [
        "test_table['rf'].describe()"
      ],
      "execution_count": 109,
      "outputs": [
        {
          "output_type": "execute_result",
          "data": {
            "text/plain": [
              "count    217141.000000\n",
              "mean          0.047326\n",
              "std           0.148384\n",
              "min           0.000009\n",
              "25%           0.000206\n",
              "50%           0.001304\n",
              "75%           0.011344\n",
              "max           0.941873\n",
              "Name: rf, dtype: float64"
            ]
          },
          "metadata": {
            "tags": []
          },
          "execution_count": 109
        }
      ]
    },
    {
      "metadata": {
        "id": "zikb-HpwjO2f",
        "colab_type": "code",
        "colab": {
          "base_uri": "https://localhost:8080/",
          "height": 34
        },
        "outputId": "dfb1ef01-2616-470a-ffff-1af7dfb2f29c"
      },
      "cell_type": "code",
      "source": [
        "2686/(2686+348)"
      ],
      "execution_count": 97,
      "outputs": [
        {
          "output_type": "execute_result",
          "data": {
            "text/plain": [
              "0.8852999340804218"
            ]
          },
          "metadata": {
            "tags": []
          },
          "execution_count": 97
        }
      ]
    },
    {
      "metadata": {
        "id": "ky1m_L3nqmXQ",
        "colab_type": "code",
        "colab": {
          "base_uri": "https://localhost:8080/",
          "height": 34
        },
        "outputId": "1ca1716a-443a-43d5-f497-65fd52e971cf"
      },
      "cell_type": "code",
      "source": [
        "2686/(2686+6954)"
      ],
      "execution_count": 108,
      "outputs": [
        {
          "output_type": "execute_result",
          "data": {
            "text/plain": [
              "0.2786307053941909"
            ]
          },
          "metadata": {
            "tags": []
          },
          "execution_count": 108
        }
      ]
    },
    {
      "metadata": {
        "id": "kcJO30K2Ktuw",
        "colab_type": "text"
      },
      "cell_type": "markdown",
      "source": [
        "###  Gradient Boosting"
      ]
    },
    {
      "metadata": {
        "id": "SgTXRgi0Ktuy",
        "colab_type": "code",
        "colab": {}
      },
      "cell_type": "code",
      "source": [
        "x1_train, x1_test, y1_train, y1_test = train_test_split(x_train_res,y_train_res,\n",
        "                                                stratify=y_train_res, \n",
        "                                                test_size=0.2,random_state=20)"
      ],
      "execution_count": 0,
      "outputs": []
    },
    {
      "metadata": {
        "id": "d2FDYTJiKtu0",
        "colab_type": "code",
        "colab": {}
      },
      "cell_type": "code",
      "source": [
        "x1_train.fillna(x1_train.median(),inplace=True)\n",
        "x1_test.fillna(x1_test.median(),inplace=True)\n",
        "test.fillna(test.median(),inplace=True)\n",
        "\n",
        "#cf_gb = GradientBoostingClassifier(learning_rate=0.03,max_depth=8,n_estimators=500,random_state=20)\n",
        "cf_gb = GradientBoostingClassifier(n_estimators=700,random_state=20)\n",
        "cf_gb.fit(x1_train, y1_train)\n",
        "\n",
        "#val_gbm = cf_gb.predict_proba(x1_test)[:,1]\n",
        "#test_gbm = cf_gb.predict_proba(test)[:,1]\n",
        "\n",
        "val_table['gbm'] = cf_gb.predict_proba(x1_test)[:,1]\n",
        "test_table['gbm'] = cf_gb.predict_proba(test)[:,1]"
      ],
      "execution_count": 0,
      "outputs": []
    },
    {
      "metadata": {
        "id": "ytHHP8V_hoYV",
        "colab_type": "code",
        "colab": {
          "base_uri": "https://localhost:8080/",
          "height": 159
        },
        "outputId": "a0b09a5b-8594-4e8d-bd3c-398ef6db3d37"
      },
      "cell_type": "code",
      "source": [
        "print(roc_auc_score(val_table['Actuals'], val_gbm))\n",
        "avg1 = np.where(val_gbm<0.4,0,1)\n",
        "#print(avg)\n",
        "df_confusion = pd.crosstab(val_table['Actuals'], avg1)\n",
        "df_confusion"
      ],
      "execution_count": 80,
      "outputs": [
        {
          "output_type": "stream",
          "text": [
            "0.9956987281478357\n"
          ],
          "name": "stdout"
        },
        {
          "output_type": "execute_result",
          "data": {
            "text/html": [
              "<div>\n",
              "<style scoped>\n",
              "    .dataframe tbody tr th:only-of-type {\n",
              "        vertical-align: middle;\n",
              "    }\n",
              "\n",
              "    .dataframe tbody tr th {\n",
              "        vertical-align: top;\n",
              "    }\n",
              "\n",
              "    .dataframe thead th {\n",
              "        text-align: right;\n",
              "    }\n",
              "</style>\n",
              "<table border=\"1\" class=\"dataframe\">\n",
              "  <thead>\n",
              "    <tr style=\"text-align: right;\">\n",
              "      <th>col_0</th>\n",
              "      <th>0</th>\n",
              "      <th>1</th>\n",
              "    </tr>\n",
              "    <tr>\n",
              "      <th>Actuals</th>\n",
              "      <th></th>\n",
              "      <th></th>\n",
              "    </tr>\n",
              "  </thead>\n",
              "  <tbody>\n",
              "    <tr>\n",
              "      <th>0.0</th>\n",
              "      <td>97472</td>\n",
              "      <td>2445</td>\n",
              "    </tr>\n",
              "    <tr>\n",
              "      <th>1.0</th>\n",
              "      <td>762</td>\n",
              "      <td>19221</td>\n",
              "    </tr>\n",
              "  </tbody>\n",
              "</table>\n",
              "</div>"
            ],
            "text/plain": [
              "col_0        0      1\n",
              "Actuals              \n",
              "0.0      97472   2445\n",
              "1.0        762  19221"
            ]
          },
          "metadata": {
            "tags": []
          },
          "execution_count": 80
        }
      ]
    },
    {
      "metadata": {
        "id": "7JdiTxcZhomL",
        "colab_type": "code",
        "colab": {
          "base_uri": "https://localhost:8080/",
          "height": 159
        },
        "outputId": "1fe9f30b-6e94-4231-a16a-a939d811ec2a"
      },
      "cell_type": "code",
      "source": [
        "print(roc_auc_score(val_table['Actuals'], val_gbm))\n",
        "avg1 = np.where(val_gbm<0.5,0,1)\n",
        "#print(avg)\n",
        "df_confusion = pd.crosstab(val_table['Actuals'], avg1)\n",
        "df_confusion"
      ],
      "execution_count": 81,
      "outputs": [
        {
          "output_type": "stream",
          "text": [
            "0.9956987281478357\n"
          ],
          "name": "stdout"
        },
        {
          "output_type": "execute_result",
          "data": {
            "text/html": [
              "<div>\n",
              "<style scoped>\n",
              "    .dataframe tbody tr th:only-of-type {\n",
              "        vertical-align: middle;\n",
              "    }\n",
              "\n",
              "    .dataframe tbody tr th {\n",
              "        vertical-align: top;\n",
              "    }\n",
              "\n",
              "    .dataframe thead th {\n",
              "        text-align: right;\n",
              "    }\n",
              "</style>\n",
              "<table border=\"1\" class=\"dataframe\">\n",
              "  <thead>\n",
              "    <tr style=\"text-align: right;\">\n",
              "      <th>col_0</th>\n",
              "      <th>0</th>\n",
              "      <th>1</th>\n",
              "    </tr>\n",
              "    <tr>\n",
              "      <th>Actuals</th>\n",
              "      <th></th>\n",
              "      <th></th>\n",
              "    </tr>\n",
              "  </thead>\n",
              "  <tbody>\n",
              "    <tr>\n",
              "      <th>0.0</th>\n",
              "      <td>97919</td>\n",
              "      <td>1998</td>\n",
              "    </tr>\n",
              "    <tr>\n",
              "      <th>1.0</th>\n",
              "      <td>1169</td>\n",
              "      <td>18814</td>\n",
              "    </tr>\n",
              "  </tbody>\n",
              "</table>\n",
              "</div>"
            ],
            "text/plain": [
              "col_0        0      1\n",
              "Actuals              \n",
              "0.0      97919   1998\n",
              "1.0       1169  18814"
            ]
          },
          "metadata": {
            "tags": []
          },
          "execution_count": 81
        }
      ]
    },
    {
      "metadata": {
        "id": "SA3FF11ghoy9",
        "colab_type": "code",
        "colab": {
          "base_uri": "https://localhost:8080/",
          "height": 159
        },
        "outputId": "bf1fa2f2-36a0-4c81-dd6b-66ec6f7094c1"
      },
      "cell_type": "code",
      "source": [
        "print(roc_auc_score(val_table['Actuals'], val_gbm))\n",
        "avg1 = np.where(val_gbm<0.6,0,1)\n",
        "#print(avg)\n",
        "df_confusion = pd.crosstab(val_table['Actuals'], avg1)\n",
        "df_confusion"
      ],
      "execution_count": 82,
      "outputs": [
        {
          "output_type": "stream",
          "text": [
            "0.9956987281478357\n"
          ],
          "name": "stdout"
        },
        {
          "output_type": "execute_result",
          "data": {
            "text/html": [
              "<div>\n",
              "<style scoped>\n",
              "    .dataframe tbody tr th:only-of-type {\n",
              "        vertical-align: middle;\n",
              "    }\n",
              "\n",
              "    .dataframe tbody tr th {\n",
              "        vertical-align: top;\n",
              "    }\n",
              "\n",
              "    .dataframe thead th {\n",
              "        text-align: right;\n",
              "    }\n",
              "</style>\n",
              "<table border=\"1\" class=\"dataframe\">\n",
              "  <thead>\n",
              "    <tr style=\"text-align: right;\">\n",
              "      <th>col_0</th>\n",
              "      <th>0</th>\n",
              "      <th>1</th>\n",
              "    </tr>\n",
              "    <tr>\n",
              "      <th>Actuals</th>\n",
              "      <th></th>\n",
              "      <th></th>\n",
              "    </tr>\n",
              "  </thead>\n",
              "  <tbody>\n",
              "    <tr>\n",
              "      <th>0.0</th>\n",
              "      <td>98319</td>\n",
              "      <td>1598</td>\n",
              "    </tr>\n",
              "    <tr>\n",
              "      <th>1.0</th>\n",
              "      <td>1633</td>\n",
              "      <td>18350</td>\n",
              "    </tr>\n",
              "  </tbody>\n",
              "</table>\n",
              "</div>"
            ],
            "text/plain": [
              "col_0        0      1\n",
              "Actuals              \n",
              "0.0      98319   1598\n",
              "1.0       1633  18350"
            ]
          },
          "metadata": {
            "tags": []
          },
          "execution_count": 82
        }
      ]
    },
    {
      "metadata": {
        "id": "xdmbayFwKtu3",
        "colab_type": "code",
        "colab": {
          "base_uri": "https://localhost:8080/",
          "height": 159
        },
        "outputId": "3341d926-4401-497d-df3e-66c881212970"
      },
      "cell_type": "code",
      "source": [
        "print(roc_auc_score(test_table['Actuals'], test_gbm))\n",
        "avg1 = np.where(test_gbm<0.4,0,1)\n",
        "#print(avg)\n",
        "df_confusion = pd.crosstab(test_table['Actuals'], avg1)\n",
        "df_confusion"
      ],
      "execution_count": 104,
      "outputs": [
        {
          "output_type": "stream",
          "text": [
            "0.9862067130543675\n"
          ],
          "name": "stdout"
        },
        {
          "output_type": "execute_result",
          "data": {
            "text/html": [
              "<div>\n",
              "<style scoped>\n",
              "    .dataframe tbody tr th:only-of-type {\n",
              "        vertical-align: middle;\n",
              "    }\n",
              "\n",
              "    .dataframe tbody tr th {\n",
              "        vertical-align: top;\n",
              "    }\n",
              "\n",
              "    .dataframe thead th {\n",
              "        text-align: right;\n",
              "    }\n",
              "</style>\n",
              "<table border=\"1\" class=\"dataframe\">\n",
              "  <thead>\n",
              "    <tr style=\"text-align: right;\">\n",
              "      <th>col_0</th>\n",
              "      <th>0</th>\n",
              "      <th>1</th>\n",
              "    </tr>\n",
              "    <tr>\n",
              "      <th>Actuals</th>\n",
              "      <th></th>\n",
              "      <th></th>\n",
              "    </tr>\n",
              "  </thead>\n",
              "  <tbody>\n",
              "    <tr>\n",
              "      <th>0.0</th>\n",
              "      <td>208715</td>\n",
              "      <td>5392</td>\n",
              "    </tr>\n",
              "    <tr>\n",
              "      <th>1.0</th>\n",
              "      <td>504</td>\n",
              "      <td>2530</td>\n",
              "    </tr>\n",
              "  </tbody>\n",
              "</table>\n",
              "</div>"
            ],
            "text/plain": [
              "col_0         0     1\n",
              "Actuals              \n",
              "0.0      208715  5392\n",
              "1.0         504  2530"
            ]
          },
          "metadata": {
            "tags": []
          },
          "execution_count": 104
        }
      ]
    },
    {
      "metadata": {
        "id": "OVlAzlbEKtu6",
        "colab_type": "code",
        "colab": {
          "base_uri": "https://localhost:8080/",
          "height": 34
        },
        "outputId": "6d5c49c0-4875-40ec-9743-5818269aa03f"
      },
      "cell_type": "code",
      "source": [
        "2530/(2530+504)"
      ],
      "execution_count": 105,
      "outputs": [
        {
          "output_type": "execute_result",
          "data": {
            "text/plain": [
              "0.8338826631509558"
            ]
          },
          "metadata": {
            "tags": []
          },
          "execution_count": 105
        }
      ]
    },
    {
      "metadata": {
        "id": "UjJsZbcDiG85",
        "colab_type": "code",
        "colab": {
          "base_uri": "https://localhost:8080/",
          "height": 34
        },
        "outputId": "8e538a34-42d5-4f48-8ddc-7ab1e30ffcd1"
      },
      "cell_type": "code",
      "source": [
        "2530/(2530+5392)"
      ],
      "execution_count": 106,
      "outputs": [
        {
          "output_type": "execute_result",
          "data": {
            "text/plain": [
              "0.3193637970209543"
            ]
          },
          "metadata": {
            "tags": []
          },
          "execution_count": 106
        }
      ]
    },
    {
      "metadata": {
        "id": "Vabn1GOZpnN9",
        "colab_type": "code",
        "colab": {}
      },
      "cell_type": "code",
      "source": [
        ""
      ],
      "execution_count": 0,
      "outputs": []
    }
  ]
}