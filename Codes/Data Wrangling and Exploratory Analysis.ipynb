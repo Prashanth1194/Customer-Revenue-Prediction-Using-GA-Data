{
 "cells": [
  {
   "cell_type": "markdown",
   "metadata": {},
   "source": [
    "### Loading the libraries"
   ]
  },
  {
   "cell_type": "code",
   "execution_count": 4,
   "metadata": {},
   "outputs": [],
   "source": [
    "%matplotlib inline\n",
    "\n",
    "import pandas as pd\n",
    "import numpy as np\n",
    "import matplotlib.pyplot as plt\n",
    "import seaborn as sns"
   ]
  },
  {
   "cell_type": "markdown",
   "metadata": {},
   "source": [
    "### Reading the data"
   ]
  },
  {
   "cell_type": "code",
   "execution_count": 5,
   "metadata": {},
   "outputs": [
    {
     "name": "stderr",
     "output_type": "stream",
     "text": [
      "C:\\Users\\prash\\Anaconda3\\lib\\site-packages\\IPython\\core\\interactiveshell.py:2728: DtypeWarning: Columns (2,49) have mixed types. Specify dtype option on import or set low_memory=False.\n",
      "  interactivity=interactivity, compiler=compiler, result=result)\n"
     ]
    },
    {
     "name": "stdout",
     "output_type": "stream",
     "text": [
      "(903653, 55)\n"
     ]
    }
   ],
   "source": [
    "train_df = pd.read_csv(\"train-flattened_v2.csv\")\n",
    "print(train_df.shape)"
   ]
  },
  {
   "cell_type": "markdown",
   "metadata": {},
   "source": [
    "### Sneak Peek at the data"
   ]
  },
  {
   "cell_type": "code",
   "execution_count": 6,
   "metadata": {
    "scrolled": true
   },
   "outputs": [
    {
     "data": {
      "text/html": [
       "<div>\n",
       "<style scoped>\n",
       "    .dataframe tbody tr th:only-of-type {\n",
       "        vertical-align: middle;\n",
       "    }\n",
       "\n",
       "    .dataframe tbody tr th {\n",
       "        vertical-align: top;\n",
       "    }\n",
       "\n",
       "    .dataframe thead th {\n",
       "        text-align: right;\n",
       "    }\n",
       "</style>\n",
       "<table border=\"1\" class=\"dataframe\">\n",
       "  <thead>\n",
       "    <tr style=\"text-align: right;\">\n",
       "      <th></th>\n",
       "      <th>channelGrouping</th>\n",
       "      <th>date</th>\n",
       "      <th>fullVisitorId</th>\n",
       "      <th>sessionId</th>\n",
       "      <th>socialEngagementType</th>\n",
       "      <th>visitId</th>\n",
       "      <th>visitNumber</th>\n",
       "      <th>visitStartTime</th>\n",
       "      <th>device.browser</th>\n",
       "      <th>device.browserSize</th>\n",
       "      <th>...</th>\n",
       "      <th>trafficSource.adwordsClickInfo.isVideoAd</th>\n",
       "      <th>trafficSource.adwordsClickInfo.page</th>\n",
       "      <th>trafficSource.adwordsClickInfo.slot</th>\n",
       "      <th>trafficSource.campaign</th>\n",
       "      <th>trafficSource.campaignCode</th>\n",
       "      <th>trafficSource.isTrueDirect</th>\n",
       "      <th>trafficSource.keyword</th>\n",
       "      <th>trafficSource.medium</th>\n",
       "      <th>trafficSource.referralPath</th>\n",
       "      <th>trafficSource.source</th>\n",
       "    </tr>\n",
       "  </thead>\n",
       "  <tbody>\n",
       "    <tr>\n",
       "      <th>0</th>\n",
       "      <td>Organic Search</td>\n",
       "      <td>20160902</td>\n",
       "      <td>1131660440785968503</td>\n",
       "      <td>1131660440785968503_1472830385</td>\n",
       "      <td>Not Socially Engaged</td>\n",
       "      <td>1472830385</td>\n",
       "      <td>1</td>\n",
       "      <td>1472830385</td>\n",
       "      <td>Chrome</td>\n",
       "      <td>not available in demo dataset</td>\n",
       "      <td>...</td>\n",
       "      <td>NaN</td>\n",
       "      <td>NaN</td>\n",
       "      <td>NaN</td>\n",
       "      <td>(not set)</td>\n",
       "      <td>NaN</td>\n",
       "      <td>NaN</td>\n",
       "      <td>(not provided)</td>\n",
       "      <td>organic</td>\n",
       "      <td>NaN</td>\n",
       "      <td>google</td>\n",
       "    </tr>\n",
       "    <tr>\n",
       "      <th>1</th>\n",
       "      <td>Organic Search</td>\n",
       "      <td>20160902</td>\n",
       "      <td>377306020877927890</td>\n",
       "      <td>377306020877927890_1472880147</td>\n",
       "      <td>Not Socially Engaged</td>\n",
       "      <td>1472880147</td>\n",
       "      <td>1</td>\n",
       "      <td>1472880147</td>\n",
       "      <td>Firefox</td>\n",
       "      <td>not available in demo dataset</td>\n",
       "      <td>...</td>\n",
       "      <td>NaN</td>\n",
       "      <td>NaN</td>\n",
       "      <td>NaN</td>\n",
       "      <td>(not set)</td>\n",
       "      <td>NaN</td>\n",
       "      <td>NaN</td>\n",
       "      <td>(not provided)</td>\n",
       "      <td>organic</td>\n",
       "      <td>NaN</td>\n",
       "      <td>google</td>\n",
       "    </tr>\n",
       "    <tr>\n",
       "      <th>2</th>\n",
       "      <td>Organic Search</td>\n",
       "      <td>20160902</td>\n",
       "      <td>3895546263509774583</td>\n",
       "      <td>3895546263509774583_1472865386</td>\n",
       "      <td>Not Socially Engaged</td>\n",
       "      <td>1472865386</td>\n",
       "      <td>1</td>\n",
       "      <td>1472865386</td>\n",
       "      <td>Chrome</td>\n",
       "      <td>not available in demo dataset</td>\n",
       "      <td>...</td>\n",
       "      <td>NaN</td>\n",
       "      <td>NaN</td>\n",
       "      <td>NaN</td>\n",
       "      <td>(not set)</td>\n",
       "      <td>NaN</td>\n",
       "      <td>NaN</td>\n",
       "      <td>(not provided)</td>\n",
       "      <td>organic</td>\n",
       "      <td>NaN</td>\n",
       "      <td>google</td>\n",
       "    </tr>\n",
       "    <tr>\n",
       "      <th>3</th>\n",
       "      <td>Organic Search</td>\n",
       "      <td>20160902</td>\n",
       "      <td>4763447161404445595</td>\n",
       "      <td>4763447161404445595_1472881213</td>\n",
       "      <td>Not Socially Engaged</td>\n",
       "      <td>1472881213</td>\n",
       "      <td>1</td>\n",
       "      <td>1472881213</td>\n",
       "      <td>UC Browser</td>\n",
       "      <td>not available in demo dataset</td>\n",
       "      <td>...</td>\n",
       "      <td>NaN</td>\n",
       "      <td>NaN</td>\n",
       "      <td>NaN</td>\n",
       "      <td>(not set)</td>\n",
       "      <td>NaN</td>\n",
       "      <td>NaN</td>\n",
       "      <td>google + online</td>\n",
       "      <td>organic</td>\n",
       "      <td>NaN</td>\n",
       "      <td>google</td>\n",
       "    </tr>\n",
       "    <tr>\n",
       "      <th>4</th>\n",
       "      <td>Organic Search</td>\n",
       "      <td>20160902</td>\n",
       "      <td>27294437909732085</td>\n",
       "      <td>27294437909732085_1472822600</td>\n",
       "      <td>Not Socially Engaged</td>\n",
       "      <td>1472822600</td>\n",
       "      <td>2</td>\n",
       "      <td>1472822600</td>\n",
       "      <td>Chrome</td>\n",
       "      <td>not available in demo dataset</td>\n",
       "      <td>...</td>\n",
       "      <td>NaN</td>\n",
       "      <td>NaN</td>\n",
       "      <td>NaN</td>\n",
       "      <td>(not set)</td>\n",
       "      <td>NaN</td>\n",
       "      <td>True</td>\n",
       "      <td>(not provided)</td>\n",
       "      <td>organic</td>\n",
       "      <td>NaN</td>\n",
       "      <td>google</td>\n",
       "    </tr>\n",
       "  </tbody>\n",
       "</table>\n",
       "<p>5 rows × 55 columns</p>\n",
       "</div>"
      ],
      "text/plain": [
       "  channelGrouping      date        fullVisitorId  \\\n",
       "0  Organic Search  20160902  1131660440785968503   \n",
       "1  Organic Search  20160902   377306020877927890   \n",
       "2  Organic Search  20160902  3895546263509774583   \n",
       "3  Organic Search  20160902  4763447161404445595   \n",
       "4  Organic Search  20160902    27294437909732085   \n",
       "\n",
       "                        sessionId  socialEngagementType     visitId  \\\n",
       "0  1131660440785968503_1472830385  Not Socially Engaged  1472830385   \n",
       "1   377306020877927890_1472880147  Not Socially Engaged  1472880147   \n",
       "2  3895546263509774583_1472865386  Not Socially Engaged  1472865386   \n",
       "3  4763447161404445595_1472881213  Not Socially Engaged  1472881213   \n",
       "4    27294437909732085_1472822600  Not Socially Engaged  1472822600   \n",
       "\n",
       "   visitNumber  visitStartTime device.browser             device.browserSize  \\\n",
       "0            1      1472830385         Chrome  not available in demo dataset   \n",
       "1            1      1472880147        Firefox  not available in demo dataset   \n",
       "2            1      1472865386         Chrome  not available in demo dataset   \n",
       "3            1      1472881213     UC Browser  not available in demo dataset   \n",
       "4            2      1472822600         Chrome  not available in demo dataset   \n",
       "\n",
       "          ...          trafficSource.adwordsClickInfo.isVideoAd  \\\n",
       "0         ...                                               NaN   \n",
       "1         ...                                               NaN   \n",
       "2         ...                                               NaN   \n",
       "3         ...                                               NaN   \n",
       "4         ...                                               NaN   \n",
       "\n",
       "  trafficSource.adwordsClickInfo.page trafficSource.adwordsClickInfo.slot  \\\n",
       "0                                 NaN                                 NaN   \n",
       "1                                 NaN                                 NaN   \n",
       "2                                 NaN                                 NaN   \n",
       "3                                 NaN                                 NaN   \n",
       "4                                 NaN                                 NaN   \n",
       "\n",
       "   trafficSource.campaign trafficSource.campaignCode  \\\n",
       "0               (not set)                        NaN   \n",
       "1               (not set)                        NaN   \n",
       "2               (not set)                        NaN   \n",
       "3               (not set)                        NaN   \n",
       "4               (not set)                        NaN   \n",
       "\n",
       "  trafficSource.isTrueDirect trafficSource.keyword trafficSource.medium  \\\n",
       "0                        NaN        (not provided)              organic   \n",
       "1                        NaN        (not provided)              organic   \n",
       "2                        NaN        (not provided)              organic   \n",
       "3                        NaN       google + online              organic   \n",
       "4                       True        (not provided)              organic   \n",
       "\n",
       "  trafficSource.referralPath trafficSource.source  \n",
       "0                        NaN               google  \n",
       "1                        NaN               google  \n",
       "2                        NaN               google  \n",
       "3                        NaN               google  \n",
       "4                        NaN               google  \n",
       "\n",
       "[5 rows x 55 columns]"
      ]
     },
     "execution_count": 6,
     "metadata": {},
     "output_type": "execute_result"
    }
   ],
   "source": [
    "train_df.head()"
   ]
  },
  {
   "cell_type": "markdown",
   "metadata": {},
   "source": [
    "### Getting the categorical and numerical columns"
   ]
  },
  {
   "cell_type": "code",
   "execution_count": 7,
   "metadata": {
    "scrolled": true
   },
   "outputs": [],
   "source": [
    "cols = train_df.columns\n",
    "num_cols = train_df._get_numeric_data().columns\n",
    "factor_cols = list(set(cols) - set(num_cols))"
   ]
  },
  {
   "cell_type": "markdown",
   "metadata": {},
   "source": [
    "### Getting the count of missing values in the categorical values and plotting the same"
   ]
  },
  {
   "cell_type": "code",
   "execution_count": 8,
   "metadata": {
    "scrolled": true
   },
   "outputs": [
    {
     "data": {
      "text/plain": [
       "Text(0.5,1,'Missing Values in Categorical Features')"
      ]
     },
     "execution_count": 8,
     "metadata": {},
     "output_type": "execute_result"
    },
    {
     "data": {
      "image/png": "[encoded data removed]",
      "text/plain": [
       "<matplotlib.figure.Figure at 0x1f29286f710>"
      ]
     },
     "metadata": {
      "needs_background": "light"
     },
     "output_type": "display_data"
    }
   ],
   "source": [
    "total_test = train_df[factor_cols].isnull().sum().sort_values(ascending=False)\n",
    "percent = (train_df[factor_cols].isnull().sum()/train_df[factor_cols].isnull().count()).sort_values(ascending=False)*100\n",
    "data_to_be_removed = pd.concat([total_test, percent], axis=1,join='outer', keys=['Missing Value Count', 'Percentage of Missing Values'])\n",
    "data_to_be_removed.index.name ='Features'\n",
    "#data_to_be_removed.head(20)\n",
    "sns.barplot(y = data_to_be_removed.index[:15],x = data_to_be_removed['Percentage of Missing Values'][:15],color='blue').set_title(\"Missing Values in Categorical Features\")"
   ]
  },
  {
   "cell_type": "markdown",
   "metadata": {},
   "source": [
    "### Getting the count of missing values in the continuous variables and plotting it"
   ]
  },
  {
   "cell_type": "code",
   "execution_count": 9,
   "metadata": {},
   "outputs": [
    {
     "data": {
      "text/plain": [
       "Text(0.5,1,'Missing Values in Continuous Features')"
      ]
     },
     "execution_count": 9,
     "metadata": {},
     "output_type": "execute_result"
    },
    {
     "data": {
      "image/png": "[encoded data removed]",
      "text/plain": [
       "<matplotlib.figure.Figure at 0x1f2929149b0>"
      ]
     },
     "metadata": {
      "needs_background": "light"
     },
     "output_type": "display_data"
    }
   ],
   "source": [
    "total_test1 = train_df[num_cols].isnull().sum().sort_values(ascending=False)\n",
    "percent1 = (train_df[num_cols].isnull().sum()/train_df[num_cols].isnull().count()).sort_values(ascending=False)*100\n",
    "data_to_be_removed1 = pd.concat([total_test1, percent1], axis=1,join='outer', keys=['Missing Value Count', 'Percentage of Missing Values'])\n",
    "data_to_be_removed1.index.name ='Features'\n",
    "#data_to_be_removed.head(20)\n",
    "sns.barplot(y = data_to_be_removed1.index[:5],x = data_to_be_removed1['Percentage of Missing Values'][:5],color='blue').set_title(\"Missing Values in Continuous Features\")"
   ]
  },
  {
   "cell_type": "markdown",
   "metadata": {},
   "source": [
    "     Note : The feature 'totals.transactionRevenue' is the revenue generated in every session/log in of each user and if it's   missing, it means that no revenue was generated. So, rather than dropping the missing values, we should recode it to 0 in this case\n"
   ]
  },
  {
   "cell_type": "markdown",
   "metadata": {},
   "source": [
    "### Now, let's check the number of levels in each categorical feature and we can drop features if they don't have missing values and have just 1 level"
   ]
  },
  {
   "cell_type": "code",
   "execution_count": 10,
   "metadata": {
    "scrolled": true
   },
   "outputs": [],
   "source": [
    "## Getting categorical columns with just 1 level\n",
    "single_level_cols = [cols for cols in train_df[factor_cols].columns if train_df[cols].nunique(dropna=False)==1 ]\n",
    "\n",
    "unique_vals_df = pd.DataFrame(columns=['Features'])\n",
    "unique_vals_df['Features'] = single_level_cols\n",
    "\n",
    "#tt = data_to_be_removed\n",
    "#tt['Features'] = data_to_be_removed.index\n",
    "#unique_vals_df = pd.merge(unique_vals_df,tt,on='Features',how='inner')\n",
    "#unique_vals_df"
   ]
  },
  {
   "cell_type": "markdown",
   "metadata": {},
   "source": [
    "     Note: It's surprising to see that all the categorical features with just 1 level do not have any missing value and we \n",
    "     can remove these features before proceeding with our analysis"
   ]
  },
  {
   "cell_type": "markdown",
   "metadata": {},
   "source": [
    "### Removing Categorical features with just 1 level"
   ]
  },
  {
   "cell_type": "code",
   "execution_count": 11,
   "metadata": {},
   "outputs": [
    {
     "name": "stdout",
     "output_type": "stream",
     "text": [
      "(903653, 37)\n"
     ]
    }
   ],
   "source": [
    "train_df.drop(single_level_cols,axis=1,inplace=True)\n",
    "print(train_df.shape)"
   ]
  },
  {
   "cell_type": "markdown",
   "metadata": {},
   "source": [
    "### Before proceeding further with the exploratory analysis, we will generate our target variable of interest : Flag indicating if a customer is a revenue generating customer or not"
   ]
  },
  {
   "cell_type": "code",
   "execution_count": 353,
   "metadata": {},
   "outputs": [],
   "source": [
    "group_cols = ['fullVisitorId']\n",
    "counted = 'totals.transactionRevenue'\n",
    "agg_name = 'totals.transactionRevenue_sum'\n",
    "gp = train_df[group_cols+[counted]].groupby(group_cols)[counted].sum().reset_index().rename(columns={counted:agg_name})\n",
    "#print(gp)\n",
    "#train = train.merge(gp, on=group_cols, how='left')\n",
    "gp['Revenue_Generating_Flag'] = np.where(gp['totals.transactionRevenue_sum']>0,1,0)\n",
    "cols = ['fullVisitorId','Revenue_Generating_Flag']\n",
    "\n",
    "train_df1 = pd.merge(train_df,gp[cols],on='fullVisitorId',how='inner')"
   ]
  },
  {
   "cell_type": "code",
   "execution_count": 354,
   "metadata": {},
   "outputs": [
    {
     "data": {
      "text/plain": [
       "0    869638\n",
       "1     34015\n",
       "Name: Revenue_Generating_Flag, dtype: int64"
      ]
     },
     "execution_count": 354,
     "metadata": {},
     "output_type": "execute_result"
    }
   ],
   "source": [
    "train_df1['Revenue_Generating_Flag'].value_counts()"
   ]
  },
  {
   "cell_type": "code",
   "execution_count": 355,
   "metadata": {},
   "outputs": [],
   "source": [
    "train_df['date'] = pd.to_datetime(train_df['visitStartTime'], unit='s')\n",
    "train_df['sess_date_dow'] = train_df['date'].dt.dayofweek\n",
    "train_df['sess_date_hours'] = train_df['date'].dt.hour\n",
    "train_df['sess_date_dom'] = train_df['date'].dt.day\n",
    "train_df.sort_values(['fullVisitorId', 'date'], ascending=True, inplace=True)\n",
    "train_df['next_session_1'] = (train_df['date'] - train_df[['fullVisitorId', 'date']].groupby('fullVisitorId')['date'].shift(1)).astype(np.int64) // 1e9 // 60 // 60\n",
    "train_df['next_session_2'] = (train_df['date'] - train_df[['fullVisitorId', 'date']].groupby('fullVisitorId')['date'].shift(-1)).astype(np.int64) // 1e9 // 60 // 60"
   ]
  },
  {
   "cell_type": "markdown",
   "metadata": {},
   "source": [
    "### Handling Categorical Variables"
   ]
  },
  {
   "cell_type": "markdown",
   "metadata": {},
   "source": [
    "#### Device Broswer"
   ]
  },
  {
   "cell_type": "code",
   "execution_count": 356,
   "metadata": {
    "scrolled": true
   },
   "outputs": [
    {
     "data": {
      "text/plain": [
       "Chrome                                         620364\n",
       "Safari                                         182245\n",
       "Firefox                                         37069\n",
       "Internet Explorer                               19375\n",
       "Edge                                            10205\n",
       "Android Webview                                  7865\n",
       "Safari (in-app)                                  6850\n",
       "Opera Mini                                       6139\n",
       "Opera                                            5643\n",
       "UC Browser                                       2427\n",
       "YaBrowser                                        2096\n",
       "Coc Coc                                           727\n",
       "Amazon Silk                                       561\n",
       "Android Browser                                   553\n",
       "Mozilla Compatible Agent                          374\n",
       "MRCHROME                                          263\n",
       "Maxthon                                           246\n",
       "BlackBerry                                        184\n",
       "Nintendo Browser                                  140\n",
       "Puffin                                             93\n",
       "Nokia Browser                                      67\n",
       "Iron                                               33\n",
       "LYF_LS_4002_12                                     21\n",
       "SeaMonkey                                          15\n",
       "Seznam                                             11\n",
       "Mozilla                                            11\n",
       "Apple-iPhone7C2                                     9\n",
       "(not set)                                           8\n",
       "0                                                   7\n",
       "Nichrome                                            7\n",
       "osee2unifiedRelease                                 5\n",
       "Lunascape                                           5\n",
       "DASH_JR_3G                                          4\n",
       "LYF_LS_4002_11                                      3\n",
       "ThumbSniper                                         3\n",
       "no-ua                                               3\n",
       "YE                                                  2\n",
       "MQQBrowser                                          2\n",
       "Android Runtime                                     2\n",
       "NokiaE52-1                                          2\n",
       "subjectAgent: NoticiasBoom                          1\n",
       "CSM Click                                           1\n",
       "Changa 99695759                                     1\n",
       "Konqueror                                           1\n",
       "DoCoMo                                              1\n",
       "ADM                                                 1\n",
       "HTC802t_TD                                          1\n",
       "M5                                                  1\n",
       "User Agent                                          1\n",
       "IE with Chrome Frame                                1\n",
       "Reddit                                              1\n",
       "Hisense M20-M_LTE                                   1\n",
       "[Use default User-agent string] LIVRENPOCHE         1\n",
       "TCL P500M                                           1\n",
       "Name: device.browser, dtype: int64"
      ]
     },
     "execution_count": 356,
     "metadata": {},
     "output_type": "execute_result"
    }
   ],
   "source": [
    "train_df1['device.browser'].value_counts()"
   ]
  },
  {
   "cell_type": "markdown",
   "metadata": {},
   "source": [
    "We can observe that the device browser has mutliple values but a lot of them are mobile browsers. We can combine these together as mobile browsers"
   ]
  },
  {
   "cell_type": "code",
   "execution_count": 357,
   "metadata": {},
   "outputs": [],
   "source": [
    "def browser_wrangling(x):\n",
    "    top_10_browsers = ['chrome','safari','firefox','internet explorer','edge','android webview','safari (in-app)','opera mini','opera','uc browser']\n",
    "    #browsers = ['chrome','safari','firefox','internet explorer','edge','opera','coc coc','maxthon','iron']\n",
    "    #mobile_browsers = ['android','samsung','mini','iphone','in-app','playstation','mozilla','chrome','blackberry','nokia','browser','amazon','lunascape','netscape','konqueror','puffin']\n",
    "    \n",
    "    if x in top_10_browsers:\n",
    "        return x.lower()\n",
    "    \n",
    "    #elif x in mobile_browsers:\n",
    "     #   return 'mobile browser'\n",
    "    \n",
    "    elif '(not set)' in x:\n",
    "        return x\n",
    "    \n",
    "    else:\n",
    "        return 'others'"
   ]
  },
  {
   "cell_type": "code",
   "execution_count": 358,
   "metadata": {},
   "outputs": [],
   "source": [
    "train_df1['device.browser'] = train_df1['device.browser'].map(lambda x:browser_wrangling(str(x).lower())).astype('str')"
   ]
  },
  {
   "cell_type": "code",
   "execution_count": 359,
   "metadata": {},
   "outputs": [
    {
     "data": {
      "text/plain": [
       "chrome               620364\n",
       "safari               182245\n",
       "firefox               37069\n",
       "internet explorer     19375\n",
       "edge                  10205\n",
       "android webview        7865\n",
       "safari (in-app)        6850\n",
       "opera mini             6139\n",
       "opera                  5643\n",
       "others                 5463\n",
       "uc browser             2427\n",
       "(not set)                 8\n",
       "Name: device.browser, dtype: int64"
      ]
     },
     "execution_count": 359,
     "metadata": {},
     "output_type": "execute_result"
    }
   ],
   "source": [
    "train_df1['device.browser'].value_counts()"
   ]
  },
  {
   "cell_type": "code",
   "execution_count": 360,
   "metadata": {
    "scrolled": true
   },
   "outputs": [
    {
     "data": {
      "text/plain": [
       "Google Merchandise Collection                  5122\n",
       "Google Online Store                            1245\n",
       "Display Ad created 3/11/14                      967\n",
       "Full auto ad IMAGE ONLY                         822\n",
       "Ad from 12/13/16                                610\n",
       "Ad from 11/3/16                                 489\n",
       "Display Ad created 3/11/15                      392\n",
       "{KeyWord:Google Brand Items}                    251\n",
       "{KeyWord:Google Merchandise}                    155\n",
       "Ad from 11/7/16                                 123\n",
       "First Full Auto Template Test Ad                 87\n",
       "Google Merchandise                               87\n",
       "20% discount                                     75\n",
       "{KeyWord:Google Branded Gear}                    67\n",
       "{KeyWord:Looking for Google Bags?}               65\n",
       "Swag with Google Logos                           64\n",
       "Display Ad created 11/17/14                      50\n",
       "{KeyWord:Want Google Stickers?}                  42\n",
       "JD_5a_v1                                         41\n",
       "{KeyWord:Google Drinkware}                       32\n",
       "{KeyWord:Google Men's T-Shirts}                  30\n",
       "LeEco_1a                                         25\n",
       "{KeyWord:Google Branded Kit}                     16\n",
       "Full auto ad TEXT ONLY                           16\n",
       "{KeyWord:Google Branded Apparel}                 10\n",
       "Want Google Sunglasses                            8\n",
       "Full auto ad TEXT/NATIVE                          7\n",
       "Google Paraphernalia                              7\n",
       "{KeyWord:Google Branded Outerwear}                5\n",
       "{KeyWord:Want Google Pet Toys?}                   4\n",
       "Official Google Merchandise - Fast Shipping       4\n",
       "Google Store                                      4\n",
       "free shipping                                     3\n",
       "Ad from 2/17/17                                   3\n",
       "url_builder                                       3\n",
       "Full auto ad NATIVE ONLY                          3\n",
       "Full auto ad with Primary Color                   3\n",
       "Free Shipping!                                    2\n",
       "Google store                                      2\n",
       "google store                                      1\n",
       "GA Help Center                                    1\n",
       "Men's-Outerwear Google Apparel                    1\n",
       "visit us again                                    1\n",
       "Swag w/ Google Logos                              1\n",
       "Name: trafficSource.adContent, dtype: int64"
      ]
     },
     "execution_count": 360,
     "metadata": {},
     "output_type": "execute_result"
    }
   ],
   "source": [
    "train_df1['trafficSource.adContent'].value_counts()"
   ]
  },
  {
   "cell_type": "code",
   "execution_count": 361,
   "metadata": {},
   "outputs": [],
   "source": [
    "def adcontents_wrangling(x):\n",
    "    if  ('google' in x):\n",
    "        return 'google'\n",
    "    elif  ('placement' in x) | ('placememnt' in x):\n",
    "        return 'placement'\n",
    "    elif '(not set)' in x or 'nan' in x:\n",
    "        return x\n",
    "    elif 'ad' in x:\n",
    "        return 'ad'\n",
    "    else:\n",
    "        return 'others'"
   ]
  },
  {
   "cell_type": "code",
   "execution_count": 362,
   "metadata": {},
   "outputs": [],
   "source": [
    "train_df1['trafficSource.adContent'] = train_df1['trafficSource.adContent'].map(lambda x:adcontents_wrangling(str(x).lower())).astype('str')"
   ]
  },
  {
   "cell_type": "code",
   "execution_count": 363,
   "metadata": {},
   "outputs": [
    {
     "data": {
      "text/plain": [
       "nan       892707\n",
       "google      7223\n",
       "ad          3572\n",
       "others       151\n",
       "Name: trafficSource.adContent, dtype: int64"
      ]
     },
     "execution_count": 363,
     "metadata": {},
     "output_type": "execute_result"
    }
   ],
   "source": [
    "train_df1['trafficSource.adContent'].value_counts()"
   ]
  },
  {
   "cell_type": "code",
   "execution_count": 364,
   "metadata": {
    "scrolled": true
   },
   "outputs": [
    {
     "data": {
      "text/plain": [
       "google                                               400788\n",
       "youtube.com                                          212602\n",
       "(direct)                                             143028\n",
       "mall.googleplex.com                                   66416\n",
       "Partners                                              16411\n",
       "analytics.google.com                                  16172\n",
       "dfa                                                    5686\n",
       "google.com                                             4669\n",
       "m.facebook.com                                         3365\n",
       "baidu                                                  3356\n",
       "sites.google.com                                       2983\n",
       "facebook.com                                           2296\n",
       "siliconvalley.about.com                                2097\n",
       "reddit.com                                             2022\n",
       "qiita.com                                              1813\n",
       "quora.com                                              1546\n",
       "bing                                                   1530\n",
       "t.co                                                   1529\n",
       "yahoo                                                  1480\n",
       "mail.google.com                                        1457\n",
       "gdeals.googleplex.com                                  1063\n",
       "groups.google.com                                      1025\n",
       "l.facebook.com                                          795\n",
       "blog.golang.org                                         742\n",
       "dealspotr.com                                           528\n",
       "plus.google.com                                         524\n",
       "moma.corp.google.com                                    419\n",
       "docs.google.com                                         388\n",
       "productforums.google.com                                364\n",
       "google.co.jp                                            356\n",
       "                                                      ...  \n",
       "oscar.corp.google.com                                     1\n",
       "google.cz                                                 1\n",
       "meetup.com                                                1\n",
       "0.shared.bow.cat2.ads-bow.yw.borg.google.com:9851         1\n",
       "br.pinterest.com                                          1\n",
       "cse.google.com                                            1\n",
       "pinpoint.corp.google.com                                  1\n",
       "google.com.ar                                             1\n",
       "0.shared.bow.cat2.ads-bow.yw.borg.google.com:9801         1\n",
       "blackboard.towson.edu                                     1\n",
       "0.shared.bow.cat2.ads-bow.tg.borg.google.com:9864         1\n",
       "0.shared.bow.cat2.ads-bow.tl.borg.google.com:9847         1\n",
       "adwords-prod-west.qa.adz.google.com                       1\n",
       "int.search.mywebsearch.com                                1\n",
       "fr.yhs4.search.yahoo.com                                  1\n",
       "images.google.com.au                                      1\n",
       "tumblr.com                                                1\n",
       "cc.csusm.edu                                              1\n",
       "collaborate.northwestern.edu                              1\n",
       "0.shared.bow.cat2.ads-bow.yw.borg.google.com:9858         1\n",
       "0.shared.bow.cat2.ads-bow.vw.borg.google.com:9891         1\n",
       "google.lk                                                 1\n",
       "blackboard.neu.edu                                        1\n",
       "google.ro                                                 1\n",
       "newsstand.google.com                                      1\n",
       "0.shared.bow.cat2.ads-bow.yw.borg.google.com:9836         1\n",
       "0.shared.bow.cat2.ads-bow.lf.borg.google.com:9817         1\n",
       "gsuite.google.com                                         1\n",
       "0.shared.bow.cat2.ads-bow.qk.borg.google.com:9846         1\n",
       "s7-eu4.ixquick.com                                        1\n",
       "Name: trafficSource.source, Length: 380, dtype: int64"
      ]
     },
     "execution_count": 364,
     "metadata": {},
     "output_type": "execute_result"
    }
   ],
   "source": [
    "train_df1['trafficSource.source'].value_counts()"
   ]
  },
  {
   "cell_type": "code",
   "execution_count": 365,
   "metadata": {},
   "outputs": [],
   "source": [
    "def source_wrangling(x):\n",
    "    if  ('google' in x):\n",
    "        return 'google'\n",
    "    elif  ('youtube' in x):\n",
    "        return 'youtube'\n",
    "    elif 'yahoo' in x:\n",
    "        return 'yahoo'\n",
    "    elif 'facebook' in x:\n",
    "        return 'facebook'\n",
    "    elif 'reddit' in x:\n",
    "        return 'reddit'\n",
    "    elif 'bing' in x:\n",
    "        return 'bing'\n",
    "    elif 'quora' in x:\n",
    "        return 'quora'\n",
    "    elif 'outlook' in x:\n",
    "        return 'outlook'\n",
    "    elif 'linkedin' in x:\n",
    "        return 'linkedin'\n",
    "    elif 'twitter' in x:\n",
    "        return 'twitter'\n",
    "    elif '(not set)' in x or 'nan' in x:\n",
    "        return x\n",
    "    else:\n",
    "        return 'others'"
   ]
  },
  {
   "cell_type": "code",
   "execution_count": 366,
   "metadata": {},
   "outputs": [],
   "source": [
    "train_df1['trafficSource.source'] = train_df1['trafficSource.source'].map(lambda x:source_wrangling(str(x).lower())).astype('str')"
   ]
  },
  {
   "cell_type": "code",
   "execution_count": 367,
   "metadata": {
    "scrolled": false
   },
   "outputs": [
    {
     "data": {
      "text/plain": [
       "google       499205\n",
       "youtube      212697\n",
       "others       178156\n",
       "facebook       6523\n",
       "reddit         2106\n",
       "yahoo          1702\n",
       "quora          1546\n",
       "bing           1536\n",
       "outlook          85\n",
       "(not set)        69\n",
       "linkedin         23\n",
       "twitter           5\n",
       "Name: trafficSource.source, dtype: int64"
      ]
     },
     "execution_count": 367,
     "metadata": {},
     "output_type": "execute_result"
    }
   ],
   "source": [
    "train_df1['trafficSource.source'].value_counts()"
   ]
  },
  {
   "cell_type": "code",
   "execution_count": 368,
   "metadata": {
    "scrolled": true
   },
   "outputs": [
    {
     "data": {
      "text/plain": [
       "Windows          350072\n",
       "Macintosh        253938\n",
       "Android          123892\n",
       "iOS              107665\n",
       "Linux             35034\n",
       "Chrome OS         26337\n",
       "(not set)          4695\n",
       "Windows Phone      1216\n",
       "Samsung             280\n",
       "BlackBerry          218\n",
       "Nintendo Wii        100\n",
       "Firefox OS           89\n",
       "Xbox                 66\n",
       "Nintendo WiiU        35\n",
       "FreeBSD               9\n",
       "Nokia                 2\n",
       "OpenBSD               2\n",
       "Nintendo 3DS          1\n",
       "SunOS                 1\n",
       "NTT DoCoMo            1\n",
       "Name: device.operatingSystem, dtype: int64"
      ]
     },
     "execution_count": 368,
     "metadata": {},
     "output_type": "execute_result"
    }
   ],
   "source": [
    "train_df1['device.operatingSystem'].value_counts()"
   ]
  },
  {
   "cell_type": "code",
   "execution_count": 369,
   "metadata": {},
   "outputs": [],
   "source": [
    "def device_os_wrangling(x):\n",
    "    top_10_device_os = ['windows','macintosh','andorid','ios', 'linux','chrome os','windows phone']\n",
    "    #browsers = ['chrome','safari','firefox','internet explorer','edge','opera','coc coc','maxthon','iron']\n",
    "    #mobile_browsers = ['android','samsung','mini','iphone','in-app','playstation','mozilla','chrome','blackberry','nokia','browser','amazon','lunascape','netscape','konqueror','puffin']\n",
    "    \n",
    "    if x in top_10_device_os:\n",
    "        return x.lower()\n",
    "    \n",
    "    #elif x in mobile_browsers:\n",
    "     #   return 'mobile browser'\n",
    "    \n",
    "    elif '(not set)' in x:\n",
    "        return x\n",
    "    \n",
    "    else:\n",
    "        return 'others'"
   ]
  },
  {
   "cell_type": "code",
   "execution_count": 370,
   "metadata": {},
   "outputs": [],
   "source": [
    "train_df1['device.operatingSystem'] = train_df1['device.operatingSystem'].map(lambda x:device_os_wrangling(str(x).lower())).astype('str')"
   ]
  },
  {
   "cell_type": "code",
   "execution_count": 372,
   "metadata": {
    "scrolled": true
   },
   "outputs": [
    {
     "data": {
      "text/plain": [
       "Northern America      390657\n",
       "Southeast Asia         77800\n",
       "Southern Asia          59321\n",
       "Western Europe         59114\n",
       "Northern Europe        58168\n",
       "Eastern Asia           46919\n",
       "Eastern Europe         45249\n",
       "South America          41731\n",
       "Western Asia           38443\n",
       "Southern Europe        35780\n",
       "Central America        15583\n",
       "Australasia            14893\n",
       "Northern Africa         7683\n",
       "Western Africa          2573\n",
       "Caribbean               2406\n",
       "Southern Africa         2169\n",
       "Eastern Africa          1927\n",
       "(not set)               1468\n",
       "Central Asia            1215\n",
       "Middle Africa            393\n",
       "Melanesia                 81\n",
       "Micronesian Region        55\n",
       "Polynesia                 25\n",
       "Name: geoNetwork.subContinent, dtype: int64"
      ]
     },
     "execution_count": 372,
     "metadata": {},
     "output_type": "execute_result"
    }
   ],
   "source": [
    "train_df1['geoNetwork.subContinent'].value_counts()"
   ]
  },
  {
   "cell_type": "code",
   "execution_count": 373,
   "metadata": {
    "scrolled": true
   },
   "outputs": [
    {
     "data": {
      "text/plain": [
       "(not set)                 244881\n",
       "unknown.unknown           146034\n",
       "comcast.net                28743\n",
       "rr.com                     14827\n",
       "verizon.net                13637\n",
       "ttnet.com.tr               13228\n",
       "comcastbusiness.net         9985\n",
       "hinet.net                   7919\n",
       "virginm.net                 6414\n",
       "3bb.co.th                   6046\n",
       "prod-infinitum.com.mx       5960\n",
       "cox.net                     5812\n",
       "sbcglobal.net               5388\n",
       "btcentralplus.com           5304\n",
       "att.net                     5230\n",
       "google.com                  5035\n",
       "optonline.net               4972\n",
       "totbb.net                   4895\n",
       "vnpt.vn                     4508\n",
       "asianet.co.th               4374\n",
       "pldt.net                    4008\n",
       "rima-tde.net                3963\n",
       "amazonaws.com               3769\n",
       "t-ipconnect.de              3656\n",
       "telecomitalia.it            3571\n",
       "qwest.net                   3534\n",
       "airtelbroadband.in          3389\n",
       "virtua.com.br               3318\n",
       "bell.ca                     2904\n",
       "ztomy.com                   2845\n",
       "                           ...  \n",
       "centralmediacsoport.hu         1\n",
       "imp.com.pe                     1\n",
       "procor.com                     1\n",
       "rijksmuseum.nl                 1\n",
       "fdlconsultinc.local            1\n",
       "atlashyd.com                   1\n",
       "integraonline.net              1\n",
       "npoit.ru                       1\n",
       "lptelecom.com.br               1\n",
       "stimtrax.com                   1\n",
       "rktlaw.com                     1\n",
       "netiq.sk                       1\n",
       "virgo.hu                       1\n",
       "engineering-bp.com             1\n",
       "21cn.com                       1\n",
       "csiro.au                       1\n",
       "usm.cl                         1\n",
       "ac.cd                          1\n",
       "gearsoftware.com               1\n",
       "modempool.com                  1\n",
       "greenwoodsasset.com            1\n",
       "atlantishgi.com                1\n",
       "kharkovnet.net                 1\n",
       "lappari.com                    1\n",
       "nexiu.net                      1\n",
       "lemap.ie                       1\n",
       "maribor.si                     1\n",
       "medcomgroup.com                1\n",
       "laac.cz                        1\n",
       "rdnet.pl                       1\n",
       "Name: geoNetwork.networkDomain, Length: 28064, dtype: int64"
      ]
     },
     "execution_count": 373,
     "metadata": {},
     "output_type": "execute_result"
    }
   ],
   "source": [
    "train_df1['geoNetwork.networkDomain'].value_counts()"
   ]
  },
  {
   "cell_type": "code",
   "execution_count": null,
   "metadata": {},
   "outputs": [],
   "source": []
  },
  {
   "cell_type": "code",
   "execution_count": 217,
   "metadata": {},
   "outputs": [
    {
     "name": "stdout",
     "output_type": "stream",
     "text": [
      "process device ...\n"
     ]
    }
   ],
   "source": [
    "def process_device(data_df):\n",
    "    print(\"process device ...\")\n",
    "    data_df['source.country'] = data_df['trafficSource.source'] + '_' + data_df['geoNetwork.country']\n",
    "    data_df['campaign.medium'] = data_df['trafficSource.campaign'] + '_' + data_df['trafficSource.medium']\n",
    "    data_df['browser.category'] = data_df['device.browser'] + '_' + data_df['device.deviceCategory']\n",
    "    data_df['browser.os'] = data_df['device.browser'] + '_' + data_df['device.operatingSystem']\n",
    "    return data_df\n",
    "train_df1 = process_device(train_df1)"
   ]
  },
  {
   "cell_type": "code",
   "execution_count": 218,
   "metadata": {},
   "outputs": [
    {
     "name": "stdout",
     "output_type": "stream",
     "text": [
      "custom..\n"
     ]
    }
   ],
   "source": [
    "def custom(data):\n",
    "    print('custom..')\n",
    "    data['device_deviceCategory_channelGrouping'] = data['device.deviceCategory'] + \"_\" + data['channelGrouping']\n",
    "    data['channelGrouping_browser'] = data['device.browser'] + \"_\" + data['channelGrouping']\n",
    "    data['channelGrouping_OS'] = data['device.operatingSystem'] + \"_\" + data['channelGrouping']\n",
    "    \n",
    "    for i in ['geoNetwork.city', 'geoNetwork.continent', 'geoNetwork.country','geoNetwork.metro', 'geoNetwork.networkDomain', 'geoNetwork.region','geoNetwork.subContinent']:\n",
    "        for j in ['device.browser','device.deviceCategory', 'device.operatingSystem', 'trafficSource.source']:\n",
    "            data[i + \"_\" + j] = data[i] + \"_\" + data[j]\n",
    "    \n",
    "    data['content.source'] = data['trafficSource.adContent'] + \"_\" + data['source.country']\n",
    "    data['medium.source'] = data['trafficSource.medium'] + \"_\" + data['source.country']\n",
    "    return data\n",
    "\n",
    "train_df1 = custom(train_df1)"
   ]
  },
  {
   "cell_type": "code",
   "execution_count": 337,
   "metadata": {},
   "outputs": [],
   "source": [
    "excluded_features = [\n",
    "    'date', 'fullVisitorId', 'sessionId', 'totals.transactionRevenue', \n",
    "    'visitId', 'visitStartTime', 'vis_date', 'nb_sessions', 'max_visits'\n",
    "]\n",
    "\n",
    "categorical_features = [\n",
    "    _f for _f in train_df1.columns\n",
    "    if (_f not in excluded_features) & (train_df1[_f].dtype == 'object')\n",
    "]"
   ]
  },
  {
   "cell_type": "code",
   "execution_count": 338,
   "metadata": {},
   "outputs": [],
   "source": [
    "for f in categorical_features:\n",
    "    train_df1[f], indexer = pd.factorize(train_df1[f])"
   ]
  },
  {
   "cell_type": "code",
   "execution_count": 339,
   "metadata": {},
   "outputs": [],
   "source": [
    "req_features = [_f for _f in train_df1.columns if _f not in excluded_features]"
   ]
  },
  {
   "cell_type": "code",
   "execution_count": 340,
   "metadata": {},
   "outputs": [],
   "source": [
    "train_df2 = train_df1[req_features + ['fullVisitorId']].groupby('fullVisitorId').mean()"
   ]
  },
  {
   "cell_type": "code",
   "execution_count": 341,
   "metadata": {},
   "outputs": [
    {
     "data": {
      "text/plain": [
       "0    713689\n",
       "1     10114\n",
       "Name: Revenue_Generating_Flag, dtype: int64"
      ]
     },
     "execution_count": 341,
     "metadata": {},
     "output_type": "execute_result"
    }
   ],
   "source": [
    "train_df2['Revenue_Generating_Flag'].value_counts()"
   ]
  },
  {
   "cell_type": "code",
   "execution_count": 342,
   "metadata": {},
   "outputs": [
    {
     "data": {
      "text/html": [
       "<div>\n",
       "<style scoped>\n",
       "    .dataframe tbody tr th:only-of-type {\n",
       "        vertical-align: middle;\n",
       "    }\n",
       "\n",
       "    .dataframe tbody tr th {\n",
       "        vertical-align: top;\n",
       "    }\n",
       "\n",
       "    .dataframe thead th {\n",
       "        text-align: right;\n",
       "    }\n",
       "</style>\n",
       "<table border=\"1\" class=\"dataframe\">\n",
       "  <thead>\n",
       "    <tr style=\"text-align: right;\">\n",
       "      <th></th>\n",
       "      <th>channelGrouping</th>\n",
       "      <th>visitNumber</th>\n",
       "      <th>device.browser</th>\n",
       "      <th>device.deviceCategory</th>\n",
       "      <th>device.isMobile</th>\n",
       "      <th>device.operatingSystem</th>\n",
       "      <th>geoNetwork.city</th>\n",
       "      <th>geoNetwork.continent</th>\n",
       "      <th>geoNetwork.country</th>\n",
       "      <th>geoNetwork.metro</th>\n",
       "      <th>...</th>\n",
       "      <th>trafficSource.keyword</th>\n",
       "      <th>trafficSource.medium</th>\n",
       "      <th>trafficSource.referralPath</th>\n",
       "      <th>trafficSource.source</th>\n",
       "      <th>sess_date_dow</th>\n",
       "      <th>sess_date_hours</th>\n",
       "      <th>sess_date_dom</th>\n",
       "      <th>next_session_1</th>\n",
       "      <th>next_session_2</th>\n",
       "      <th>Revenue_Generating_Flag</th>\n",
       "    </tr>\n",
       "    <tr>\n",
       "      <th>fullVisitorId</th>\n",
       "      <th></th>\n",
       "      <th></th>\n",
       "      <th></th>\n",
       "      <th></th>\n",
       "      <th></th>\n",
       "      <th></th>\n",
       "      <th></th>\n",
       "      <th></th>\n",
       "      <th></th>\n",
       "      <th></th>\n",
       "      <th></th>\n",
       "      <th></th>\n",
       "      <th></th>\n",
       "      <th></th>\n",
       "      <th></th>\n",
       "      <th></th>\n",
       "      <th></th>\n",
       "      <th></th>\n",
       "      <th></th>\n",
       "      <th></th>\n",
       "      <th></th>\n",
       "    </tr>\n",
       "  </thead>\n",
       "  <tbody>\n",
       "    <tr>\n",
       "      <th>4823595352351</th>\n",
       "      <td>0.0</td>\n",
       "      <td>1.0</td>\n",
       "      <td>0.0</td>\n",
       "      <td>0.0</td>\n",
       "      <td>0.0</td>\n",
       "      <td>0.0</td>\n",
       "      <td>0.0</td>\n",
       "      <td>0.0</td>\n",
       "      <td>0.0</td>\n",
       "      <td>0.0</td>\n",
       "      <td>...</td>\n",
       "      <td>-1.0</td>\n",
       "      <td>0.0</td>\n",
       "      <td>-1.0</td>\n",
       "      <td>0.0</td>\n",
       "      <td>1.0</td>\n",
       "      <td>14.0</td>\n",
       "      <td>1.0</td>\n",
       "      <td>-2562048.0</td>\n",
       "      <td>-2562048.0</td>\n",
       "      <td>0</td>\n",
       "    </tr>\n",
       "    <tr>\n",
       "      <th>5103959234087</th>\n",
       "      <td>0.0</td>\n",
       "      <td>1.0</td>\n",
       "      <td>0.0</td>\n",
       "      <td>1.0</td>\n",
       "      <td>1.0</td>\n",
       "      <td>1.0</td>\n",
       "      <td>0.0</td>\n",
       "      <td>1.0</td>\n",
       "      <td>1.0</td>\n",
       "      <td>0.0</td>\n",
       "      <td>...</td>\n",
       "      <td>0.0</td>\n",
       "      <td>0.0</td>\n",
       "      <td>-1.0</td>\n",
       "      <td>1.0</td>\n",
       "      <td>6.0</td>\n",
       "      <td>22.0</td>\n",
       "      <td>21.0</td>\n",
       "      <td>-2562048.0</td>\n",
       "      <td>-2562048.0</td>\n",
       "      <td>0</td>\n",
       "    </tr>\n",
       "    <tr>\n",
       "      <th>10278554503158</th>\n",
       "      <td>0.0</td>\n",
       "      <td>1.0</td>\n",
       "      <td>0.0</td>\n",
       "      <td>0.0</td>\n",
       "      <td>0.0</td>\n",
       "      <td>2.0</td>\n",
       "      <td>0.0</td>\n",
       "      <td>2.0</td>\n",
       "      <td>2.0</td>\n",
       "      <td>0.0</td>\n",
       "      <td>...</td>\n",
       "      <td>0.0</td>\n",
       "      <td>0.0</td>\n",
       "      <td>-1.0</td>\n",
       "      <td>1.0</td>\n",
       "      <td>4.0</td>\n",
       "      <td>5.0</td>\n",
       "      <td>21.0</td>\n",
       "      <td>-2562048.0</td>\n",
       "      <td>-2562048.0</td>\n",
       "      <td>0</td>\n",
       "    </tr>\n",
       "    <tr>\n",
       "      <th>20424342248747</th>\n",
       "      <td>0.0</td>\n",
       "      <td>1.0</td>\n",
       "      <td>0.0</td>\n",
       "      <td>0.0</td>\n",
       "      <td>0.0</td>\n",
       "      <td>0.0</td>\n",
       "      <td>1.0</td>\n",
       "      <td>1.0</td>\n",
       "      <td>3.0</td>\n",
       "      <td>1.0</td>\n",
       "      <td>...</td>\n",
       "      <td>0.0</td>\n",
       "      <td>0.0</td>\n",
       "      <td>-1.0</td>\n",
       "      <td>1.0</td>\n",
       "      <td>3.0</td>\n",
       "      <td>7.0</td>\n",
       "      <td>1.0</td>\n",
       "      <td>-2562048.0</td>\n",
       "      <td>-2562048.0</td>\n",
       "      <td>0</td>\n",
       "    </tr>\n",
       "    <tr>\n",
       "      <th>26722803385797</th>\n",
       "      <td>0.0</td>\n",
       "      <td>1.0</td>\n",
       "      <td>1.0</td>\n",
       "      <td>0.0</td>\n",
       "      <td>0.0</td>\n",
       "      <td>2.0</td>\n",
       "      <td>0.0</td>\n",
       "      <td>3.0</td>\n",
       "      <td>4.0</td>\n",
       "      <td>0.0</td>\n",
       "      <td>...</td>\n",
       "      <td>0.0</td>\n",
       "      <td>0.0</td>\n",
       "      <td>-1.0</td>\n",
       "      <td>1.0</td>\n",
       "      <td>0.0</td>\n",
       "      <td>10.0</td>\n",
       "      <td>5.0</td>\n",
       "      <td>-2562048.0</td>\n",
       "      <td>-2562048.0</td>\n",
       "      <td>0</td>\n",
       "    </tr>\n",
       "  </tbody>\n",
       "</table>\n",
       "<p>5 rows × 37 columns</p>\n",
       "</div>"
      ],
      "text/plain": [
       "                channelGrouping  visitNumber  device.browser  \\\n",
       "fullVisitorId                                                  \n",
       "4823595352351               0.0          1.0             0.0   \n",
       "5103959234087               0.0          1.0             0.0   \n",
       "10278554503158              0.0          1.0             0.0   \n",
       "20424342248747              0.0          1.0             0.0   \n",
       "26722803385797              0.0          1.0             1.0   \n",
       "\n",
       "                device.deviceCategory  device.isMobile  \\\n",
       "fullVisitorId                                            \n",
       "4823595352351                     0.0              0.0   \n",
       "5103959234087                     1.0              1.0   \n",
       "10278554503158                    0.0              0.0   \n",
       "20424342248747                    0.0              0.0   \n",
       "26722803385797                    0.0              0.0   \n",
       "\n",
       "                device.operatingSystem  geoNetwork.city  geoNetwork.continent  \\\n",
       "fullVisitorId                                                                   \n",
       "4823595352351                      0.0              0.0                   0.0   \n",
       "5103959234087                      1.0              0.0                   1.0   \n",
       "10278554503158                     2.0              0.0                   2.0   \n",
       "20424342248747                     0.0              1.0                   1.0   \n",
       "26722803385797                     2.0              0.0                   3.0   \n",
       "\n",
       "                geoNetwork.country  geoNetwork.metro           ...             \\\n",
       "fullVisitorId                                                  ...              \n",
       "4823595352351                  0.0               0.0           ...              \n",
       "5103959234087                  1.0               0.0           ...              \n",
       "10278554503158                 2.0               0.0           ...              \n",
       "20424342248747                 3.0               1.0           ...              \n",
       "26722803385797                 4.0               0.0           ...              \n",
       "\n",
       "                trafficSource.keyword  trafficSource.medium  \\\n",
       "fullVisitorId                                                 \n",
       "4823595352351                    -1.0                   0.0   \n",
       "5103959234087                     0.0                   0.0   \n",
       "10278554503158                    0.0                   0.0   \n",
       "20424342248747                    0.0                   0.0   \n",
       "26722803385797                    0.0                   0.0   \n",
       "\n",
       "                trafficSource.referralPath  trafficSource.source  \\\n",
       "fullVisitorId                                                      \n",
       "4823595352351                         -1.0                   0.0   \n",
       "5103959234087                         -1.0                   1.0   \n",
       "10278554503158                        -1.0                   1.0   \n",
       "20424342248747                        -1.0                   1.0   \n",
       "26722803385797                        -1.0                   1.0   \n",
       "\n",
       "                sess_date_dow  sess_date_hours  sess_date_dom  next_session_1  \\\n",
       "fullVisitorId                                                                   \n",
       "4823595352351             1.0             14.0            1.0      -2562048.0   \n",
       "5103959234087             6.0             22.0           21.0      -2562048.0   \n",
       "10278554503158            4.0              5.0           21.0      -2562048.0   \n",
       "20424342248747            3.0              7.0            1.0      -2562048.0   \n",
       "26722803385797            0.0             10.0            5.0      -2562048.0   \n",
       "\n",
       "                next_session_2  Revenue_Generating_Flag  \n",
       "fullVisitorId                                            \n",
       "4823595352351       -2562048.0                        0  \n",
       "5103959234087       -2562048.0                        0  \n",
       "10278554503158      -2562048.0                        0  \n",
       "20424342248747      -2562048.0                        0  \n",
       "26722803385797      -2562048.0                        0  \n",
       "\n",
       "[5 rows x 37 columns]"
      ]
     },
     "execution_count": 342,
     "metadata": {},
     "output_type": "execute_result"
    }
   ],
   "source": [
    "train_df2.head()"
   ]
  },
  {
   "cell_type": "code",
   "execution_count": 343,
   "metadata": {
    "scrolled": false
   },
   "outputs": [
    {
     "data": {
      "text/plain": [
       "Index(['channelGrouping', 'visitNumber', 'device.browser',\n",
       "       'device.deviceCategory', 'device.isMobile', 'device.operatingSystem',\n",
       "       'geoNetwork.city', 'geoNetwork.continent', 'geoNetwork.country',\n",
       "       'geoNetwork.metro', 'geoNetwork.networkDomain', 'geoNetwork.region',\n",
       "       'geoNetwork.subContinent', 'totals.bounces', 'totals.hits',\n",
       "       'totals.newVisits', 'totals.pageviews', 'totals.visits',\n",
       "       'trafficSource.adContent',\n",
       "       'trafficSource.adwordsClickInfo.adNetworkType',\n",
       "       'trafficSource.adwordsClickInfo.gclId',\n",
       "       'trafficSource.adwordsClickInfo.isVideoAd',\n",
       "       'trafficSource.adwordsClickInfo.page',\n",
       "       'trafficSource.adwordsClickInfo.slot', 'trafficSource.campaign',\n",
       "       'trafficSource.campaignCode', 'trafficSource.isTrueDirect',\n",
       "       'trafficSource.keyword', 'trafficSource.medium',\n",
       "       'trafficSource.referralPath', 'trafficSource.source', 'sess_date_dow',\n",
       "       'sess_date_hours', 'sess_date_dom', 'next_session_1', 'next_session_2',\n",
       "       'Revenue_Generating_Flag'],\n",
       "      dtype='object')"
      ]
     },
     "execution_count": 343,
     "metadata": {},
     "output_type": "execute_result"
    }
   ],
   "source": [
    "train_df2.columns"
   ]
  },
  {
   "cell_type": "code",
   "execution_count": 344,
   "metadata": {},
   "outputs": [],
   "source": [
    "import xgboost as xgb"
   ]
  },
  {
   "cell_type": "code",
   "execution_count": 345,
   "metadata": {},
   "outputs": [],
   "source": [
    "y = train_df2['Revenue_Generating_Flag']\n",
    "X = train_df2.loc[:, train_df2.columns != 'Revenue_Generating_Flag']"
   ]
  },
  {
   "cell_type": "code",
   "execution_count": 346,
   "metadata": {},
   "outputs": [],
   "source": [
    "del train_df2['Revenue_Generating_Flag']\n",
    "train_df2 = train_df2.reset_index()"
   ]
  },
  {
   "cell_type": "code",
   "execution_count": 347,
   "metadata": {},
   "outputs": [],
   "source": [
    "from sklearn.model_selection import train_test_split\n",
    "train, test, y_train, y_test = train_test_split(X, y,\n",
    "                                                stratify=y, \n",
    "                                                test_size=0.3,random_state=20)"
   ]
  },
  {
   "cell_type": "code",
   "execution_count": 348,
   "metadata": {},
   "outputs": [
    {
     "name": "stdout",
     "output_type": "stream",
     "text": [
      "0    214107\n",
      "1      3034\n",
      "Name: Revenue_Generating_Flag, dtype: int64\n"
     ]
    },
    {
     "data": {
      "text/plain": [
       "0    499582\n",
       "1      7080\n",
       "Name: Revenue_Generating_Flag, dtype: int64"
      ]
     },
     "execution_count": 348,
     "metadata": {},
     "output_type": "execute_result"
    }
   ],
   "source": [
    "print(y_test.value_counts())\n",
    "y_train.value_counts()"
   ]
  },
  {
   "cell_type": "code",
   "execution_count": 349,
   "metadata": {},
   "outputs": [
    {
     "data": {
      "text/plain": [
       "0.013972487922594075"
      ]
     },
     "execution_count": 349,
     "metadata": {},
     "output_type": "execute_result"
    }
   ],
   "source": [
    "3034/(3034+214107)"
   ]
  },
  {
   "cell_type": "code",
   "execution_count": 350,
   "metadata": {},
   "outputs": [
    {
     "data": {
      "text/plain": [
       "0.013973812916697918"
      ]
     },
     "execution_count": 350,
     "metadata": {},
     "output_type": "execute_result"
    }
   ],
   "source": [
    "7080/(7080+499582)"
   ]
  },
  {
   "cell_type": "code",
   "execution_count": 351,
   "metadata": {},
   "outputs": [
    {
     "name": "stderr",
     "output_type": "stream",
     "text": [
      "C:\\Users\\prash\\Anaconda3\\lib\\site-packages\\pandas\\core\\generic.py:4355: SettingWithCopyWarning: \n",
      "A value is trying to be set on a copy of a slice from a DataFrame\n",
      "\n",
      "See the caveats in the documentation: http://pandas.pydata.org/pandas-docs/stable/indexing.html#indexing-view-versus-copy\n",
      "  self._update_inplace(new_data)\n"
     ]
    },
    {
     "name": "stdout",
     "output_type": "stream",
     "text": [
      "Validation AUC-ROC value for Fold 1 is 0.8307600138656243\n",
      "Validation AUC-ROC value for Fold 2 is 0.8551881555108419\n",
      "Validation AUC-ROC value for Fold 3 is 0.8453363266541853\n",
      "Validation AUC-ROC value for Fold 4 is 0.8408078014816104\n",
      "Validation AUC-ROC value for Fold 5 is 0.8250055781656204\n",
      "Test AUC-ROC value is 0.8411804869563567\n"
     ]
    }
   ],
   "source": [
    "from sklearn.metrics import roc_auc_score\n",
    "from sklearn.linear_model import LogisticRegression\n",
    "from sklearn.cross_validation import KFold\n",
    "\n",
    "acc_table = pd.DataFrame(columns = ['Test Values','Fold1','Fold2','Fold3','Fold4','Fold5'])\n",
    "acc_table['Test Values'] = y_test\n",
    "\n",
    "train_features = [_f for _f in train.columns if _f not in excluded_features]\n",
    "importances = pd.DataFrame()\n",
    "oof_reg_preds = np.zeros(train.shape[0])\n",
    "\n",
    "alg=LogisticRegression()\n",
    "kf=KFold(train.shape[0],n_folds=5,random_state=1)\n",
    "listfold=list(kf)\n",
    "test_preds = np.zeros(test.shape[0])\n",
    "test.fillna(test.median(),inplace=True)\n",
    "\n",
    "sub_reg_preds = np.zeros(test.shape[0])\n",
    "i =1\n",
    "for a,b in kf:\n",
    "    trn_x, trn_y = train[train_features].iloc[a], y_train.iloc[a]\n",
    "    val_x, val_y = train[train_features].iloc[b], y_train.iloc[b]\n",
    "    #print(trn_x.head())\n",
    "    trn_x.fillna(trn_x.median(),inplace=True)\n",
    "    val_x.fillna(val_x.median(),inplace=True)\n",
    "    lr = LogisticRegression(random_state = 0)\n",
    "    lr.fit(trn_x,trn_y)\n",
    "    oof_reg_preds = lr.predict_proba(val_x)[:,1]\n",
    "    print(\"Validation AUC-ROC value for Fold {} is {}\".format(i,roc_auc_score(val_y, oof_reg_preds)))\n",
    "    \n",
    "    _preds = lr.predict_proba(test[train_features])[:,1]\n",
    "    acc_table.iloc[:,i] = _preds\n",
    "    i+=1\n",
    "    #sub_reg_preds += _preds# / len(folds)\n",
    "    #sub_reg_preds = np.add(sub_reg_preds,_preds)\n",
    "    \n",
    "        \n",
    "acc_table['Fold_avg'] = (acc_table['Fold1'] + acc_table['Fold2'] +acc_table['Fold3'] + acc_table['Fold4'] + acc_table['Fold5'])/5.0   \n",
    "print(\"Test AUC-ROC value is {}\".format(roc_auc_score(acc_table['Test Values'], acc_table['Fold_avg'])))"
   ]
  },
  {
   "cell_type": "code",
   "execution_count": 267,
   "metadata": {},
   "outputs": [
    {
     "name": "stderr",
     "output_type": "stream",
     "text": [
      "C:\\Users\\prash\\Anaconda3\\lib\\site-packages\\pandas\\core\\generic.py:4355: SettingWithCopyWarning: \n",
      "A value is trying to be set on a copy of a slice from a DataFrame\n",
      "\n",
      "See the caveats in the documentation: http://pandas.pydata.org/pandas-docs/stable/indexing.html#indexing-view-versus-copy\n",
      "  self._update_inplace(new_data)\n"
     ]
    },
    {
     "name": "stdout",
     "output_type": "stream",
     "text": [
      "Validation AUC-ROC value for 1th fold is 0.8307617348664742\n",
      "Validation AUC-ROC value for 2th fold is 0.8551904599880101\n",
      "Validation AUC-ROC value for 3th fold is 0.8453378636238147\n",
      "Validation AUC-ROC value for 4th fold is 0.8408097555115037\n",
      "Validation AUC-ROC value for 5th fold is 0.8250071948214829\n",
      "Test AUC-ROC value is 0.8411791445931431\n"
     ]
    }
   ],
   "source": [
    "from sklearn.metrics import roc_auc_score\n",
    "from sklearn.linear_model import LogisticRegression\n",
    "from sklearn.cross_validation import KFold\n",
    "\n",
    "acc_table = pd.DataFrame(columns = ['Test Values','Fold1','Fold2','Fold3','Fold4','Fold5'])\n",
    "acc_table['Test Values'] = y_test\n",
    "\n",
    "train_features = [_f for _f in train.columns if _f not in excluded_features]\n",
    "importances = pd.DataFrame()\n",
    "oof_reg_preds = np.zeros(train.shape[0])\n",
    "\n",
    "alg=LogisticRegression()\n",
    "kf=KFold(train.shape[0],n_folds=5,random_state=1)\n",
    "listfold=list(kf)\n",
    "test_preds = np.zeros(test.shape[0])\n",
    "test.fillna(test.median(),inplace=True)\n",
    "\n",
    "sub_reg_preds = np.zeros(test.shape[0])\n",
    "i =1\n",
    "for a,b in kf:\n",
    "    trn_x, trn_y = train[train_features].iloc[a], y_train.iloc[a]\n",
    "    val_x, val_y = train[train_features].iloc[b], y_train.iloc[b]\n",
    "    #print(trn_x.head())\n",
    "    trn_x.fillna(trn_x.median(),inplace=True)\n",
    "    val_x.fillna(val_x.median(),inplace=True)\n",
    "    lr = LogisticRegression(random_state = 0)\n",
    "    lr.fit(trn_x,trn_y)\n",
    "    oof_reg_preds = lr.predict_proba(val_x)[:,1]\n",
    "    print(\"Validation AUC-ROC value for Fold {} is {}\".format(i,roc_auc_score(val_y, oof_reg_preds)))\n",
    "    \n",
    "    _preds = lr.predict_proba(test[train_features])[:,1]\n",
    "    acc_table.iloc[:,i] = _preds\n",
    "    i+=1\n",
    "    #sub_reg_preds += _preds# / len(folds)\n",
    "    #sub_reg_preds = np.add(sub_reg_preds,_preds)\n",
    "    \n",
    "        \n",
    "acc_table['Fold_avg'] = (acc_table['Fold1'] + acc_table['Fold2'] +acc_table['Fold3'] + acc_table['Fold4'] + acc_table['Fold5'])/5.0   \n",
    "print(\"Test AUC-ROC value is {}\".format(roc_auc_score(acc_table['Test Values'], acc_table['Fold_avg'])))"
   ]
  },
  {
   "cell_type": "code",
   "execution_count": 233,
   "metadata": {},
   "outputs": [
    {
     "name": "stderr",
     "output_type": "stream",
     "text": [
      "C:\\Users\\prash\\Anaconda3\\lib\\site-packages\\pandas\\core\\generic.py:4355: SettingWithCopyWarning: \n",
      "A value is trying to be set on a copy of a slice from a DataFrame\n",
      "\n",
      "See the caveats in the documentation: http://pandas.pydata.org/pandas-docs/stable/indexing.html#indexing-view-versus-copy\n",
      "  self._update_inplace(new_data)\n"
     ]
    },
    {
     "name": "stdout",
     "output_type": "stream",
     "text": [
      "Validation AUC-ROC value for 1th fold is 0.8924213653904445\n",
      "Validation AUC-ROC value for 2th fold is 0.8719906390999418\n",
      "Validation AUC-ROC value for 3th fold is 0.8791952963509442\n",
      "Validation AUC-ROC value for 4th fold is 0.8561814113067212\n",
      "Validation AUC-ROC value for 5th fold is 0.8698740833139522\n",
      "Test AUC-ROC value is 0.8873022935670207\n"
     ]
    }
   ],
   "source": [
    "from sklearn.metrics import roc_auc_score\n",
    "from sklearn.linear_model import LogisticRegression\n",
    "from sklearn.cross_validation import KFold\n",
    "\n",
    "acc_table = pd.DataFrame(columns = ['Test Values','Fold1','Fold2','Fold3','Fold4','Fold5'])\n",
    "acc_table['Test Values'] = y_test\n",
    "\n",
    "train_features = [_f for _f in train.columns if _f not in excluded_features]\n",
    "importances = pd.DataFrame()\n",
    "oof_reg_preds = np.zeros(train.shape[0])\n",
    "\n",
    "alg=LogisticRegression()\n",
    "kf=KFold(train.shape[0],n_folds=5,random_state=1)\n",
    "listfold=list(kf)\n",
    "test_preds = np.zeros(test.shape[0])\n",
    "test.fillna(test.median(),inplace=True)\n",
    "\n",
    "sub_reg_preds = np.zeros(test.shape[0])\n",
    "i =1\n",
    "for a,b in kf:\n",
    "    trn_x, trn_y = train[train_features].iloc[a], y_train.iloc[a]\n",
    "    val_x, val_y = train[train_features].iloc[b], y_train.iloc[b]\n",
    "    #print(trn_x.head())\n",
    "    trn_x.fillna(trn_x.median(),inplace=True)\n",
    "    val_x.fillna(val_x.median(),inplace=True)\n",
    "    lr = LogisticRegression(random_state = 0)\n",
    "    lr.fit(trn_x,trn_y)\n",
    "    oof_reg_preds = lr.predict_proba(val_x)[:,1]\n",
    "    print(\"Validation AUC-ROC value for {}th fold is {}\".format(i,roc_auc_score(val_y, oof_reg_preds)))\n",
    "    \n",
    "    _preds = lr.predict_proba(test[train_features])[:,1]\n",
    "    acc_table.iloc[:,i] = _preds\n",
    "    i+=1\n",
    "    #sub_reg_preds += _preds# / len(folds)\n",
    "    #sub_reg_preds = np.add(sub_reg_preds,_preds)\n",
    "    \n",
    "        \n",
    "acc_table['Fold_avg'] = (acc_table['Fold1'] + acc_table['Fold2'] +acc_table['Fold3'] + acc_table['Fold4'] + acc_table['Fold5'])/5.0   \n",
    "print(\"Test AUC-ROC value is {}\".format(roc_auc_score(acc_table['Test Values'], acc_table['Fold_avg'])))"
   ]
  },
  {
   "cell_type": "code",
   "execution_count": 239,
   "metadata": {},
   "outputs": [],
   "source": [
    "from sklearn.model_selection import train_test_split\n",
    "train, test, y_train, y_test = train_test_split(X, y,\n",
    "                                                stratify=y, \n",
    "                                                test_size=0.3,random_state=20)"
   ]
  },
  {
   "cell_type": "code",
   "execution_count": 240,
   "metadata": {
    "scrolled": false
   },
   "outputs": [
    {
     "name": "stdout",
     "output_type": "stream",
     "text": [
      "[0]\tvalidation_0-auc:0.958934\n",
      "Will train until validation_0-auc hasn't improved in 20 rounds.\n",
      "[100]\tvalidation_0-auc:0.985894\n",
      "[200]\tvalidation_0-auc:0.987622\n",
      "Stopping. Best iteration:\n",
      "[272]\tvalidation_0-auc:0.987965\n",
      "\n",
      "Validation AUC-ROC value for Fold 1 is 0.9879648506171969\n",
      "[0]\tvalidation_0-auc:0.961043\n",
      "Will train until validation_0-auc hasn't improved in 20 rounds.\n",
      "[100]\tvalidation_0-auc:0.98622\n",
      "[200]\tvalidation_0-auc:0.987888\n",
      "[300]\tvalidation_0-auc:0.988439\n",
      "[400]\tvalidation_0-auc:0.988788\n",
      "[499]\tvalidation_0-auc:0.989029\n",
      "Validation AUC-ROC value for Fold 2 is 0.9890291559179522\n",
      "[0]\tvalidation_0-auc:0.89674\n",
      "Will train until validation_0-auc hasn't improved in 20 rounds.\n",
      "[100]\tvalidation_0-auc:0.98702\n",
      "[200]\tvalidation_0-auc:0.988534\n",
      "[300]\tvalidation_0-auc:0.989141\n",
      "[400]\tvalidation_0-auc:0.989519\n",
      "[499]\tvalidation_0-auc:0.989794\n",
      "Validation AUC-ROC value for Fold 3 is 0.9897944491616846\n",
      "[0]\tvalidation_0-auc:0.902767\n",
      "Will train until validation_0-auc hasn't improved in 20 rounds.\n",
      "[100]\tvalidation_0-auc:0.986388\n",
      "[200]\tvalidation_0-auc:0.987712\n",
      "[300]\tvalidation_0-auc:0.988245\n",
      "[400]\tvalidation_0-auc:0.988633\n",
      "[499]\tvalidation_0-auc:0.988881\n",
      "Validation AUC-ROC value for Fold 4 is 0.9888804927745775\n",
      "[0]\tvalidation_0-auc:0.889629\n",
      "Will train until validation_0-auc hasn't improved in 20 rounds.\n",
      "[100]\tvalidation_0-auc:0.985843\n",
      "[200]\tvalidation_0-auc:0.987838\n",
      "[300]\tvalidation_0-auc:0.988355\n",
      "[400]\tvalidation_0-auc:0.988689\n",
      "[499]\tvalidation_0-auc:0.988908\n",
      "Validation AUC-ROC value for Fold 5 is 0.9889075653252678\n",
      "Test AUC-ROC value is 0.988701260327272\n"
     ]
    }
   ],
   "source": [
    "import xgboost as xgb\n",
    "from sklearn.cross_validation import KFold\n",
    "\n",
    "train_features = [_f for _f in train.columns if _f not in excluded_features]\n",
    "importances = pd.DataFrame()\n",
    "oof_reg_preds = np.zeros(train.shape[0])\n",
    "sub_reg_preds = np.zeros(test.shape[0])\n",
    "\n",
    "acc_table = pd.DataFrame(columns = ['Test Values','Fold1','Fold2','Fold3','Fold4','Fold5'])\n",
    "acc_table['Test Values'] = y_test\n",
    "\n",
    "i =1\n",
    "for a,b in kf:\n",
    "    trn_x, trn_y = train[train_features].iloc[a], y_train.iloc[a]\n",
    "    val_x, val_y = train[train_features].iloc[b], y_train.iloc[b]\n",
    "    #print(trn_x.head())\n",
    "    #trn_x.fillna(trn_x.median(),inplace=True)\n",
    "    #val_x.fillna(val_x.median(),inplace=True)\n",
    "    clf = xgb.XGBClassifier(\n",
    "            num_leaves=31,\n",
    "            learning_rate=0.03,\n",
    "            n_estimators=500,\n",
    "            subsample=.9,\n",
    "            colsample_bytree=.9,\n",
    "            random_state=1\n",
    "        )\n",
    "    clf.fit(\n",
    "        trn_x, trn_y,\n",
    "        eval_set=[(val_x,val_y)],\n",
    "        early_stopping_rounds=20,\n",
    "        verbose=100,\n",
    "        eval_metric='auc'\n",
    "        #objective='multi:softprob'\n",
    "        )\n",
    "    imp_df = pd.DataFrame()\n",
    "    imp_df['feature'] = train_features\n",
    "    imp_df['gain'] = clf.feature_importances_\n",
    "\n",
    "    imp_df['fold'] = i\n",
    "    importances = pd.concat([importances, imp_df], axis=0)\n",
    "    \n",
    "    best_iteration = clf.get_booster().best_ntree_limit\n",
    "\n",
    "    oof_reg_preds = clf.predict_proba(val_x,best_iteration)[:,1]\n",
    "    #oof_reg_preds = lr.predict_proba(val_x)[:,1]\n",
    "    #print(oof_reg_preds)\n",
    "    print(\"Validation AUC-ROC value for Fold {} is {}\".format(i,roc_auc_score(val_y, oof_reg_preds)))\n",
    "    best_iteration = clf.get_booster().best_ntree_limit\n",
    "    #print(best_iteration)\n",
    "    #oof_reg_preds[oof_reg_preds < 0] = 0\n",
    "    _preds = clf.predict_proba(test[train_features],best_iteration)[:,1]\n",
    "    acc_table.iloc[:,i] = _preds\n",
    "    i+=1\n",
    "    #_preds[_preds < 0] = 0\n",
    "    #sub_reg_preds = np.add(sub_reg_preds,_preds)\n",
    "acc_table['Fold_avg'] = (acc_table['Fold1'] + acc_table['Fold2'] +acc_table['Fold3'] + acc_table['Fold4'] + acc_table['Fold5'])/5.0   \n",
    "print(\"Test AUC-ROC value is {}\".format(roc_auc_score(acc_table['Test Values'], acc_table['Fold_avg'])))\n",
    "#print(\"Test AUC-ROC value is {}\".format(roc_auc_score(y_test, sub_reg_preds)))"
   ]
  },
  {
   "cell_type": "code",
   "execution_count": null,
   "metadata": {},
   "outputs": [],
   "source": []
  }
 ],
 "metadata": {
  "kernelspec": {
   "display_name": "Python 3",
   "language": "python",
   "name": "python3"
  },
  "language_info": {
   "codemirror_mode": {
    "name": "ipython",
    "version": 3
   },
   "file_extension": ".py",
   "mimetype": "text/x-python",
   "name": "python",
   "nbconvert_exporter": "python",
   "pygments_lexer": "ipython3",
   "version": "3.6.4"
  }
 },
 "nbformat": 4,
 "nbformat_minor": 2
}
