{
 "cells": [
  {
   "cell_type": "markdown",
   "metadata": {},
   "source": [
    "### Loading the libraries"
   ]
  },
  {
   "cell_type": "code",
   "execution_count": 1,
   "metadata": {},
   "outputs": [],
   "source": [
    "%matplotlib inline\n",
    "\n",
    "import pandas as pd\n",
    "import numpy as np\n",
    "import matplotlib.pyplot as plt\n",
    "import seaborn as sns\n",
    "from sklearn.metrics import roc_auc_score\n",
    "from sklearn.linear_model import LogisticRegression\n",
    "from sklearn.model_selection import StratifiedKFold\n",
    "from sklearn.model_selection import train_test_split\n",
    "from imblearn.over_sampling import SMOTE\n",
    "from sklearn.ensemble import RandomForestClassifier,GradientBoostingClassifier\n",
    "from sklearn.model_selection import GridSearchCV\n",
    "import warnings\n",
    "warnings.filterwarnings('ignore')"
   ]
  },
  {
   "cell_type": "markdown",
   "metadata": {},
   "source": [
    "### Reading the data"
   ]
  },
  {
   "cell_type": "code",
   "execution_count": 2,
   "metadata": {},
   "outputs": [
    {
     "name": "stdout",
     "output_type": "stream",
     "text": [
      "(903653, 55)\n"
     ]
    }
   ],
   "source": [
    "train_df = pd.read_csv(\"train-flattened_v2.csv\")\n",
    "print(train_df.shape)"
   ]
  },
  {
   "cell_type": "code",
   "execution_count": 3,
   "metadata": {
    "scrolled": true
   },
   "outputs": [
    {
     "data": {
      "text/plain": [
       "Google Merchandise Collection                  5122\n",
       "Google Online Store                            1245\n",
       "Display Ad created 3/11/14                      967\n",
       "Full auto ad IMAGE ONLY                         822\n",
       "Ad from 12/13/16                                610\n",
       "Ad from 11/3/16                                 489\n",
       "Display Ad created 3/11/15                      392\n",
       "{KeyWord:Google Brand Items}                    251\n",
       "{KeyWord:Google Merchandise}                    155\n",
       "Ad from 11/7/16                                 123\n",
       "Google Merchandise                               87\n",
       "First Full Auto Template Test Ad                 87\n",
       "20% discount                                     75\n",
       "{KeyWord:Google Branded Gear}                    67\n",
       "{KeyWord:Looking for Google Bags?}               65\n",
       "Swag with Google Logos                           64\n",
       "Display Ad created 11/17/14                      50\n",
       "{KeyWord:Want Google Stickers?}                  42\n",
       "JD_5a_v1                                         41\n",
       "{KeyWord:Google Drinkware}                       32\n",
       "{KeyWord:Google Men's T-Shirts}                  30\n",
       "LeEco_1a                                         25\n",
       "{KeyWord:Google Branded Kit}                     16\n",
       "Full auto ad TEXT ONLY                           16\n",
       "{KeyWord:Google Branded Apparel}                 10\n",
       "Want Google Sunglasses                            8\n",
       "Full auto ad TEXT/NATIVE                          7\n",
       "Google Paraphernalia                              7\n",
       "{KeyWord:Google Branded Outerwear}                5\n",
       "{KeyWord:Want Google Pet Toys?}                   4\n",
       "Google Store                                      4\n",
       "Official Google Merchandise - Fast Shipping       4\n",
       "Ad from 2/17/17                                   3\n",
       "free shipping                                     3\n",
       "Full auto ad with Primary Color                   3\n",
       "Full auto ad NATIVE ONLY                          3\n",
       "url_builder                                       3\n",
       "Free Shipping!                                    2\n",
       "Google store                                      2\n",
       "google store                                      1\n",
       "GA Help Center                                    1\n",
       "visit us again                                    1\n",
       "Swag w/ Google Logos                              1\n",
       "Men's-Outerwear Google Apparel                    1\n",
       "Name: trafficSource.adContent, dtype: int64"
      ]
     },
     "execution_count": 3,
     "metadata": {},
     "output_type": "execute_result"
    }
   ],
   "source": [
    "train_df['trafficSource.adContent'].value_counts()"
   ]
  },
  {
   "cell_type": "markdown",
   "metadata": {},
   "source": [
    "### Sneak Peek at the data"
   ]
  },
  {
   "cell_type": "code",
   "execution_count": 4,
   "metadata": {
    "scrolled": true
   },
   "outputs": [
    {
     "data": {
      "text/html": [
       "<div>\n",
       "<style scoped>\n",
       "    .dataframe tbody tr th:only-of-type {\n",
       "        vertical-align: middle;\n",
       "    }\n",
       "\n",
       "    .dataframe tbody tr th {\n",
       "        vertical-align: top;\n",
       "    }\n",
       "\n",
       "    .dataframe thead th {\n",
       "        text-align: right;\n",
       "    }\n",
       "</style>\n",
       "<table border=\"1\" class=\"dataframe\">\n",
       "  <thead>\n",
       "    <tr style=\"text-align: right;\">\n",
       "      <th></th>\n",
       "      <th>channelGrouping</th>\n",
       "      <th>date</th>\n",
       "      <th>fullVisitorId</th>\n",
       "      <th>sessionId</th>\n",
       "      <th>socialEngagementType</th>\n",
       "      <th>visitId</th>\n",
       "      <th>visitNumber</th>\n",
       "      <th>visitStartTime</th>\n",
       "      <th>device.browser</th>\n",
       "      <th>device.browserSize</th>\n",
       "      <th>...</th>\n",
       "      <th>trafficSource.adwordsClickInfo.isVideoAd</th>\n",
       "      <th>trafficSource.adwordsClickInfo.page</th>\n",
       "      <th>trafficSource.adwordsClickInfo.slot</th>\n",
       "      <th>trafficSource.campaign</th>\n",
       "      <th>trafficSource.campaignCode</th>\n",
       "      <th>trafficSource.isTrueDirect</th>\n",
       "      <th>trafficSource.keyword</th>\n",
       "      <th>trafficSource.medium</th>\n",
       "      <th>trafficSource.referralPath</th>\n",
       "      <th>trafficSource.source</th>\n",
       "    </tr>\n",
       "  </thead>\n",
       "  <tbody>\n",
       "    <tr>\n",
       "      <th>0</th>\n",
       "      <td>Organic Search</td>\n",
       "      <td>20160902</td>\n",
       "      <td>1131660440785968503</td>\n",
       "      <td>1131660440785968503_1472830385</td>\n",
       "      <td>Not Socially Engaged</td>\n",
       "      <td>1472830385</td>\n",
       "      <td>1</td>\n",
       "      <td>1472830385</td>\n",
       "      <td>Chrome</td>\n",
       "      <td>not available in demo dataset</td>\n",
       "      <td>...</td>\n",
       "      <td>NaN</td>\n",
       "      <td>NaN</td>\n",
       "      <td>NaN</td>\n",
       "      <td>(not set)</td>\n",
       "      <td>NaN</td>\n",
       "      <td>NaN</td>\n",
       "      <td>(not provided)</td>\n",
       "      <td>organic</td>\n",
       "      <td>NaN</td>\n",
       "      <td>google</td>\n",
       "    </tr>\n",
       "    <tr>\n",
       "      <th>1</th>\n",
       "      <td>Organic Search</td>\n",
       "      <td>20160902</td>\n",
       "      <td>377306020877927890</td>\n",
       "      <td>377306020877927890_1472880147</td>\n",
       "      <td>Not Socially Engaged</td>\n",
       "      <td>1472880147</td>\n",
       "      <td>1</td>\n",
       "      <td>1472880147</td>\n",
       "      <td>Firefox</td>\n",
       "      <td>not available in demo dataset</td>\n",
       "      <td>...</td>\n",
       "      <td>NaN</td>\n",
       "      <td>NaN</td>\n",
       "      <td>NaN</td>\n",
       "      <td>(not set)</td>\n",
       "      <td>NaN</td>\n",
       "      <td>NaN</td>\n",
       "      <td>(not provided)</td>\n",
       "      <td>organic</td>\n",
       "      <td>NaN</td>\n",
       "      <td>google</td>\n",
       "    </tr>\n",
       "    <tr>\n",
       "      <th>2</th>\n",
       "      <td>Organic Search</td>\n",
       "      <td>20160902</td>\n",
       "      <td>3895546263509774583</td>\n",
       "      <td>3895546263509774583_1472865386</td>\n",
       "      <td>Not Socially Engaged</td>\n",
       "      <td>1472865386</td>\n",
       "      <td>1</td>\n",
       "      <td>1472865386</td>\n",
       "      <td>Chrome</td>\n",
       "      <td>not available in demo dataset</td>\n",
       "      <td>...</td>\n",
       "      <td>NaN</td>\n",
       "      <td>NaN</td>\n",
       "      <td>NaN</td>\n",
       "      <td>(not set)</td>\n",
       "      <td>NaN</td>\n",
       "      <td>NaN</td>\n",
       "      <td>(not provided)</td>\n",
       "      <td>organic</td>\n",
       "      <td>NaN</td>\n",
       "      <td>google</td>\n",
       "    </tr>\n",
       "    <tr>\n",
       "      <th>3</th>\n",
       "      <td>Organic Search</td>\n",
       "      <td>20160902</td>\n",
       "      <td>4763447161404445595</td>\n",
       "      <td>4763447161404445595_1472881213</td>\n",
       "      <td>Not Socially Engaged</td>\n",
       "      <td>1472881213</td>\n",
       "      <td>1</td>\n",
       "      <td>1472881213</td>\n",
       "      <td>UC Browser</td>\n",
       "      <td>not available in demo dataset</td>\n",
       "      <td>...</td>\n",
       "      <td>NaN</td>\n",
       "      <td>NaN</td>\n",
       "      <td>NaN</td>\n",
       "      <td>(not set)</td>\n",
       "      <td>NaN</td>\n",
       "      <td>NaN</td>\n",
       "      <td>google + online</td>\n",
       "      <td>organic</td>\n",
       "      <td>NaN</td>\n",
       "      <td>google</td>\n",
       "    </tr>\n",
       "    <tr>\n",
       "      <th>4</th>\n",
       "      <td>Organic Search</td>\n",
       "      <td>20160902</td>\n",
       "      <td>27294437909732085</td>\n",
       "      <td>27294437909732085_1472822600</td>\n",
       "      <td>Not Socially Engaged</td>\n",
       "      <td>1472822600</td>\n",
       "      <td>2</td>\n",
       "      <td>1472822600</td>\n",
       "      <td>Chrome</td>\n",
       "      <td>not available in demo dataset</td>\n",
       "      <td>...</td>\n",
       "      <td>NaN</td>\n",
       "      <td>NaN</td>\n",
       "      <td>NaN</td>\n",
       "      <td>(not set)</td>\n",
       "      <td>NaN</td>\n",
       "      <td>True</td>\n",
       "      <td>(not provided)</td>\n",
       "      <td>organic</td>\n",
       "      <td>NaN</td>\n",
       "      <td>google</td>\n",
       "    </tr>\n",
       "  </tbody>\n",
       "</table>\n",
       "<p>5 rows × 55 columns</p>\n",
       "</div>"
      ],
      "text/plain": [
       "  channelGrouping      date        fullVisitorId  \\\n",
       "0  Organic Search  20160902  1131660440785968503   \n",
       "1  Organic Search  20160902   377306020877927890   \n",
       "2  Organic Search  20160902  3895546263509774583   \n",
       "3  Organic Search  20160902  4763447161404445595   \n",
       "4  Organic Search  20160902    27294437909732085   \n",
       "\n",
       "                        sessionId  socialEngagementType     visitId  \\\n",
       "0  1131660440785968503_1472830385  Not Socially Engaged  1472830385   \n",
       "1   377306020877927890_1472880147  Not Socially Engaged  1472880147   \n",
       "2  3895546263509774583_1472865386  Not Socially Engaged  1472865386   \n",
       "3  4763447161404445595_1472881213  Not Socially Engaged  1472881213   \n",
       "4    27294437909732085_1472822600  Not Socially Engaged  1472822600   \n",
       "\n",
       "   visitNumber  visitStartTime device.browser             device.browserSize  \\\n",
       "0            1      1472830385         Chrome  not available in demo dataset   \n",
       "1            1      1472880147        Firefox  not available in demo dataset   \n",
       "2            1      1472865386         Chrome  not available in demo dataset   \n",
       "3            1      1472881213     UC Browser  not available in demo dataset   \n",
       "4            2      1472822600         Chrome  not available in demo dataset   \n",
       "\n",
       "          ...          trafficSource.adwordsClickInfo.isVideoAd  \\\n",
       "0         ...                                               NaN   \n",
       "1         ...                                               NaN   \n",
       "2         ...                                               NaN   \n",
       "3         ...                                               NaN   \n",
       "4         ...                                               NaN   \n",
       "\n",
       "  trafficSource.adwordsClickInfo.page trafficSource.adwordsClickInfo.slot  \\\n",
       "0                                 NaN                                 NaN   \n",
       "1                                 NaN                                 NaN   \n",
       "2                                 NaN                                 NaN   \n",
       "3                                 NaN                                 NaN   \n",
       "4                                 NaN                                 NaN   \n",
       "\n",
       "   trafficSource.campaign trafficSource.campaignCode  \\\n",
       "0               (not set)                        NaN   \n",
       "1               (not set)                        NaN   \n",
       "2               (not set)                        NaN   \n",
       "3               (not set)                        NaN   \n",
       "4               (not set)                        NaN   \n",
       "\n",
       "  trafficSource.isTrueDirect trafficSource.keyword trafficSource.medium  \\\n",
       "0                        NaN        (not provided)              organic   \n",
       "1                        NaN        (not provided)              organic   \n",
       "2                        NaN        (not provided)              organic   \n",
       "3                        NaN       google + online              organic   \n",
       "4                       True        (not provided)              organic   \n",
       "\n",
       "  trafficSource.referralPath trafficSource.source  \n",
       "0                        NaN               google  \n",
       "1                        NaN               google  \n",
       "2                        NaN               google  \n",
       "3                        NaN               google  \n",
       "4                        NaN               google  \n",
       "\n",
       "[5 rows x 55 columns]"
      ]
     },
     "execution_count": 4,
     "metadata": {},
     "output_type": "execute_result"
    }
   ],
   "source": [
    "train_df.head()"
   ]
  },
  {
   "cell_type": "markdown",
   "metadata": {},
   "source": [
    "### Getting the categorical and numerical columns"
   ]
  },
  {
   "cell_type": "code",
   "execution_count": 5,
   "metadata": {
    "scrolled": true
   },
   "outputs": [],
   "source": [
    "cols = train_df.columns\n",
    "num_cols = train_df._get_numeric_data().columns\n",
    "factor_cols = list(set(cols) - set(num_cols))"
   ]
  },
  {
   "cell_type": "markdown",
   "metadata": {},
   "source": [
    "### Getting the count of missing values in the categorical values and plotting the same"
   ]
  },
  {
   "cell_type": "code",
   "execution_count": 6,
   "metadata": {
    "scrolled": true
   },
   "outputs": [
    {
     "data": {
      "text/plain": [
       "Text(0.5,1,'Missing Values in Categorical Features')"
      ]
     },
     "execution_count": 6,
     "metadata": {},
     "output_type": "execute_result"
    },
    {
     "data": {
      "image/png": "[encoded data removed]",
      "text/plain": [
       "<matplotlib.figure.Figure at 0x21295db4d68>"
      ]
     },
     "metadata": {
      "needs_background": "light"
     },
     "output_type": "display_data"
    }
   ],
   "source": [
    "total_test = train_df[factor_cols].isnull().sum().sort_values(ascending=False)\n",
    "percent = (train_df[factor_cols].isnull().sum()/train_df[factor_cols].isnull().count()).sort_values(ascending=False)*100\n",
    "data_to_be_removed = pd.concat([total_test, percent], axis=1,join='outer', keys=['Missing Value Count', 'Percentage of Missing Values'])\n",
    "data_to_be_removed.index.name ='Features'\n",
    "#data_to_be_removed.head(20)\n",
    "sns.barplot(y = data_to_be_removed.index[:15],x = data_to_be_removed['Percentage of Missing Values'][:15],color='blue').set_title(\"Missing Values in Categorical Features\")"
   ]
  },
  {
   "cell_type": "code",
   "execution_count": 7,
   "metadata": {},
   "outputs": [],
   "source": [
    "missing_cols = list(data_to_be_removed[data_to_be_removed['Percentage of Missing Values']>50.0].iloc[:,1].index)"
   ]
  },
  {
   "cell_type": "markdown",
   "metadata": {},
   "source": [
    "### Getting the count of missing values in the continuous variables and plotting it"
   ]
  },
  {
   "cell_type": "code",
   "execution_count": 8,
   "metadata": {},
   "outputs": [
    {
     "data": {
      "text/plain": [
       "Text(0.5,1,'Missing Values in Continuous Features')"
      ]
     },
     "execution_count": 8,
     "metadata": {},
     "output_type": "execute_result"
    },
    {
     "data": {
      "image/png": "[encoded data removed]",
      "text/plain": [
       "<matplotlib.figure.Figure at 0x212960eab38>"
      ]
     },
     "metadata": {
      "needs_background": "light"
     },
     "output_type": "display_data"
    }
   ],
   "source": [
    "total_test1 = train_df[num_cols].isnull().sum().sort_values(ascending=False)\n",
    "percent1 = (train_df[num_cols].isnull().sum()/train_df[num_cols].isnull().count()).sort_values(ascending=False)*100\n",
    "data_to_be_removed1 = pd.concat([total_test1, percent1], axis=1,join='outer', keys=['Missing Value Count', 'Percentage of Missing Values'])\n",
    "data_to_be_removed1.index.name ='Features'\n",
    "#data_to_be_removed.head(20)\n",
    "sns.barplot(y = data_to_be_removed1.index[:5],x = data_to_be_removed1['Percentage of Missing Values'][:5],color='blue').set_title(\"Missing Values in Continuous Features\")"
   ]
  },
  {
   "cell_type": "markdown",
   "metadata": {},
   "source": [
    "     Note : The feature 'totals.transactionRevenue' is the revenue generated in every session/log in of each user and if it's   missing, it means that no revenue was generated. So, rather than dropping the missing values, we should recode it to 0 in this case\n"
   ]
  },
  {
   "cell_type": "markdown",
   "metadata": {},
   "source": [
    "### Removing Categorical features with just 1 level"
   ]
  },
  {
   "cell_type": "code",
   "execution_count": 9,
   "metadata": {},
   "outputs": [
    {
     "name": "stdout",
     "output_type": "stream",
     "text": [
      "(903653, 37)\n"
     ]
    }
   ],
   "source": [
    "single_level_cols = [cols for cols in train_df[factor_cols].columns if train_df[cols].nunique(dropna=False)==1 ]\n",
    "train_df.drop(single_level_cols,axis=1,inplace=True)\n",
    "print(train_df.shape)"
   ]
  },
  {
   "cell_type": "markdown",
   "metadata": {},
   "source": [
    "### Before proceeding further with the exploratory analysis, we will generate our target variable of interest : Flag indicating if a customer is a revenue generating customer or not"
   ]
  },
  {
   "cell_type": "code",
   "execution_count": 10,
   "metadata": {},
   "outputs": [],
   "source": [
    "group_cols = ['fullVisitorId']\n",
    "counted = 'totals.transactionRevenue'\n",
    "agg_name = 'totals.transactionRevenue_sum'\n",
    "gp = train_df[group_cols+[counted]].groupby(group_cols)[counted].sum().reset_index().rename(columns={counted:agg_name})\n",
    "#print(gp)\n",
    "#train = train.merge(gp, on=group_cols, how='left')\n",
    "gp['Revenue_Generating_Flag'] = np.where(gp['totals.transactionRevenue_sum']>0,1,0)\n",
    "cols = ['fullVisitorId','Revenue_Generating_Flag']\n",
    "\n",
    "train_df1 = pd.merge(train_df,gp[cols],on='fullVisitorId',how='inner')"
   ]
  },
  {
   "cell_type": "markdown",
   "metadata": {},
   "source": [
    "### Data Wrangling / Cleaning"
   ]
  },
  {
   "cell_type": "code",
   "execution_count": 11,
   "metadata": {},
   "outputs": [],
   "source": [
    "class Wrangler:\n",
    "    \n",
    "    def browser_wrangling(self,x):\n",
    "        top_10_browsers = ['chrome','safari','firefox','internet explorer','edge','android webview','safari (in-app)','opera mini','opera','uc browser']\n",
    "        #browsers = ['chrome','safari','firefox','internet explorer','edge','opera','coc coc','maxthon','iron']\n",
    "        #mobile_browsers = ['android','samsung','mini','iphone','in-app','playstation','mozilla','chrome','blackberry','nokia','browser','amazon','lunascape','netscape','konqueror','puffin']\n",
    "    \n",
    "        if x in top_10_browsers:\n",
    "            return x.lower()\n",
    "    \n",
    "        #elif x in mobile_browsers:\n",
    "             # return 'mobile browser'\n",
    "    \n",
    "        elif '(not set)' in x:\n",
    "            return x\n",
    "    \n",
    "        else:\n",
    "            return 'others'\n",
    "\n",
    "        \n",
    "    def source_wrangling(self,x):\n",
    "        if  ('google' in x):\n",
    "            return 'google'\n",
    "        elif  ('youtube' in x):\n",
    "            return 'youtube'\n",
    "        elif 'yahoo' in x:\n",
    "            return 'yahoo'\n",
    "        elif 'facebook' in x:\n",
    "            return 'facebook'\n",
    "        elif 'reddit' in x:\n",
    "            return 'reddit'\n",
    "        elif 'bing' in x:\n",
    "            return 'bing'\n",
    "        elif 'quora' in x:\n",
    "            return 'quora'\n",
    "        elif 'outlook' in x:\n",
    "            return 'outlook'\n",
    "        elif 'linkedin' in x:\n",
    "            return 'linkedin'\n",
    "        elif 'twitter' in x:\n",
    "            return 'twitter'\n",
    "        elif '(not set)' in x or 'nan' in x:\n",
    "            return x\n",
    "        else:\n",
    "            return 'others'\n",
    "        \n",
    "    def device_os_wrangling(self,x):\n",
    "        top_10_device_os = ['windows','macintosh','andorid','ios', 'linux','chrome os','windows phone']\n",
    "        #browsers = ['chrome','safari','firefox','internet explorer','edge','opera','coc coc','maxthon','iron']\n",
    "        #mobile_browsers = ['android','samsung','mini','iphone','in-app','playstation','mozilla','chrome','blackberry','nokia','browser','amazon','lunascape','netscape','konqueror','puffin']\n",
    "\n",
    "        if x in top_10_device_os:\n",
    "            return x.lower()\n",
    "\n",
    "        #elif x in mobile_browsers:\n",
    "         #   return 'mobile browser'\n",
    "\n",
    "        elif '(not set)' in x:\n",
    "            return x\n",
    "\n",
    "        else:\n",
    "            return 'others'\n",
    "        \n",
    "    def nw_domain_wrangling(self,x):\n",
    "        tt = x['geoNetwork.networkDomain'].value_counts()\n",
    "        tt = pd.DataFrame(tt)\n",
    "        #tt['geoNetwork.networkDomain'] = tt.index\n",
    "        tt['column_names'] = tt.index\n",
    "        cols = ['values','geoNetwork.networkDomain']\n",
    "        tt.columns  = cols\n",
    "        #tt\n",
    "        x = pd.merge(x,tt,on='geoNetwork.networkDomain',how='left')\n",
    "        x['geoNetwork.networkDomain'] = np.where(x['values']<=20,'Others',x['geoNetwork.networkDomain'])\n",
    "        del x['values']\n",
    "        x['geoNetwork.networkDomain'].value_counts()\n",
    "        return x\n",
    "    \n",
    "    def plots(self,x):\n",
    "        bar1x=[]\n",
    "        bar1y=[]\n",
    "        for i in range(len(x)):\n",
    "    \n",
    "            bar1x.append(x.index[i])\n",
    "            bar1y.append(x[i])\n",
    "\n",
    "        plt.figure(figsize=(8, 10))\n",
    "        g=sns.barplot(x=bar1y, y=bar1x)\n",
    "        for i in range(len(bar1y)):\n",
    "            g.text(x = bar1y[i] , y = i, s = bar1y[i], size = 10)\n"
   ]
  },
  {
   "cell_type": "code",
   "execution_count": 12,
   "metadata": {},
   "outputs": [],
   "source": [
    "wrang = Wrangler()"
   ]
  },
  {
   "cell_type": "code",
   "execution_count": 13,
   "metadata": {
    "scrolled": true
   },
   "outputs": [
    {
     "name": "stdout",
     "output_type": "stream",
     "text": [
      "Plot of top 10 device browsers before transformation\n",
      "Plot of device browsers after transformation\n"
     ]
    },
    {
     "data": {
      "image/png": "[encoded data removed]",
      "text/plain": [
       "<matplotlib.figure.Figure at 0x2129618bda0>"
      ]
     },
     "metadata": {
      "needs_background": "light"
     },
     "output_type": "display_data"
    },
    {
     "data": {
      "image/png": "[encoded data removed]",
      "text/plain": [
       "<matplotlib.figure.Figure at 0x212961836a0>"
      ]
     },
     "metadata": {
      "needs_background": "light"
     },
     "output_type": "display_data"
    }
   ],
   "source": [
    "x=train_df1['device.browser'].value_counts()\n",
    "print(\"Plot of top 10 device browsers before transformation\")\n",
    "wrang.plots(x[:10])\n",
    "train_df1['device.browser'] = train_df1['device.browser'].map(lambda x:wrang.browser_wrangling(str(x).lower())).astype('str')\n",
    "x=train_df1['device.browser'].value_counts()\n",
    "print(\"Plot of device browsers after transformation\")\n",
    "wrang.plots(x)\n"
   ]
  },
  {
   "cell_type": "code",
   "execution_count": 14,
   "metadata": {
    "scrolled": true
   },
   "outputs": [
    {
     "name": "stdout",
     "output_type": "stream",
     "text": [
      "Plot of top 10 Sources before transformation\n",
      "Plot of Sources after transformation\n"
     ]
    },
    {
     "data": {
      "image/png": "[encoded data removed]",
      "text/plain": [
       "<matplotlib.figure.Figure at 0x212967cdc50>"
      ]
     },
     "metadata": {
      "needs_background": "light"
     },
     "output_type": "display_data"
    },
    {
     "data": {
      "image/png": "[encoded data removed]",
      "text/plain": [
       "<matplotlib.figure.Figure at 0x212967cdcc0>"
      ]
     },
     "metadata": {
      "needs_background": "light"
     },
     "output_type": "display_data"
    }
   ],
   "source": [
    "x=train_df1['trafficSource.source'].value_counts()\n",
    "print(\"Plot of top 10 Sources before transformation\")\n",
    "wrang.plots(x[:10])\n",
    "train_df1['trafficSource.source'] = train_df1['trafficSource.source'].map(lambda x:wrang.source_wrangling(str(x).lower())).astype('str')\n",
    "x=train_df1['trafficSource.source'].value_counts()\n",
    "print(\"Plot of Sources after transformation\")\n",
    "wrang.plots(x)\n"
   ]
  },
  {
   "cell_type": "code",
   "execution_count": 15,
   "metadata": {
    "scrolled": true
   },
   "outputs": [
    {
     "name": "stdout",
     "output_type": "stream",
     "text": [
      "Plot of top 10 Operating Systems before transformation\n",
      "Plot of Operating Systems after transformation\n"
     ]
    },
    {
     "data": {
      "image/png": "[encoded data removed]",
      "text/plain": [
       "<matplotlib.figure.Figure at 0x212967cdda0>"
      ]
     },
     "metadata": {
      "needs_background": "light"
     },
     "output_type": "display_data"
    },
    {
     "data": {
      "image/png": "[encoded data removed]",
      "text/plain": [
       "<matplotlib.figure.Figure at 0x21296a39f98>"
      ]
     },
     "metadata": {
      "needs_background": "light"
     },
     "output_type": "display_data"
    }
   ],
   "source": [
    "print(\"Plot of top 10 Operating Systems before transformation\")\n",
    "x=train_df1['device.operatingSystem'].value_counts()\n",
    "wrang.plots(x[:10])\n",
    "train_df1['device.operatingSystem'] = train_df1['device.operatingSystem'].map(lambda x:wrang.device_os_wrangling(str(x).lower())).astype('str')\n",
    "x=train_df1['device.operatingSystem'].value_counts()\n",
    "print(\"Plot of Operating Systems after transformation\")\n",
    "wrang.plots(x)"
   ]
  },
  {
   "cell_type": "code",
   "execution_count": 16,
   "metadata": {
    "scrolled": true
   },
   "outputs": [
    {
     "name": "stdout",
     "output_type": "stream",
     "text": [
      "Plot of top 10 Network Domains before transformation\n",
      "Plot of Network Domains after transformation\n"
     ]
    },
    {
     "data": {
      "image/png": "[encoded data removed]",
      "text/plain": [
       "<matplotlib.figure.Figure at 0x21295d40828>"
      ]
     },
     "metadata": {
      "needs_background": "light"
     },
     "output_type": "display_data"
    },
    {
     "data": {
      "image/png": "[encoded data removed]",
      "text/plain": [
       "<matplotlib.figure.Figure at 0x21295d407f0>"
      ]
     },
     "metadata": {
      "needs_background": "light"
     },
     "output_type": "display_data"
    }
   ],
   "source": [
    "x=train_df1['geoNetwork.networkDomain'].value_counts()\n",
    "print(\"Plot of top 10 Network Domains before transformation\")\n",
    "wrang.plots(x[:10])\n",
    "train_df1 = wrang.nw_domain_wrangling(train_df1)\n",
    "x=train_df1['geoNetwork.networkDomain'].value_counts()\n",
    "print(\"Plot of Network Domains after transformation\")\n",
    "wrang.plots(x[:10])\n",
    "\n"
   ]
  },
  {
   "cell_type": "markdown",
   "metadata": {},
   "source": [
    "### Creating New Features"
   ]
  },
  {
   "cell_type": "code",
   "execution_count": 17,
   "metadata": {},
   "outputs": [],
   "source": [
    "train_df1['date_of_visit'] = pd.to_datetime(train_df1['visitStartTime'], unit='s')\n",
    "train_df1['day_of_the_week'] = train_df1['date_of_visit'].dt.dayofweek\n",
    "train_df1['hour_of_the_day'] = train_df1['date_of_visit'].dt.hour\n",
    "train_df1['day_of_the_month'] = train_df1['date_of_visit'].dt.day"
   ]
  },
  {
   "cell_type": "code",
   "execution_count": 18,
   "metadata": {},
   "outputs": [],
   "source": [
    "train_df1['source.country'] = train_df1['trafficSource.source'] + '_' + train_df1['geoNetwork.country']\n",
    "train_df1['campaign.medium'] = train_df1['trafficSource.campaign'] + '_' + train_df1['trafficSource.medium']\n",
    "train_df1['browser.category'] = train_df1['device.browser'] + '_' + train_df1['device.deviceCategory']\n",
    "train_df1['browser.os'] = train_df1['device.browser'] + '_' + train_df1['device.operatingSystem']"
   ]
  },
  {
   "cell_type": "code",
   "execution_count": 19,
   "metadata": {},
   "outputs": [],
   "source": [
    "train_df1['device_deviceCategory_channelGrouping'] = train_df1['device.deviceCategory'] + \"_\" + train_df1['channelGrouping']\n",
    "train_df1['channelGrouping_browser'] = train_df1['device.browser'] + \"_\" + train_df1['channelGrouping']\n",
    "train_df1['channelGrouping_OS'] = train_df1['device.operatingSystem'] + \"_\" + train_df1['channelGrouping']\n",
    "train_df1['content.source'] = train_df1['trafficSource.adContent'] + \"_\" + train_df1['source.country']\n",
    "train_df1['medium.source'] = train_df1['trafficSource.medium'] + \"_\" + train_df1['source.country']"
   ]
  },
  {
   "cell_type": "markdown",
   "metadata": {},
   "source": [
    "### Removing unwanted columns/features"
   ]
  },
  {
   "cell_type": "code",
   "execution_count": 20,
   "metadata": {},
   "outputs": [],
   "source": [
    "excluded_features = [\n",
    "    'date', 'fullVisitorId', 'sessionId', 'totals.transactionRevenue', \n",
    "    'visitId', 'visitStartTime', 'vis_date', 'nb_sessions', 'max_visits'\n",
    "]\n",
    "\n",
    "excluded_features = excluded_features + missing_cols\n",
    "\n",
    "categorical_features = [\n",
    "    _f for _f in train_df1.columns\n",
    "    if (_f not in excluded_features) & (train_df1[_f].dtype == 'object')\n",
    "]"
   ]
  },
  {
   "cell_type": "markdown",
   "metadata": {},
   "source": [
    "### Factorizing the categorical features"
   ]
  },
  {
   "cell_type": "code",
   "execution_count": 21,
   "metadata": {},
   "outputs": [],
   "source": [
    "for f in categorical_features:\n",
    "    train_df1[f], indexer = pd.factorize(train_df1[f])"
   ]
  },
  {
   "cell_type": "code",
   "execution_count": 22,
   "metadata": {},
   "outputs": [],
   "source": [
    "req_features = [_f for _f in train_df1.columns if _f not in excluded_features]"
   ]
  },
  {
   "cell_type": "code",
   "execution_count": 23,
   "metadata": {},
   "outputs": [],
   "source": [
    "train_df2 = train_df1[req_features + ['fullVisitorId']].groupby('fullVisitorId').mean()"
   ]
  },
  {
   "cell_type": "code",
   "execution_count": 24,
   "metadata": {},
   "outputs": [
    {
     "data": {
      "text/plain": [
       "0    713689\n",
       "1     10114\n",
       "Name: Revenue_Generating_Flag, dtype: int64"
      ]
     },
     "execution_count": 24,
     "metadata": {},
     "output_type": "execute_result"
    }
   ],
   "source": [
    "train_df2['Revenue_Generating_Flag'].value_counts()"
   ]
  },
  {
   "cell_type": "markdown",
   "metadata": {},
   "source": [
    "Note : We can see that only 1.4% of the customers are Revenue Generating Customers"
   ]
  },
  {
   "cell_type": "code",
   "execution_count": 25,
   "metadata": {},
   "outputs": [],
   "source": [
    "y = train_df2['Revenue_Generating_Flag']\n",
    "X = train_df2.loc[:, train_df2.columns != 'Revenue_Generating_Flag']"
   ]
  },
  {
   "cell_type": "code",
   "execution_count": 26,
   "metadata": {},
   "outputs": [],
   "source": [
    "del train_df2['Revenue_Generating_Flag']\n",
    "train_df2 = train_df2.reset_index()"
   ]
  },
  {
   "cell_type": "code",
   "execution_count": 85,
   "metadata": {},
   "outputs": [],
   "source": [
    "train, test, y_train, y_test = train_test_split(X, y,\n",
    "                                                stratify=y, \n",
    "                                                test_size=0.3,random_state=20)"
   ]
  },
  {
   "cell_type": "code",
   "execution_count": 28,
   "metadata": {},
   "outputs": [
    {
     "name": "stdout",
     "output_type": "stream",
     "text": [
      "0    214107\n",
      "1      3034\n",
      "Name: Revenue_Generating_Flag, dtype: int64\n"
     ]
    },
    {
     "data": {
      "text/plain": [
       "0    499582\n",
       "1      7080\n",
       "Name: Revenue_Generating_Flag, dtype: int64"
      ]
     },
     "execution_count": 28,
     "metadata": {},
     "output_type": "execute_result"
    }
   ],
   "source": [
    "print(y_test.value_counts())\n",
    "y_train.value_counts()"
   ]
  },
  {
   "cell_type": "code",
   "execution_count": 29,
   "metadata": {},
   "outputs": [
    {
     "data": {
      "text/plain": [
       "0.013972487922594075"
      ]
     },
     "execution_count": 29,
     "metadata": {},
     "output_type": "execute_result"
    }
   ],
   "source": [
    "3034/(3034+214107)"
   ]
  },
  {
   "cell_type": "code",
   "execution_count": 30,
   "metadata": {},
   "outputs": [
    {
     "data": {
      "text/plain": [
       "0.013973812916697918"
      ]
     },
     "execution_count": 30,
     "metadata": {},
     "output_type": "execute_result"
    }
   ],
   "source": [
    "7080/(7080+499582)"
   ]
  },
  {
   "cell_type": "markdown",
   "metadata": {},
   "source": [
    "### Performing SMOTE"
   ]
  },
  {
   "cell_type": "code",
   "execution_count": 86,
   "metadata": {},
   "outputs": [],
   "source": [
    "train.fillna(train.median(),inplace=True)\n",
    "sm = SMOTE(random_state=12, ratio = 0.2)\n",
    "x_train_res, y_train_res = sm.fit_sample(train, y_train)\n",
    "x_train_res = pd.DataFrame(x_train_res)\n",
    "x_train_res.columns = train.columns\n",
    "y_train_res = pd.DataFrame(y_train_res)\n",
    "#y_train_res.columns = y_train.columns"
   ]
  },
  {
   "cell_type": "code",
   "execution_count": 44,
   "metadata": {},
   "outputs": [
    {
     "name": "stdout",
     "output_type": "stream",
     "text": [
      "(506662, 34)\n",
      "(506662,)\n",
      "(599498, 34)\n",
      "(599498, 1)\n"
     ]
    }
   ],
   "source": [
    "print(train.shape)\n",
    "print(y_train.shape)\n",
    "print(x_train_res.shape)\n",
    "print(y_train_res.shape)"
   ]
  },
  {
   "cell_type": "code",
   "execution_count": 45,
   "metadata": {
    "scrolled": true
   },
   "outputs": [
    {
     "name": "stdout",
     "output_type": "stream",
     "text": [
      "0    499582\n",
      "1     99916\n",
      "Name: 0, dtype: int64\n"
     ]
    }
   ],
   "source": [
    "print(y_train_res[0].value_counts())"
   ]
  },
  {
   "cell_type": "code",
   "execution_count": 46,
   "metadata": {},
   "outputs": [
    {
     "data": {
      "text/plain": [
       "0.16666611064590708"
      ]
     },
     "execution_count": 46,
     "metadata": {},
     "output_type": "execute_result"
    }
   ],
   "source": [
    "99916/(99916+499582)"
   ]
  },
  {
   "cell_type": "code",
   "execution_count": 47,
   "metadata": {},
   "outputs": [],
   "source": [
    "skf = StratifiedKFold(n_splits=5)"
   ]
  },
  {
   "cell_type": "code",
   "execution_count": 48,
   "metadata": {
    "scrolled": true
   },
   "outputs": [
    {
     "name": "stdout",
     "output_type": "stream",
     "text": [
      "0    399665\n",
      "1     79932\n",
      "Name: 0, dtype: int64\n",
      "0    99917\n",
      "1    19984\n",
      "Name: 0, dtype: int64\n",
      "0    399665\n",
      "1     79933\n",
      "Name: 0, dtype: int64\n",
      "0    99917\n",
      "1    19983\n",
      "Name: 0, dtype: int64\n",
      "0    399666\n",
      "1     79933\n",
      "Name: 0, dtype: int64\n",
      "0    99916\n",
      "1    19983\n",
      "Name: 0, dtype: int64\n",
      "0    399666\n",
      "1     79933\n",
      "Name: 0, dtype: int64\n",
      "0    99916\n",
      "1    19983\n",
      "Name: 0, dtype: int64\n",
      "0    399666\n",
      "1     79933\n",
      "Name: 0, dtype: int64\n",
      "0    99916\n",
      "1    19983\n",
      "Name: 0, dtype: int64\n"
     ]
    }
   ],
   "source": [
    "for a,b in skf.split(x_train_res,y_train_res):\n",
    "    print(y_train_res[0].iloc[a].value_counts())\n",
    "    print(y_train_res[0].iloc[b].value_counts())"
   ]
  },
  {
   "cell_type": "code",
   "execution_count": 49,
   "metadata": {},
   "outputs": [
    {
     "data": {
      "text/plain": [
       "0.1666649290967208"
      ]
     },
     "execution_count": 49,
     "metadata": {},
     "output_type": "execute_result"
    }
   ],
   "source": [
    "79932/(79932+399665)"
   ]
  },
  {
   "cell_type": "code",
   "execution_count": 50,
   "metadata": {},
   "outputs": [
    {
     "data": {
      "text/plain": [
       "0.16667083677367162"
      ]
     },
     "execution_count": 50,
     "metadata": {},
     "output_type": "execute_result"
    }
   ],
   "source": [
    "19984/(19984+99917)"
   ]
  },
  {
   "cell_type": "markdown",
   "metadata": {},
   "source": [
    "### Tuning Logistic Regression Hyperparameter"
   ]
  },
  {
   "cell_type": "code",
   "execution_count": null,
   "metadata": {
    "scrolled": true
   },
   "outputs": [],
   "source": [
    "lambda_vals = [0.001,0.01,0.1,1,10,100,1000,10000,100000,1000000,10000000,100000000,1000000000,10000000000]\n",
    "#lambda_vals = [1000,10000,100000,1000000,10000000,100000000,1000000000,10000000000]\n",
    "lambda_vals1 = np.reciprocal(lambda_vals)\n",
    "acc_table = pd.DataFrame(columns = ['lambda_vals','CV_AUC'])\n",
    "acc_table['lambda_vals'] = lambda_vals\n",
    "\n",
    "j=0\n",
    "for i in lambda_vals1:\n",
    "    avg = 0\n",
    "    for a,b in skf.split(x_train_res,y_train_res):\n",
    "        trn_x, trn_y = x_train_res.iloc[a], y_train_res[0].iloc[a]\n",
    "        val_x, val_y = x_train_res.iloc[b], y_train_res[0].iloc[b]\n",
    "        lr = LogisticRegression(penalty = 'l2', C = i,random_state=20)\n",
    "        lr.fit(trn_x,trn_y)\n",
    "        test_pred = lr.predict_proba(val_x)[:,1]\n",
    "        avg+=roc_auc_score(val_y, test_pred)\n",
    "\n",
    "    avg1 = avg/5.0\n",
    "    acc_table.iloc[j,1] = avg1\n",
    "    j = j+1"
   ]
  },
  {
   "cell_type": "code",
   "execution_count": null,
   "metadata": {
    "scrolled": true
   },
   "outputs": [],
   "source": [
    "acc_table"
   ]
  },
  {
   "cell_type": "markdown",
   "metadata": {},
   "source": [
    "### Building Logistic Regression Model on the obtained Hyperparameter"
   ]
  },
  {
   "cell_type": "markdown",
   "metadata": {},
   "source": [
    "#### Keeping aside 20% of the train data as validation which can be used for ensemble and stacking later"
   ]
  },
  {
   "cell_type": "code",
   "execution_count": 51,
   "metadata": {},
   "outputs": [],
   "source": [
    "#x_train_res = train\n",
    "#y_train_res = y_train\n",
    "\n",
    "x1_train, x1_test, y1_train, y1_test = train_test_split(x_train_res,y_train_res,\n",
    "                                                stratify=y_train_res, \n",
    "                                                test_size=0.2,random_state=20)"
   ]
  },
  {
   "cell_type": "code",
   "execution_count": 52,
   "metadata": {
    "scrolled": true
   },
   "outputs": [],
   "source": [
    "val_table = pd.DataFrame(columns = ['Actuals','glm','rf','gbm'])\n",
    "val_table['Actuals'] = y1_test[0]\n",
    "test_table = pd.DataFrame(columns = ['Actuals','glm','rf','gbm'])\n",
    "test_table['Actuals'] = y_test"
   ]
  },
  {
   "cell_type": "code",
   "execution_count": 53,
   "metadata": {
    "scrolled": true
   },
   "outputs": [],
   "source": [
    "#train_features = [_f for _f in x_train_res.columns if _f not in excluded_features]\n",
    "x1_train.fillna(x1_train.median(),inplace=True)\n",
    "x1_test.fillna(x1_test.median(),inplace=True)\n",
    "test.fillna(test.median(),inplace=True)\n",
    "\n",
    "lr = LogisticRegression(penalty = 'l2', C = 0.01,random_state=20)\n",
    "lr.fit(x1_train,y1_train)\n",
    "\n",
    "val_table['glm'] = lr.predict_proba(x1_test)[:,1]\n",
    "test_table['glm'] = lr.predict_proba(test)[:,1]"
   ]
  },
  {
   "cell_type": "code",
   "execution_count": 54,
   "metadata": {
    "scrolled": true
   },
   "outputs": [
    {
     "data": {
      "text/plain": [
       "count    1.199000e+05\n",
       "mean     1.672000e-01\n",
       "std      3.026137e-01\n",
       "min      2.105859e-08\n",
       "25%      9.066853e-04\n",
       "50%      1.108280e-02\n",
       "75%      1.232601e-01\n",
       "max      1.000000e+00\n",
       "Name: glm, dtype: float64"
      ]
     },
     "execution_count": 54,
     "metadata": {},
     "output_type": "execute_result"
    }
   ],
   "source": [
    "val_table['glm'].describe()"
   ]
  },
  {
   "cell_type": "code",
   "execution_count": 55,
   "metadata": {},
   "outputs": [
    {
     "name": "stdout",
     "output_type": "stream",
     "text": [
      "0.979333796858729\n"
     ]
    },
    {
     "data": {
      "text/html": [
       "<div>\n",
       "<style scoped>\n",
       "    .dataframe tbody tr th:only-of-type {\n",
       "        vertical-align: middle;\n",
       "    }\n",
       "\n",
       "    .dataframe tbody tr th {\n",
       "        vertical-align: top;\n",
       "    }\n",
       "\n",
       "    .dataframe thead th {\n",
       "        text-align: right;\n",
       "    }\n",
       "</style>\n",
       "<table border=\"1\" class=\"dataframe\">\n",
       "  <thead>\n",
       "    <tr style=\"text-align: right;\">\n",
       "      <th>col_0</th>\n",
       "      <th>0</th>\n",
       "      <th>1</th>\n",
       "    </tr>\n",
       "    <tr>\n",
       "      <th>Actuals</th>\n",
       "      <th></th>\n",
       "      <th></th>\n",
       "    </tr>\n",
       "  </thead>\n",
       "  <tbody>\n",
       "    <tr>\n",
       "      <th>0</th>\n",
       "      <td>97676</td>\n",
       "      <td>2241</td>\n",
       "    </tr>\n",
       "    <tr>\n",
       "      <th>1</th>\n",
       "      <td>5608</td>\n",
       "      <td>14375</td>\n",
       "    </tr>\n",
       "  </tbody>\n",
       "</table>\n",
       "</div>"
      ],
      "text/plain": [
       "col_0        0      1\n",
       "Actuals              \n",
       "0        97676   2241\n",
       "1         5608  14375"
      ]
     },
     "execution_count": 55,
     "metadata": {},
     "output_type": "execute_result"
    }
   ],
   "source": [
    "print(roc_auc_score(val_table['Actuals'], val_table['glm']))\n",
    "avg1 = np.where(val_table['glm']<0.6,0,1)\n",
    "#print(avg)\n",
    "df_confusion = pd.crosstab(val_table['Actuals'], avg1)\n",
    "df_confusion"
   ]
  },
  {
   "cell_type": "code",
   "execution_count": 56,
   "metadata": {},
   "outputs": [
    {
     "data": {
      "text/plain": [
       "0.7855405885406705"
      ]
     },
     "execution_count": 56,
     "metadata": {},
     "output_type": "execute_result"
    }
   ],
   "source": [
    "from sklearn.metrics import f1_score\n",
    "f1_score(val_table['Actuals'], avg1)"
   ]
  },
  {
   "cell_type": "code",
   "execution_count": 70,
   "metadata": {},
   "outputs": [
    {
     "name": "stdout",
     "output_type": "stream",
     "text": [
      "0.9756972675571788\n"
     ]
    },
    {
     "data": {
      "text/html": [
       "<div>\n",
       "<style scoped>\n",
       "    .dataframe tbody tr th:only-of-type {\n",
       "        vertical-align: middle;\n",
       "    }\n",
       "\n",
       "    .dataframe tbody tr th {\n",
       "        vertical-align: top;\n",
       "    }\n",
       "\n",
       "    .dataframe thead th {\n",
       "        text-align: right;\n",
       "    }\n",
       "</style>\n",
       "<table border=\"1\" class=\"dataframe\">\n",
       "  <thead>\n",
       "    <tr style=\"text-align: right;\">\n",
       "      <th>col_0</th>\n",
       "      <th>0</th>\n",
       "      <th>1</th>\n",
       "    </tr>\n",
       "    <tr>\n",
       "      <th>Actuals</th>\n",
       "      <th></th>\n",
       "      <th></th>\n",
       "    </tr>\n",
       "  </thead>\n",
       "  <tbody>\n",
       "    <tr>\n",
       "      <th>0</th>\n",
       "      <td>207931</td>\n",
       "      <td>6176</td>\n",
       "    </tr>\n",
       "    <tr>\n",
       "      <th>1</th>\n",
       "      <td>688</td>\n",
       "      <td>2346</td>\n",
       "    </tr>\n",
       "  </tbody>\n",
       "</table>\n",
       "</div>"
      ],
      "text/plain": [
       "col_0         0     1\n",
       "Actuals              \n",
       "0        207931  6176\n",
       "1           688  2346"
      ]
     },
     "execution_count": 70,
     "metadata": {},
     "output_type": "execute_result"
    }
   ],
   "source": [
    "print(roc_auc_score(test_table['Actuals'], test_table['glm']))\n",
    "avg1 = np.where(test_table['glm']<0.5,0,1)\n",
    "#print(avg)\n",
    "df_confusion = pd.crosstab(test_table['Actuals'], avg1)\n",
    "df_confusion"
   ]
  },
  {
   "cell_type": "code",
   "execution_count": 71,
   "metadata": {},
   "outputs": [
    {
     "data": {
      "text/plain": [
       "0.4060228452751817"
      ]
     },
     "execution_count": 71,
     "metadata": {},
     "output_type": "execute_result"
    }
   ],
   "source": [
    "from sklearn.metrics import f1_score\n",
    "f1_score(test_table['Actuals'], avg1)"
   ]
  },
  {
   "cell_type": "code",
   "execution_count": 73,
   "metadata": {},
   "outputs": [
    {
     "data": {
      "text/plain": [
       "0.7732366512854317"
      ]
     },
     "execution_count": 73,
     "metadata": {},
     "output_type": "execute_result"
    }
   ],
   "source": [
    "2346/(2346+688)"
   ]
  },
  {
   "cell_type": "markdown",
   "metadata": {},
   "source": [
    "### Tuning Random Forest Parameters"
   ]
  },
  {
   "cell_type": "code",
   "execution_count": null,
   "metadata": {
    "scrolled": true
   },
   "outputs": [],
   "source": [
    "param_grid = { \n",
    "    'n_estimators': [300,400,500],\n",
    "    'max_depth' : [6,7,8]\n",
    "}\n",
    "rfc = RandomForestClassifier(random_state=20)\n",
    "CV_rfc = GridSearchCV(estimator=rfc, param_grid=param_grid, cv= 3)\n",
    "CV_rfc.fit(x_train_res, y_train_res)"
   ]
  },
  {
   "cell_type": "code",
   "execution_count": null,
   "metadata": {},
   "outputs": [],
   "source": [
    "print(CV_rfc.best_params_)"
   ]
  },
  {
   "cell_type": "code",
   "execution_count": 61,
   "metadata": {},
   "outputs": [],
   "source": [
    "x1_train, x1_test, y1_train, y1_test = train_test_split(x_train_res,y_train_res,\n",
    "                                                stratify=y_train_res, \n",
    "                                                test_size=0.2,random_state=20)"
   ]
  },
  {
   "cell_type": "code",
   "execution_count": 63,
   "metadata": {},
   "outputs": [],
   "source": [
    "#x1_train.fillna(x1_train.median(),inplace=True)\n",
    "#x1_test.fillna(x1_test.median(),inplace=True)\n",
    "#test.fillna(test.median(),inplace=True)\n",
    "\n",
    "clf_rf = RandomForestClassifier(n_estimators=500,max_depth=8,random_state=20)\n",
    "clf_rf.fit(x1_train, y1_train)\n",
    "\n",
    "val_table['rf'] = clf_rf.predict_proba(x1_test)[:,1]\n",
    "test_table['rf'] = clf_rf.predict_proba(test)[:,1]"
   ]
  },
  {
   "cell_type": "code",
   "execution_count": 67,
   "metadata": {},
   "outputs": [
    {
     "name": "stdout",
     "output_type": "stream",
     "text": [
      "0.9854971701859689\n"
     ]
    },
    {
     "data": {
      "text/html": [
       "<div>\n",
       "<style scoped>\n",
       "    .dataframe tbody tr th:only-of-type {\n",
       "        vertical-align: middle;\n",
       "    }\n",
       "\n",
       "    .dataframe tbody tr th {\n",
       "        vertical-align: top;\n",
       "    }\n",
       "\n",
       "    .dataframe thead th {\n",
       "        text-align: right;\n",
       "    }\n",
       "</style>\n",
       "<table border=\"1\" class=\"dataframe\">\n",
       "  <thead>\n",
       "    <tr style=\"text-align: right;\">\n",
       "      <th>col_0</th>\n",
       "      <th>0</th>\n",
       "      <th>1</th>\n",
       "    </tr>\n",
       "    <tr>\n",
       "      <th>Actuals</th>\n",
       "      <th></th>\n",
       "      <th></th>\n",
       "    </tr>\n",
       "  </thead>\n",
       "  <tbody>\n",
       "    <tr>\n",
       "      <th>0</th>\n",
       "      <td>209216</td>\n",
       "      <td>4891</td>\n",
       "    </tr>\n",
       "    <tr>\n",
       "      <th>1</th>\n",
       "      <td>602</td>\n",
       "      <td>2432</td>\n",
       "    </tr>\n",
       "  </tbody>\n",
       "</table>\n",
       "</div>"
      ],
      "text/plain": [
       "col_0         0     1\n",
       "Actuals              \n",
       "0        209216  4891\n",
       "1           602  2432"
      ]
     },
     "execution_count": 67,
     "metadata": {},
     "output_type": "execute_result"
    }
   ],
   "source": [
    "print(roc_auc_score(test_table['Actuals'], test_table['rf']))\n",
    "avg1 = np.where(test_table['rf']<0.5,0,1)\n",
    "#print(avg)\n",
    "df_confusion = pd.crosstab(test_table['Actuals'], avg1)\n",
    "df_confusion"
   ]
  },
  {
   "cell_type": "code",
   "execution_count": 68,
   "metadata": {},
   "outputs": [
    {
     "data": {
      "text/plain": [
       "0.46963406391812307"
      ]
     },
     "execution_count": 68,
     "metadata": {},
     "output_type": "execute_result"
    }
   ],
   "source": [
    "from sklearn.metrics import f1_score\n",
    "f1_score(test_table['Actuals'],avg1)"
   ]
  },
  {
   "cell_type": "code",
   "execution_count": 69,
   "metadata": {},
   "outputs": [
    {
     "data": {
      "text/plain": [
       "0.8015820698747528"
      ]
     },
     "execution_count": 69,
     "metadata": {},
     "output_type": "execute_result"
    }
   ],
   "source": [
    "2432/(2432+602)"
   ]
  },
  {
   "cell_type": "markdown",
   "metadata": {},
   "source": [
    "###  Gradient Boosting"
   ]
  },
  {
   "cell_type": "code",
   "execution_count": 110,
   "metadata": {},
   "outputs": [],
   "source": [
    "x1_train, x1_test, y1_train, y1_test = train_test_split(x_train_res,y_train_res,\n",
    "                                                stratify=y_train_res, \n",
    "                                                test_size=0.2,random_state=20)"
   ]
  },
  {
   "cell_type": "code",
   "execution_count": 111,
   "metadata": {},
   "outputs": [],
   "source": [
    "x1_train.fillna(x1_train.median(),inplace=True)\n",
    "x1_test.fillna(x1_test.median(),inplace=True)\n",
    "test.fillna(test.median(),inplace=True)\n",
    "\n",
    "#cf_gb = GradientBoostingClassifier(learning_rate=0.03,max_depth=8,n_estimators=500,random_state=20)\n",
    "cf_gb = GradientBoostingClassifier(random_state=20)\n",
    "cf_gb.fit(x1_train, y1_train)\n",
    "\n",
    "val_gbm = cf_gb.predict_proba(x1_test)[:,1]\n",
    "test_gbm = cf_gb.predict_proba(test)[:,1]"
   ]
  },
  {
   "cell_type": "code",
   "execution_count": 118,
   "metadata": {},
   "outputs": [
    {
     "name": "stdout",
     "output_type": "stream",
     "text": [
      "0.9860230948541648\n"
     ]
    },
    {
     "data": {
      "text/html": [
       "<div>\n",
       "<style scoped>\n",
       "    .dataframe tbody tr th:only-of-type {\n",
       "        vertical-align: middle;\n",
       "    }\n",
       "\n",
       "    .dataframe tbody tr th {\n",
       "        vertical-align: top;\n",
       "    }\n",
       "\n",
       "    .dataframe thead th {\n",
       "        text-align: right;\n",
       "    }\n",
       "</style>\n",
       "<table border=\"1\" class=\"dataframe\">\n",
       "  <thead>\n",
       "    <tr style=\"text-align: right;\">\n",
       "      <th>col_0</th>\n",
       "      <th>0</th>\n",
       "      <th>1</th>\n",
       "    </tr>\n",
       "    <tr>\n",
       "      <th>Actuals</th>\n",
       "      <th></th>\n",
       "      <th></th>\n",
       "    </tr>\n",
       "  </thead>\n",
       "  <tbody>\n",
       "    <tr>\n",
       "      <th>0</th>\n",
       "      <td>208383</td>\n",
       "      <td>5724</td>\n",
       "    </tr>\n",
       "    <tr>\n",
       "      <th>1</th>\n",
       "      <td>460</td>\n",
       "      <td>2574</td>\n",
       "    </tr>\n",
       "  </tbody>\n",
       "</table>\n",
       "</div>"
      ],
      "text/plain": [
       "col_0         0     1\n",
       "Actuals              \n",
       "0        208383  5724\n",
       "1           460  2574"
      ]
     },
     "execution_count": 118,
     "metadata": {},
     "output_type": "execute_result"
    }
   ],
   "source": [
    "print(roc_auc_score(test_table['Actuals'], test_gbm))\n",
    "avg1 = np.where(test_gbm<0.3,0,1)\n",
    "#print(avg)\n",
    "df_confusion = pd.crosstab(test_table['Actuals'], avg1)\n",
    "df_confusion"
   ]
  },
  {
   "cell_type": "code",
   "execution_count": 120,
   "metadata": {},
   "outputs": [
    {
     "data": {
      "text/plain": [
       "0.8483849703361899"
      ]
     },
     "execution_count": 120,
     "metadata": {},
     "output_type": "execute_result"
    }
   ],
   "source": [
    "2574/(2574+460)"
   ]
  },
  {
   "cell_type": "code",
   "execution_count": null,
   "metadata": {},
   "outputs": [],
   "source": [
    "from sklearn.metrics import f1_score\n",
    "f1_score(test_table['Actuals'],avg1)"
   ]
  },
  {
   "cell_type": "markdown",
   "metadata": {},
   "source": [
    "#####################################################################################"
   ]
  },
  {
   "cell_type": "code",
   "execution_count": null,
   "metadata": {
    "scrolled": true
   },
   "outputs": [],
   "source": [
    "#acc_table_val = pd.DataFrame(columns = ['Test Values','Fold1_glm','Fold2_glm','Fold3_glm','Fold4_glm','Fold5_glm'])\n",
    "#acc_table_val['Test Values'] = y_test\n",
    "\n",
    "acc_table_test = pd.DataFrame(columns = ['Test Values','Fold1_glm','Fold2_glm','Fold3_glm','Fold4_glm','Fold5_glm','Fold1_rf','Fold2_rf','Fold3_rf','Fold4_rf','Fold5_rf','Fold1_xgb','Fold2_xgb','Fold3_xgb','Fold4_xgb','Fold5_xgb'])\n",
    "acc_table_test['Test Values'] = y_test\n",
    "cut_off_table = pd.DataFrame(columns=['Folds','Cut_off'])\n",
    "cut_off_table['Folds'] = ['Folds1','Folds2','Folds3','Folds4','Folds5']\n",
    "\n",
    "train_features = [_f for _f in x_train_res.columns if _f not in excluded_features]\n",
    "importances = pd.DataFrame()\n",
    "oof_reg_preds = np.zeros(x_train_res.shape[0])\n",
    "\n",
    "alg=LogisticRegression(penalty = 'l2', C = 0.01,random_state=20)\n",
    "#kf=KFold(x_train_res.shape[0],n_folds=5,random_state=20)\n",
    "#listfold=list(kf)\n",
    "#skf = cross_validation.StratifiedKFold(y_train_res[0], n_folds=5)\n",
    "test_preds = np.zeros(test.shape[0])\n",
    "test.fillna(test.median(),inplace=True)\n",
    "\n",
    "sub_reg_preds = np.zeros(test.shape[0])\n",
    "i =1\n",
    "for a,b in skf.split(x_train_res,y_train_res):\n",
    "    trn_x, trn_y = x_train_res[train_features].iloc[a], y_train_res[0].iloc[a]\n",
    "    val_x, val_y = x_train_res[train_features].iloc[b], y_train_res[0].iloc[b]\n",
    "    #print(trn_x.head())\n",
    "    trn_x.fillna(trn_x.median(),inplace=True)\n",
    "    val_x.fillna(val_x.median(),inplace=True)\n",
    "    lr = LogisticRegression(random_state = 0)\n",
    "    lr.fit(trn_x,trn_y)\n",
    "    oof_reg_preds = lr.predict_proba(val_x)[:,1]\n",
    "    print(\"Validation AUC-ROC value for Fold {} is {}\".format(i,roc_auc_score(val_y, oof_reg_preds)))\n",
    "    \n",
    "    from sklearn import metrics\n",
    "    fpr, tpr, thresholds = metrics.roc_curve(val_y,oof_reg_preds)\n",
    "    cut_off_table.iloc[i-1,1] = thresholds[np.argmax(tpr - fpr)]\n",
    "    \n",
    "    _preds = lr.predict_proba(test[train_features])[:,1]\n",
    "    acc_table_test.iloc[:,i] = _preds\n",
    "    i+=1\n",
    "    #sub_reg_preds += _preds# / len(folds)\n",
    "    #sub_reg_preds = np.add(sub_reg_preds,_preds)\n",
    "    \n",
    "        \n",
    "avg = (acc_table_test['Fold1_glm'] + acc_table_test['Fold2_glm'] +acc_table_test['Fold3_glm'] + acc_table_test['Fold4_glm'] + acc_table_test['Fold5_glm'])/5.0   \n",
    "print(\"Test AUC-ROC value is {}\".format(roc_auc_score(acc_table_test['Test Values'], avg)))"
   ]
  },
  {
   "cell_type": "code",
   "execution_count": null,
   "metadata": {},
   "outputs": [],
   "source": [
    "cut_off_table"
   ]
  },
  {
   "cell_type": "code",
   "execution_count": null,
   "metadata": {
    "scrolled": true
   },
   "outputs": [],
   "source": [
    "avg.describe()"
   ]
  },
  {
   "cell_type": "code",
   "execution_count": null,
   "metadata": {},
   "outputs": [],
   "source": [
    "avg1 = avg\n",
    "cut_off_table['Cut_off'].max(axis=0)\n",
    "avg1 = np.where(avg1<0.195079,0,1)\n",
    "#print(avg)\n",
    "df_confusion = pd.crosstab(acc_table_test['Test Values'], avg1)\n",
    "df_confusion"
   ]
  },
  {
   "cell_type": "code",
   "execution_count": null,
   "metadata": {},
   "outputs": [],
   "source": [
    "from sklearn.metrics import f1_score\n",
    "f1_score(acc_table_test['Test Values'], avg1)"
   ]
  },
  {
   "cell_type": "code",
   "execution_count": null,
   "metadata": {},
   "outputs": [],
   "source": [
    "from sklearn.model_selection import train_test_split\n",
    "train, test, y_train, y_test = train_test_split(X, y,\n",
    "                                                stratify=y, \n",
    "                                                test_size=0.3,random_state=20)\n",
    "\n",
    "from imblearn.over_sampling import SMOTE\n",
    "train.fillna(train.median(),inplace=True)\n",
    "sm = SMOTE(random_state=12, ratio = 0.2)\n",
    "x_train_res, y_train_res = sm.fit_sample(train, y_train)\n",
    "x_train_res = pd.DataFrame(x_train_res)\n",
    "x_train_res.columns = train.columns\n",
    "y_train_res = pd.DataFrame(y_train_res)\n",
    "#y_train_res.columns = y_train.columns"
   ]
  },
  {
   "cell_type": "code",
   "execution_count": null,
   "metadata": {},
   "outputs": [],
   "source": [
    "from sklearn.ensemble import RandomForestClassifier\n",
    "\n",
    "train_features = [_f for _f in x_train_res.columns if _f not in excluded_features]\n",
    "importances = pd.DataFrame()\n",
    "oof_reg_preds = np.zeros(x_train_res.shape[0])\n",
    "sub_reg_preds = np.zeros(test.shape[0])\n",
    "\n",
    "#acc_table = pd.DataFrame(columns = ['Test Values','Fold1','Fold2','Fold3','Fold4','Fold5'])\n",
    "#acc_table['Test Values'] = y_test\n",
    "\n",
    "cut_off_table = pd.DataFrame(columns=['Folds','Cut_off'])\n",
    "cut_off_table['Folds'] = ['Folds1','Folds2','Folds3','Folds4','Folds5']\n",
    "\n",
    "test.fillna(test.median(),inplace=True)\n",
    "\n",
    "i =6\n",
    "for a,b in skf:\n",
    "    trn_x, trn_y = x_train_res[train_features].iloc[a], y_train_res[0].iloc[a]\n",
    "    val_x, val_y = x_train_res[train_features].iloc[b], y_train_res[0].iloc[b]\n",
    "    \n",
    "    #trn_x.fillna(trn_x.median(),inplace=True)\n",
    "    #val_x.fillna(val_x.median(),inplace=True)\n",
    "    \n",
    "    clf_rf = RandomForestClassifier(n_estimators=200,random_state=10)\n",
    "    clf_rf.fit(trn_x, trn_y)\n",
    "    \n",
    "    oof_reg_preds = clf_rf.predict_proba(val_x)[:,1]\n",
    "    print(\"Validation AUC-ROC value for Fold {} is {}\".format(i-5,roc_auc_score(val_y, oof_reg_preds)))\n",
    "    \n",
    "    from sklearn import metrics\n",
    "    fpr, tpr, thresholds = metrics.roc_curve(val_y,oof_reg_preds)\n",
    "    cut_off_table.iloc[i-6,1] = thresholds[np.argmax(tpr - fpr)]\n",
    "    \n",
    "    _preds = clf_rf.predict_proba(test[train_features])[:,1]\n",
    "    acc_table_test.iloc[:,i] = _preds\n",
    "    i+=1\n",
    "    #_preds[_preds < 0] = 0\n",
    "    #sub_reg_preds = np.add(sub_reg_preds,_preds)\n",
    "\n",
    "avg = (acc_table_test['Fold1_rf'] + acc_table_test['Fold2_rf'] +acc_table_test['Fold3_rf'] + acc_table_test['Fold4_rf'] + acc_table_test['Fold5_rf'])/5.0   \n",
    "print(\"Test AUC-ROC value is {}\".format(roc_auc_score(acc_table_test['Test Values'], avg)))"
   ]
  },
  {
   "cell_type": "code",
   "execution_count": null,
   "metadata": {},
   "outputs": [],
   "source": [
    "cut_off_table"
   ]
  },
  {
   "cell_type": "code",
   "execution_count": null,
   "metadata": {},
   "outputs": [],
   "source": [
    "avg1 = avg\n",
    "cut_off_table['Cut_off'].max(axis=0)\n",
    "avg1 = np.where(avg1<0.585,0,1)\n",
    "#print(avg)\n",
    "df_confusion = pd.crosstab(acc_table_test['Test Values'], avg1)\n",
    "df_confusion"
   ]
  },
  {
   "cell_type": "code",
   "execution_count": null,
   "metadata": {},
   "outputs": [],
   "source": [
    "from sklearn.metrics import f1_score\n",
    "f1_score(acc_table_test['Test Values'], avg1)"
   ]
  },
  {
   "cell_type": "code",
   "execution_count": null,
   "metadata": {
    "scrolled": true
   },
   "outputs": [],
   "source": [
    "import xgboost as xgb\n",
    "from sklearn.cross_validation import KFold\n",
    "\n",
    "train_features = [_f for _f in x_train_res.columns if _f not in excluded_features]\n",
    "importances = pd.DataFrame()\n",
    "oof_reg_preds = np.zeros(x_train_res.shape[0])\n",
    "sub_reg_preds = np.zeros(test.shape[0])\n",
    "\n",
    "acc_table = pd.DataFrame(columns = ['Test Values','Fold1','Fold2','Fold3','Fold4','Fold5'])\n",
    "acc_table['Test Values'] = y_test\n",
    "\n",
    "cut_off_table = pd.DataFrame(columns=['Folds','Cut_off'])\n",
    "cut_off_table['Folds'] = ['Folds1','Folds2','Folds3','Folds4','Folds5']\n",
    "\n",
    "i =11\n",
    "for a,b in skf:\n",
    "    trn_x, trn_y = x_train_res[train_features].iloc[a], y_train_res[0].iloc[a]\n",
    "    val_x, val_y = x_train_res[train_features].iloc[b], y_train_res[0].iloc[b]\n",
    "    #print(trn_x.head())\n",
    "    #trn_x.fillna(trn_x.median(),inplace=True)\n",
    "    #val_x.fillna(val_x.median(),inplace=True)\n",
    "    clf = xgb.XGBClassifier(\n",
    "            num_leaves=31,\n",
    "            learning_rate=0.03,\n",
    "            n_estimators=500,\n",
    "            subsample=.9,\n",
    "            colsample_bytree=.9,\n",
    "            random_state=1\n",
    "        )\n",
    "    clf.fit(\n",
    "        trn_x, trn_y,\n",
    "        eval_set=[(val_x,val_y)],\n",
    "        early_stopping_rounds=20,\n",
    "        verbose=100,\n",
    "        eval_metric='auc'\n",
    "        #objective='multi:softprob'\n",
    "        )\n",
    "    imp_df = pd.DataFrame()\n",
    "    imp_df['feature'] = train_features\n",
    "    imp_df['gain'] = clf.feature_importances_\n",
    "\n",
    "    imp_df['fold'] = i\n",
    "    importances = pd.concat([importances, imp_df], axis=0)\n",
    "    \n",
    "    best_iteration = clf.get_booster().best_ntree_limit\n",
    "\n",
    "    oof_reg_preds = clf.predict_proba(val_x,best_iteration)[:,1]\n",
    "    #oof_reg_preds = lr.predict_proba(val_x)[:,1]\n",
    "    #print(oof_reg_preds)\n",
    "    print(\"Validation AUC-ROC value for Fold {} is {}\".format(i-10,roc_auc_score(val_y, oof_reg_preds)))\n",
    "    \n",
    "    from sklearn import metrics\n",
    "    fpr, tpr, thresholds = metrics.roc_curve(val_y,oof_reg_preds)\n",
    "    cut_off_table.iloc[i-11,1] = thresholds[np.argmax(tpr - fpr)]\n",
    "    \n",
    "    best_iteration = clf.get_booster().best_ntree_limit\n",
    "    #print(best_iteration)\n",
    "    #oof_reg_preds[oof_reg_preds < 0] = 0\n",
    "    _preds = clf.predict_proba(test[train_features],best_iteration)[:,1]\n",
    "    acc_table_test.iloc[:,i] = _preds\n",
    "    i+=1\n",
    "    #_preds[_preds < 0] = 0\n",
    "    #sub_reg_preds = np.add(sub_reg_preds,_preds)\n",
    "avg = (acc_table_test['Fold1_xgb'] + acc_table_test['Fold2_xgb'] +acc_table_test['Fold3_xgb'] + acc_table_test['Fold4_xgb'] + acc_table_test['Fold5_xgb'])/5.0   \n",
    "print(\"Test AUC-ROC value is {}\".format(roc_auc_score(acc_table_test['Test Values'], avg)))\n",
    "#print(\"Test AUC-ROC value is {}\".format(roc_auc_score(y_test, sub_reg_preds)))"
   ]
  },
  {
   "cell_type": "code",
   "execution_count": null,
   "metadata": {},
   "outputs": [],
   "source": [
    "cut_off_table"
   ]
  },
  {
   "cell_type": "code",
   "execution_count": null,
   "metadata": {},
   "outputs": [],
   "source": [
    "avg1 = avg\n",
    "cut_off_table['Cut_off'].max(axis=0)\n",
    "avg1 = np.where(avg1<0.458805,0,1)\n",
    "df_confusion = pd.crosstab(acc_table_test['Test Values'], avg1)\n",
    "from sklearn.metrics import f1_score\n",
    "print(f1_score(acc_table_test['Test Values'], avg1))\n",
    "#df_confusion = pd.crosstab(acc_table_test['Test Values'], avg1)\n",
    "df_confusion"
   ]
  },
  {
   "cell_type": "code",
   "execution_count": null,
   "metadata": {},
   "outputs": [],
   "source": [
    "#acc_table_test.iloc[:,1:16]\n",
    "ensemble_value = acc_table_test.iloc[:,1:15].mean(axis=1)\n",
    "print(\"Ensembled Test AUC-ROC value is {}\".format(roc_auc_score(acc_table_test['Test Values'], ensemble_value)))"
   ]
  },
  {
   "cell_type": "code",
   "execution_count": null,
   "metadata": {},
   "outputs": [],
   "source": [
    "avg1_v1 = np.where(ensemble_value<0.458805,0,1)\n",
    "df_confusion = pd.crosstab(acc_table_test['Test Values'], avg1_v1)\n",
    "from sklearn.metrics import f1_score\n",
    "print(f1_score(acc_table_test['Test Values'], avg1_v1))\n",
    "#df_confusion = pd.crosstab(acc_table_test['Test Values'], avg1)\n",
    "df_confusion"
   ]
  },
  {
   "cell_type": "code",
   "execution_count": null,
   "metadata": {},
   "outputs": [],
   "source": []
  }
 ],
 "metadata": {
  "kernelspec": {
   "display_name": "Python 3",
   "language": "python",
   "name": "python3"
  },
  "language_info": {
   "codemirror_mode": {
    "name": "ipython",
    "version": 3
   },
   "file_extension": ".py",
   "mimetype": "text/x-python",
   "name": "python",
   "nbconvert_exporter": "python",
   "pygments_lexer": "ipython3",
   "version": "3.6.4"
  }
 },
 "nbformat": 4,
 "nbformat_minor": 2
}
